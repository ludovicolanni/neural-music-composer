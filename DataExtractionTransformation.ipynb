{
  "nbformat": 4,
  "nbformat_minor": 0,
  "metadata": {
    "kernelspec": {
      "display_name": "Python 3",
      "language": "python",
      "name": "python3"
    },
    "language_info": {
      "codemirror_mode": {
        "name": "ipython",
        "version": 3
      },
      "file_extension": ".py",
      "mimetype": "text/x-python",
      "name": "python",
      "nbconvert_exporter": "python",
      "pygments_lexer": "ipython3",
      "version": "3.7.6"
    },
    "colab": {
      "name": "DataExtractionTransformation.ipynb",
      "provenance": [],
      "include_colab_link": true
    }
  },
  "cells": [
    {
      "cell_type": "markdown",
      "metadata": {
        "id": "view-in-github",
        "colab_type": "text"
      },
      "source": [
        "<a href=\"https://colab.research.google.com/github/ludovicolanni/neural-music-composer/blob/master/DataExtractionTransformation.ipynb\" target=\"_parent\"><img src=\"https://colab.research.google.com/assets/colab-badge.svg\" alt=\"Open In Colab\"/></a>"
      ]
    },
    {
      "cell_type": "markdown",
      "metadata": {
        "id": "n1gnMh8glXFl",
        "colab_type": "text"
      },
      "source": [
        "# Data Extraction and Transformation"
      ]
    },
    {
      "cell_type": "markdown",
      "metadata": {
        "id": "EkKrvtyElXFm",
        "colab_type": "text"
      },
      "source": [
        "This notebook consists in the following steps:\n",
        "<ol>\n",
        "<li> Download MIDI files from the MAESTRO datatset\n",
        "<li> Select a subset of the MAESTRO dataset\n",
        "<li> Parsed MIDI files into a piano-roll format\n",
        "<li> Encode MIDI files in a textual representation\n",
        "</ol>"
      ]
    },
    {
      "cell_type": "code",
      "metadata": {
        "id": "ms2CQhLnlXFn",
        "colab_type": "code",
        "colab": {}
      },
      "source": [
        "import numpy as np\n",
        "import pandas as pd\n",
        "import matplotlib.pyplot as plt\n",
        "import os\n",
        "import pretty_midi"
      ],
      "execution_count": null,
      "outputs": []
    },
    {
      "cell_type": "code",
      "metadata": {
        "id": "Te0bIMotlXFq",
        "colab_type": "code",
        "colab": {},
        "outputId": "cf5e973c-1f34-4eac-ce82-337a15c4385d"
      },
      "source": [
        "from IPython.core.display import HTML\n",
        "HTML(\"\"\"\n",
        "<style>\n",
        ".output_png {\n",
        "    display: table-cell;\n",
        "    text-align: center;\n",
        "    vertical-align: middle;\n",
        "}\n",
        "</style>\n",
        "\"\"\")"
      ],
      "execution_count": null,
      "outputs": [
        {
          "output_type": "execute_result",
          "data": {
            "text/html": [
              "\n",
              "<style>\n",
              ".output_png {\n",
              "    display: table-cell;\n",
              "    text-align: center;\n",
              "    vertical-align: middle;\n",
              "}\n",
              "</style>\n"
            ],
            "text/plain": [
              "<IPython.core.display.HTML object>"
            ]
          },
          "metadata": {
            "tags": []
          },
          "execution_count": 2
        }
      ]
    },
    {
      "cell_type": "code",
      "metadata": {
        "id": "gdoMrcZ5lXFt",
        "colab_type": "code",
        "colab": {},
        "outputId": "4a288d5d-6a52-4124-92a0-77ea46f71441"
      },
      "source": [
        "os.listdir()"
      ],
      "execution_count": null,
      "outputs": [
        {
          "output_type": "execute_result",
          "data": {
            "text/plain": [
              "['.ipynb_checkpoints',\n",
              " '2004',\n",
              " '2006',\n",
              " '2008',\n",
              " '2009',\n",
              " '2011',\n",
              " '2013',\n",
              " '2014',\n",
              " '2015',\n",
              " '2017',\n",
              " '2018',\n",
              " 'DataPreparation.ipynb',\n",
              " 'LICENSE',\n",
              " 'maestro-v2.0.0.csv',\n",
              " 'maestro-v2.0.0.json',\n",
              " 'MaestroMetadataExploration.ipynb',\n",
              " 'README']"
            ]
          },
          "metadata": {
            "tags": []
          },
          "execution_count": 3
        }
      ]
    },
    {
      "cell_type": "code",
      "metadata": {
        "id": "qmIls1v-lXFv",
        "colab_type": "code",
        "colab": {}
      },
      "source": [
        "mcsv = pd.read_csv('maestro-v2.0.0.csv')"
      ],
      "execution_count": null,
      "outputs": []
    },
    {
      "cell_type": "code",
      "metadata": {
        "id": "YN8PX6HPlXFx",
        "colab_type": "code",
        "colab": {}
      },
      "source": [
        "#select only the tracks with duration between 2 and 3 minutes\n",
        "\n",
        "mcsv_short = mcsv[(mcsv.duration>120) & (mcsv.duration<180)]"
      ],
      "execution_count": null,
      "outputs": []
    },
    {
      "cell_type": "code",
      "metadata": {
        "id": "qAA22hSYlXFz",
        "colab_type": "code",
        "colab": {},
        "outputId": "11492231-3b40-4e5c-eab0-05e914d38e8b"
      },
      "source": [
        "print('total duration (hours) of short dataset version: ',(mcsv_short.duration.sum())/3600)"
      ],
      "execution_count": null,
      "outputs": [
        {
          "output_type": "stream",
          "text": [
            "total duration (hours) of short dataset version:  4.053159927290833\n"
          ],
          "name": "stdout"
        }
      ]
    },
    {
      "cell_type": "code",
      "metadata": {
        "id": "KSo2qD4olXF1",
        "colab_type": "code",
        "colab": {},
        "outputId": "55b869e1-e94a-43c5-8658-cd06212f4c3e"
      },
      "source": [
        "print('number of tracks in short dataset version: ', mcsv_short.shape[0])"
      ],
      "execution_count": null,
      "outputs": [
        {
          "output_type": "stream",
          "text": [
            "number of tracks in short dataset version:  99\n"
          ],
          "name": "stdout"
        }
      ]
    },
    {
      "cell_type": "code",
      "metadata": {
        "id": "L7pOotT8lXF3",
        "colab_type": "code",
        "colab": {},
        "outputId": "5999068c-7185-4017-a412-321c76e69f5f"
      },
      "source": [
        "print('split details in short version dataset:')\n",
        "\n",
        "pd.DataFrame(data=mcsv_short.split.value_counts(), \n",
        "             index=['train','test','validation'])"
      ],
      "execution_count": null,
      "outputs": [
        {
          "output_type": "stream",
          "text": [
            "split details in short version dataset:\n"
          ],
          "name": "stdout"
        },
        {
          "output_type": "execute_result",
          "data": {
            "text/html": [
              "<div>\n",
              "<style scoped>\n",
              "    .dataframe tbody tr th:only-of-type {\n",
              "        vertical-align: middle;\n",
              "    }\n",
              "\n",
              "    .dataframe tbody tr th {\n",
              "        vertical-align: top;\n",
              "    }\n",
              "\n",
              "    .dataframe thead th {\n",
              "        text-align: right;\n",
              "    }\n",
              "</style>\n",
              "<table border=\"1\" class=\"dataframe\">\n",
              "  <thead>\n",
              "    <tr style=\"text-align: right;\">\n",
              "      <th></th>\n",
              "      <th>split</th>\n",
              "    </tr>\n",
              "  </thead>\n",
              "  <tbody>\n",
              "    <tr>\n",
              "      <th>train</th>\n",
              "      <td>68</td>\n",
              "    </tr>\n",
              "    <tr>\n",
              "      <th>test</th>\n",
              "      <td>20</td>\n",
              "    </tr>\n",
              "    <tr>\n",
              "      <th>validation</th>\n",
              "      <td>11</td>\n",
              "    </tr>\n",
              "  </tbody>\n",
              "</table>\n",
              "</div>"
            ],
            "text/plain": [
              "            split\n",
              "train          68\n",
              "test           20\n",
              "validation     11"
            ]
          },
          "metadata": {
            "tags": []
          },
          "execution_count": 8
        }
      ]
    },
    {
      "cell_type": "code",
      "metadata": {
        "id": "pF1s-mv7lXF5",
        "colab_type": "code",
        "colab": {}
      },
      "source": [
        "# let's try to load all midi files cited in specific version of mcsv data frame into a dictionary\n",
        "\n",
        "def load_midi(df):\n",
        "    \n",
        "    d = {}\n",
        "    d['file_names']=[]  # name of midi file as in the data frame\n",
        "    d['splits']=[]      # suggested split category \n",
        "    d['songs']=[]       # midi file parsed using a certain library\n",
        "    \n",
        "    for _,track in df.iterrows():\n",
        "        \n",
        "        #open correct folder and file\n",
        "        path = track.midi_filename\n",
        "        \n",
        "        #parse it with a midi library\n",
        "        pm = pretty_midi.PrettyMIDI(path)\n",
        "        \n",
        "        #edit the file_names list in d\n",
        "        d['file_names'].append(track.midi_filename)\n",
        "        #edit the splits list in d\n",
        "        d['splits'].append(track.split)\n",
        "        #edit the songs list in d\n",
        "        d['songs'].append(pm)\n",
        "        \n",
        "    return d     "
      ],
      "execution_count": null,
      "outputs": []
    },
    {
      "cell_type": "code",
      "metadata": {
        "id": "BxeX4SivlXF8",
        "colab_type": "code",
        "colab": {}
      },
      "source": [
        "#let's call the function and create the music dictionary\n",
        "\n",
        "music = load_midi(mcsv_short)"
      ],
      "execution_count": null,
      "outputs": []
    },
    {
      "cell_type": "code",
      "metadata": {
        "scrolled": true,
        "id": "KqUbo0iclXF-",
        "colab_type": "code",
        "colab": {},
        "outputId": "97284b2c-c2c9-4013-a999-2656389b3171"
      },
      "source": [
        "pd.DataFrame(music).head()"
      ],
      "execution_count": null,
      "outputs": [
        {
          "output_type": "execute_result",
          "data": {
            "text/html": [
              "<div>\n",
              "<style scoped>\n",
              "    .dataframe tbody tr th:only-of-type {\n",
              "        vertical-align: middle;\n",
              "    }\n",
              "\n",
              "    .dataframe tbody tr th {\n",
              "        vertical-align: top;\n",
              "    }\n",
              "\n",
              "    .dataframe thead th {\n",
              "        text-align: right;\n",
              "    }\n",
              "</style>\n",
              "<table border=\"1\" class=\"dataframe\">\n",
              "  <thead>\n",
              "    <tr style=\"text-align: right;\">\n",
              "      <th></th>\n",
              "      <th>file_names</th>\n",
              "      <th>splits</th>\n",
              "      <th>songs</th>\n",
              "    </tr>\n",
              "  </thead>\n",
              "  <tbody>\n",
              "    <tr>\n",
              "      <th>0</th>\n",
              "      <td>2009/MIDI-Unprocessed_11_R1_2009_06-09_ORIG_MI...</td>\n",
              "      <td>test</td>\n",
              "      <td>&lt;pretty_midi.pretty_midi.PrettyMIDI object at ...</td>\n",
              "    </tr>\n",
              "    <tr>\n",
              "      <th>1</th>\n",
              "      <td>2009/MIDI-Unprocessed_02_R1_2009_03-06_ORIG_MI...</td>\n",
              "      <td>test</td>\n",
              "      <td>&lt;pretty_midi.pretty_midi.PrettyMIDI object at ...</td>\n",
              "    </tr>\n",
              "    <tr>\n",
              "      <th>2</th>\n",
              "      <td>2009/MIDI-Unprocessed_02_R1_2009_03-06_ORIG_MI...</td>\n",
              "      <td>validation</td>\n",
              "      <td>&lt;pretty_midi.pretty_midi.PrettyMIDI object at ...</td>\n",
              "    </tr>\n",
              "    <tr>\n",
              "      <th>3</th>\n",
              "      <td>2009/MIDI-Unprocessed_11_R1_2009_06-09_ORIG_MI...</td>\n",
              "      <td>validation</td>\n",
              "      <td>&lt;pretty_midi.pretty_midi.PrettyMIDI object at ...</td>\n",
              "    </tr>\n",
              "    <tr>\n",
              "      <th>4</th>\n",
              "      <td>2008/MIDI-Unprocessed_07_R3_2008_01-05_ORIG_MI...</td>\n",
              "      <td>train</td>\n",
              "      <td>&lt;pretty_midi.pretty_midi.PrettyMIDI object at ...</td>\n",
              "    </tr>\n",
              "  </tbody>\n",
              "</table>\n",
              "</div>"
            ],
            "text/plain": [
              "                                          file_names      splits  \\\n",
              "0  2009/MIDI-Unprocessed_11_R1_2009_06-09_ORIG_MI...        test   \n",
              "1  2009/MIDI-Unprocessed_02_R1_2009_03-06_ORIG_MI...        test   \n",
              "2  2009/MIDI-Unprocessed_02_R1_2009_03-06_ORIG_MI...  validation   \n",
              "3  2009/MIDI-Unprocessed_11_R1_2009_06-09_ORIG_MI...  validation   \n",
              "4  2008/MIDI-Unprocessed_07_R3_2008_01-05_ORIG_MI...       train   \n",
              "\n",
              "                                               songs  \n",
              "0  <pretty_midi.pretty_midi.PrettyMIDI object at ...  \n",
              "1  <pretty_midi.pretty_midi.PrettyMIDI object at ...  \n",
              "2  <pretty_midi.pretty_midi.PrettyMIDI object at ...  \n",
              "3  <pretty_midi.pretty_midi.PrettyMIDI object at ...  \n",
              "4  <pretty_midi.pretty_midi.PrettyMIDI object at ...  "
            ]
          },
          "metadata": {
            "tags": []
          },
          "execution_count": 11
        }
      ]
    },
    {
      "cell_type": "code",
      "metadata": {
        "id": "Em1kxHjAlXGA",
        "colab_type": "code",
        "colab": {}
      },
      "source": [
        "#adding a dictionary key for the list of piano-roll matrices at 8 frames-per-second resolution\n",
        "\n",
        "music['pianoroll']=[song.instruments[0].get_piano_roll(fs=8) for song in music['songs']]"
      ],
      "execution_count": null,
      "outputs": []
    },
    {
      "cell_type": "code",
      "metadata": {
        "id": "uzeoFUa_lXGC",
        "colab_type": "code",
        "colab": {},
        "outputId": "51f01d32-16e5-43a1-b0d2-0fee855392c4"
      },
      "source": [
        "#check the 1st dimension of the pianoroll matrix: number of pitches\n",
        "\n",
        "set([x.shape[0] for x in music['pianoroll']])"
      ],
      "execution_count": null,
      "outputs": [
        {
          "output_type": "execute_result",
          "data": {
            "text/plain": [
              "{128}"
            ]
          },
          "metadata": {
            "tags": []
          },
          "execution_count": 13
        }
      ]
    },
    {
      "cell_type": "code",
      "metadata": {
        "id": "ccefGrc4lXGE",
        "colab_type": "code",
        "colab": {},
        "outputId": "9e84ec21-9cab-4e94-c36a-f8931fadae32"
      },
      "source": [
        "#check the 2nd dimension of the pianoroll matrix: number of time frames\n",
        "\n",
        "plt.figure()\n",
        "plt.plot([x.shape[1] for x in music['pianoroll']],'+')\n",
        "plt.xlabel('Song ID')\n",
        "plt.ylabel('Duration in time frames')\n",
        "plt.title('Inspection of Duration at 8 frames-per-second')\n",
        "plt.show()"
      ],
      "execution_count": null,
      "outputs": [
        {
          "output_type": "display_data",
          "data": {
            "image/png": "[encoded data removed]",
            "text/plain": [
              "<Figure size 432x288 with 1 Axes>"
            ]
          },
          "metadata": {
            "tags": [],
            "needs_background": "light"
          }
        }
      ]
    },
    {
      "cell_type": "code",
      "metadata": {
        "id": "Ko0t9gHBlXGF",
        "colab_type": "code",
        "colab": {},
        "outputId": "dff4321f-fd79-41dc-923e-f32db7897783"
      },
      "source": [
        "# try to convert a column of the matrix to a text string\n",
        "\n",
        "c=136    # test column number -> full\n",
        "\n",
        "test_pr = music['pianoroll'][0]      # test piano roll matrix\n",
        "\n",
        "test_column = test_pr[:,c]       # test column\n",
        "\n",
        "pitches = np.argwhere(test_column!=0).flatten()\n",
        "velocities = test_column[np.argwhere(test_column!=0)].flatten()\n",
        "\n",
        "s=''\n",
        "i=0\n",
        "\n",
        "while i < len(pitches):\n",
        "    \n",
        "    if i != len(pitches)-1:\n",
        "        s = s + str(pretty_midi.note_number_to_name(pitches[i])) + '-' + str(int(velocities[i])) + '|'\n",
        "        \n",
        "    else:\n",
        "        s = s + str(pretty_midi.note_number_to_name(pitches[i])) + '-' + str(int(velocities[i]))\n",
        "    \n",
        "    i = i+1\n",
        "    \n",
        "print(s)"
      ],
      "execution_count": null,
      "outputs": [
        {
          "output_type": "stream",
          "text": [
            "\n"
          ],
          "name": "stdout"
        }
      ]
    },
    {
      "cell_type": "code",
      "metadata": {
        "id": "OROv7jxHlXGH",
        "colab_type": "code",
        "colab": {},
        "outputId": "7f38eaff-9cd0-44f3-daba-4c1edb4e9d53"
      },
      "source": [
        "# try to convert a column of the matrix to a text string with support for empty time steps\n",
        "\n",
        "c=2    # test column number -> empty\n",
        "\n",
        "test_pr = music['pianoroll'][0]      # test piano roll matrix\n",
        "\n",
        "test_column = test_pr[:,c]       # test column\n",
        "\n",
        "pitches = np.argwhere(test_column!=0).flatten()\n",
        "velocities = test_column[np.argwhere(test_column!=0)].flatten()\n",
        "\n",
        "if len(pitches)==0:\n",
        "    \n",
        "    s='e'\n",
        "\n",
        "else:\n",
        "    \n",
        "    s=''\n",
        "    i=0\n",
        "    \n",
        "    while i < len(pitches):\n",
        "        \n",
        "        if i != len(pitches)-1:\n",
        "            s = s + str(pretty_midi.note_number_to_name(pitches[i])) + '-' + str(int(velocities[i])) + '|'\n",
        "            \n",
        "        else:\n",
        "            s = s + str(pretty_midi.note_number_to_name(pitches[i])) + '-' + str(int(velocities[i]))\n",
        "        \n",
        "        i = i+1\n",
        "    \n",
        "print(s)"
      ],
      "execution_count": null,
      "outputs": [
        {
          "output_type": "stream",
          "text": [
            "e\n"
          ],
          "name": "stdout"
        }
      ]
    },
    {
      "cell_type": "code",
      "metadata": {
        "id": "WlgOJNuplXGJ",
        "colab_type": "code",
        "colab": {},
        "outputId": "aab388a1-9bab-4c32-8ae5-a87a7481e3bd"
      },
      "source": [
        "# try to convert each column of the matrix to a list of text strings\n",
        "\n",
        "\n",
        "test_pr = music['pianoroll'][0]      # test piano roll matrix\n",
        "\n",
        "n = test_pr.shape[1]\n",
        "\n",
        "t = []\n",
        "\n",
        "for c in range(n):         # loop over the columns of the matrix\n",
        "\n",
        "    test_column = test_pr[:,c]       # test column c\n",
        "    \n",
        "    pitches = np.argwhere(test_column!=0).flatten()\n",
        "    velocities = test_column[np.argwhere(test_column!=0)].flatten()\n",
        "    \n",
        "    if len(pitches)==0:\n",
        "        \n",
        "        s='e'\n",
        "    \n",
        "    else:\n",
        "        \n",
        "        s=''\n",
        "        i=0\n",
        "        \n",
        "        while i < len(pitches):\n",
        "            \n",
        "            if i != len(pitches)-1:\n",
        "                s = s + str(pretty_midi.note_number_to_name(pitches[i])) + '-' + str(int(velocities[i])) + '|'\n",
        "                \n",
        "            else:\n",
        "                s = s + str(pretty_midi.note_number_to_name(pitches[i])) + '-' + str(int(velocities[i]))\n",
        "            \n",
        "            i = i+1\n",
        "        \n",
        "    t.append(s)\n",
        "    \n",
        "print(t[:20])\n",
        "print('length of the list: ', len(t))\n",
        "print('number of columns in the matrix (number of timesteps): ', n)"
      ],
      "execution_count": null,
      "outputs": [
        {
          "output_type": "stream",
          "text": [
            "['e', 'e', 'e', 'e', 'e', 'e', 'e', 'A4-40', 'A#3-20|E4-34|A4-40', 'A#3-20|E4-34|A4-40', 'A#3-20|E4-34|A4-40', 'A#3-20|E4-34|A4-40', 'A#3-20|E4-34|A4-40', 'A#3-20|E4-34|A4-40|E5-43|F#5-55', 'A#3-20|E4-34|A4-40|E5-43|F#5-55|A5-52', 'A#3-20|E4-34|A4-40|E5-43|F#5-55|A5-52|C6-61', 'A#3-20|E4-34|A4-40|C6-61', 'A#3-20|E4-34|A4-40|C6-61', 'A#3-20|E4-34|A4-40|C6-61', 'A#3-20|E4-34|A4-40|C6-61']\n",
            "length of the list:  1311\n",
            "number of columns in the matrix (number of timesteps):  1311\n"
          ],
          "name": "stdout"
        }
      ]
    },
    {
      "cell_type": "code",
      "metadata": {
        "id": "4FEjlOHGlXGL",
        "colab_type": "code",
        "colab": {}
      },
      "source": [
        "# At this point we managed to convert a piano-roll matrix \n",
        "# into a list of strings with length equal to the number of timesteps in the piano roll."
      ],
      "execution_count": null,
      "outputs": []
    },
    {
      "cell_type": "code",
      "metadata": {
        "id": "9CJRcxUdlXGN",
        "colab_type": "code",
        "colab": {},
        "outputId": "c9bdc2dd-7c5d-4af8-d79e-757ae53396ba"
      },
      "source": [
        "# try to convert the entire set of piano-roll matrices into a list of lists of text strings\n",
        "\n",
        "l = len(music['pianoroll'])\n",
        "p = []\n",
        "\n",
        "for x in range(l):      # loop over the pianoroll matrices\n",
        "\n",
        "    test_pr = music['pianoroll'][x]      # test piano roll matrix\n",
        "    \n",
        "    n = test_pr.shape[1]\n",
        "    \n",
        "    t = []\n",
        "    \n",
        "    for c in range(n):         # loop over the columns of the matrix\n",
        "    \n",
        "        test_column = test_pr[:,c]       # test column c\n",
        "        \n",
        "        pitches = np.argwhere(test_column!=0).flatten()\n",
        "        velocities = test_column[np.argwhere(test_column!=0)].flatten()\n",
        "        \n",
        "        if len(pitches)==0:\n",
        "            \n",
        "            s='e'\n",
        "        \n",
        "        else:\n",
        "            \n",
        "            s=''\n",
        "            i=0\n",
        "            \n",
        "            while i < len(pitches):\n",
        "                \n",
        "                if i != len(pitches)-1:\n",
        "                    s = s + str(pretty_midi.note_number_to_name(pitches[i])) + '-' + str(int(velocities[i])) + '|'\n",
        "                    \n",
        "                else:\n",
        "                    s = s + str(pretty_midi.note_number_to_name(pitches[i])) + '-' + str(int(velocities[i]))\n",
        "                \n",
        "                i = i+1\n",
        "            \n",
        "        t.append(s)\n",
        "    \n",
        "    p.append(t)\n",
        "        \n",
        "\n",
        "print('length of the full list of songs: ', len(p))\n",
        "print('number of songs in the dataset: ', l)"
      ],
      "execution_count": null,
      "outputs": [
        {
          "output_type": "stream",
          "text": [
            "length of the full list of songs:  99\n",
            "number of songs in the dataset:  99\n"
          ],
          "name": "stdout"
        }
      ]
    },
    {
      "cell_type": "code",
      "metadata": {
        "id": "oCV2HXNglXGP",
        "colab_type": "code",
        "colab": {}
      },
      "source": [
        "# encapsulate the above process in a function that outputs a single text string for each song.\n",
        "\n",
        "def from_pianoroll_to_text(data):\n",
        "    \n",
        "    '''This function converts a MIDI pianoroll dataset (in the form of a list of 2D numpy arrays) into a text representation (in the form of a list of strings). It returns a list of n strings of variable length m, where n is the number of songs and m is proportional to the number of timesteps in a specific song.\n",
        "    Each timestep in a song string is separated by a blank space and the code for a single timestep is of type 'NOTE_NAME-VELOCITY|NOTE_NAME-VELOCITY|...'. Where no notes are played in a certain timestep, the corresponding empty character is encoded as e. '''\n",
        "\n",
        "\n",
        "    l = len(data)\n",
        "    p = []\n",
        "    \n",
        "    for x in range(l):      # loop over the pianoroll matrices\n",
        "    \n",
        "        test_pr = data[x]      # test piano roll matrix\n",
        "        \n",
        "        n = test_pr.shape[1]\n",
        "        \n",
        "        t = []\n",
        "        \n",
        "        for c in range(n):         # loop over the columns of the matrix\n",
        "        \n",
        "            test_column = test_pr[:,c]       # test column c\n",
        "            \n",
        "            pitches = np.argwhere(test_column!=0).flatten()\n",
        "            velocities = test_column[np.argwhere(test_column!=0)].flatten()\n",
        "            \n",
        "            if len(pitches)==0:\n",
        "                \n",
        "                s='e'\n",
        "            \n",
        "            else:\n",
        "                \n",
        "                s=''\n",
        "                i=0\n",
        "                \n",
        "                while i < len(pitches):\n",
        "                    \n",
        "                    if i != len(pitches)-1:\n",
        "                        s = s + str(pretty_midi.note_number_to_name(pitches[i])) + '-' + str(int(velocities[i])) + '|'\n",
        "                        \n",
        "                    else:\n",
        "                        s = s + str(pretty_midi.note_number_to_name(pitches[i])) + '-' + str(int(velocities[i]))\n",
        "                    \n",
        "                    i = i+1\n",
        "                \n",
        "            t.append(s)\n",
        "        \n",
        "        p.append(t)\n",
        "        \n",
        "    p = [\" \".join(song) for song in p]\n",
        "        \n",
        "    return p"
      ],
      "execution_count": null,
      "outputs": []
    },
    {
      "cell_type": "code",
      "metadata": {
        "id": "GL-EjZcqlXGQ",
        "colab_type": "code",
        "colab": {}
      },
      "source": [
        "# apply the function to the pianoroll dataset\n",
        "\n",
        "music['text'] = from_pianoroll_to_text(music['pianoroll'])"
      ],
      "execution_count": null,
      "outputs": []
    },
    {
      "cell_type": "code",
      "metadata": {
        "id": "NZzPPLp0lXGS",
        "colab_type": "code",
        "colab": {},
        "outputId": "c83d5376-d978-4885-c1ff-7227ea809c27"
      },
      "source": [
        "# example of output\n",
        "\n",
        "music['text'][0][:512]"
      ],
      "execution_count": null,
      "outputs": [
        {
          "output_type": "execute_result",
          "data": {
            "text/plain": [
              "'e e e e e e e A4-40 A#3-20|E4-34|A4-40 A#3-20|E4-34|A4-40 A#3-20|E4-34|A4-40 A#3-20|E4-34|A4-40 A#3-20|E4-34|A4-40 A#3-20|E4-34|A4-40|E5-43|F#5-55 A#3-20|E4-34|A4-40|E5-43|F#5-55|A5-52 A#3-20|E4-34|A4-40|E5-43|F#5-55|A5-52|C6-61 A#3-20|E4-34|A4-40|C6-61 A#3-20|E4-34|A4-40|C6-61 A#3-20|E4-34|A4-40|C6-61 A#3-20|E4-34|A4-40|C6-61 A#3-20|E4-34|A4-40|C6-61 A#3-20|E4-34|A4-40|C6-61 A#3-20|E4-34|A4-40|C6-61 A#3-20|E4-34|A4-40|C6-61 A#3-20|E4-34|F#4-38|A4-40|C#5-37|C6-61 A#3-20|E4-34|F#4-38|A4-40|C#5-37|C6-61 A#3-2'"
            ]
          },
          "metadata": {
            "tags": []
          },
          "execution_count": 22
        }
      ]
    },
    {
      "cell_type": "code",
      "metadata": {
        "id": "-mggZoA1lXGU",
        "colab_type": "code",
        "colab": {},
        "outputId": "811516fe-e631-451b-8e6d-546ac0bb31e2"
      },
      "source": [
        "# check the number of song strings in the text dataset\n",
        "\n",
        "len(music['text'])"
      ],
      "execution_count": null,
      "outputs": [
        {
          "output_type": "execute_result",
          "data": {
            "text/plain": [
              "99"
            ]
          },
          "metadata": {
            "tags": []
          },
          "execution_count": 23
        }
      ]
    },
    {
      "cell_type": "code",
      "metadata": {
        "id": "1x0Acyu9lXGV",
        "colab_type": "code",
        "colab": {},
        "outputId": "bc5ee987-5ee4-40a1-f438-4d0ca3df01ae"
      },
      "source": [
        "#check the length of the different song in terms of number of character in the corresponding string.\n",
        "\n",
        "plt.figure()\n",
        "plt.plot([len(x) for x in music['text']],'+')\n",
        "plt.xlabel('Song string ID')\n",
        "plt.ylabel('Duration in number of characters')\n",
        "plt.title('Inspection of Duration at 8 frames-per-second')\n",
        "plt.show()"
      ],
      "execution_count": null,
      "outputs": [
        {
          "output_type": "display_data",
          "data": {
            "image/png": "[encoded data removed]",
            "text/plain": [
              "<Figure size 432x288 with 1 Axes>"
            ]
          },
          "metadata": {
            "tags": [],
            "needs_background": "light"
          }
        }
      ]
    },
    {
      "cell_type": "code",
      "metadata": {
        "id": "HTpXEVnWlXGY",
        "colab_type": "code",
        "colab": {},
        "outputId": "1ae9c7fc-d7fd-4849-c9ae-4a125ac3be3e"
      },
      "source": [
        "# let's check the size of music dictionary in bytes\n",
        "\n",
        "from sys import getsizeof\n",
        "\n",
        "print(getsizeof(music))"
      ],
      "execution_count": null,
      "outputs": [
        {
          "output_type": "stream",
          "text": [
            "240\n"
          ],
          "name": "stdout"
        }
      ]
    },
    {
      "cell_type": "code",
      "metadata": {
        "id": "rFKdu4hulXGZ",
        "colab_type": "code",
        "colab": {}
      },
      "source": [
        "import pickle \n",
        "\n",
        "# let's define a function for saving the dictionary to disk\n",
        "\n",
        "def save_obj(obj,filename):\n",
        "    with open(filename, 'wb') as f:\n",
        "        pickle.dump(obj, f, pickle.HIGHEST_PROTOCOL)\n",
        "\n",
        "        \n",
        "# let's define a function for loading the dictionary from disk\n",
        "\n",
        "def load_obj(filename):\n",
        "    with open(filename, 'rb') as f:\n",
        "        return pickle.load(f)"
      ],
      "execution_count": null,
      "outputs": []
    },
    {
      "cell_type": "code",
      "metadata": {
        "id": "ISMPIykWlXGb",
        "colab_type": "code",
        "colab": {}
      },
      "source": [
        "# let's save the music dictionary\n",
        "\n",
        "save_obj(music, 'music.pkl')"
      ],
      "execution_count": null,
      "outputs": []
    }
  ]
}