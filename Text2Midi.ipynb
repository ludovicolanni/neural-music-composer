{
  "nbformat": 4,
  "nbformat_minor": 0,
  "metadata": {
    "colab": {
      "name": "Text2Midi.ipynb",
      "provenance": [],
      "collapsed_sections": [],
      "toc_visible": true,
      "authorship_tag": "ABX9TyPNJKojRyI0IRzCvFwwp5kq",
      "include_colab_link": true
    },
    "kernelspec": {
      "name": "python3",
      "display_name": "Python 3"
    }
  },
  "cells": [
    {
      "cell_type": "markdown",
      "metadata": {
        "id": "view-in-github",
        "colab_type": "text"
      },
      "source": [
        "<a href=\"https://colab.research.google.com/github/ludovicolanni/neural-music-composer/blob/master/Text2Midi.ipynb\" target=\"_parent\"><img src=\"https://colab.research.google.com/assets/colab-badge.svg\" alt=\"Open In Colab\"/></a>"
      ]
    },
    {
      "cell_type": "markdown",
      "metadata": {
        "id": "fzgrdFCsZi8r",
        "colab_type": "text"
      },
      "source": [
        "# From Symbolic Text to MIDI File"
      ]
    },
    {
      "cell_type": "code",
      "metadata": {
        "id": "v_E12DJuDJwZ",
        "colab_type": "code",
        "colab": {
          "base_uri": "https://localhost:8080/",
          "height": 289
        },
        "outputId": "8b72a8c4-ec9a-4159-b872-3f57e0a1e3a4"
      },
      "source": [
        "!pip install pretty-midi\n",
        "\n",
        "import os\n",
        "import numpy as np\n",
        "import matplotlib.pyplot as plt\n",
        "import pretty_midi"
      ],
      "execution_count": null,
      "outputs": [
        {
          "output_type": "stream",
          "text": [
            "Collecting pretty-midi\n",
            "\u001b[?25l  Downloading https://files.pythonhosted.org/packages/bc/8e/63c6e39a7a64623a9cd6aec530070c70827f6f8f40deec938f323d7b1e15/pretty_midi-0.2.9.tar.gz (5.6MB)\n",
            "\u001b[K     |████████████████████████████████| 5.6MB 2.5MB/s \n",
            "\u001b[?25hRequirement already satisfied: numpy>=1.7.0 in /usr/local/lib/python3.6/dist-packages (from pretty-midi) (1.18.5)\n",
            "Collecting mido>=1.1.16\n",
            "\u001b[?25l  Downloading https://files.pythonhosted.org/packages/20/0a/81beb587b1ae832ea6a1901dc7c6faa380e8dd154e0a862f0a9f3d2afab9/mido-1.2.9-py2.py3-none-any.whl (52kB)\n",
            "\u001b[K     |████████████████████████████████| 61kB 5.9MB/s \n",
            "\u001b[?25hRequirement already satisfied: six in /usr/local/lib/python3.6/dist-packages (from pretty-midi) (1.15.0)\n",
            "Building wheels for collected packages: pretty-midi\n",
            "  Building wheel for pretty-midi (setup.py) ... \u001b[?25l\u001b[?25hdone\n",
            "  Created wheel for pretty-midi: filename=pretty_midi-0.2.9-cp36-none-any.whl size=5591953 sha256=0a6bd214ea7fe74444aa9565f0221260cd2e354173c404d3f1cd16f97efcd9e9\n",
            "  Stored in directory: /root/.cache/pip/wheels/4c/a1/c6/b5697841db1112c6e5866d75a6b6bf1bef73b874782556ba66\n",
            "Successfully built pretty-midi\n",
            "Installing collected packages: mido, pretty-midi\n",
            "Successfully installed mido-1.2.9 pretty-midi-0.2.9\n"
          ],
          "name": "stdout"
        }
      ]
    },
    {
      "cell_type": "code",
      "metadata": {
        "id": "bD8sr0XzDPQH",
        "colab_type": "code",
        "colab": {
          "base_uri": "https://localhost:8080/",
          "height": 121
        },
        "outputId": "4f6cc61d-190c-4357-8390-0b43ca8d773c"
      },
      "source": [
        "from google.colab import drive\n",
        "drive.mount('/content/drive')"
      ],
      "execution_count": null,
      "outputs": [
        {
          "output_type": "stream",
          "text": [
            "Go to this URL in a browser: https://accounts.google.com/o/oauth2/auth?client_id=947318989803-6bn6qk8qdgf4n4g3pfee6491hc0brc4i.apps.googleusercontent.com&redirect_uri=urn%3aietf%3awg%3aoauth%3a2.0%3aoob&response_type=code&scope=email%20https%3a%2f%2fwww.googleapis.com%2fauth%2fdocs.test%20https%3a%2f%2fwww.googleapis.com%2fauth%2fdrive%20https%3a%2f%2fwww.googleapis.com%2fauth%2fdrive.photos.readonly%20https%3a%2f%2fwww.googleapis.com%2fauth%2fpeopleapi.readonly\n",
            "\n",
            "Enter your authorization code:\n",
            "··········\n",
            "Mounted at /content/drive\n"
          ],
          "name": "stdout"
        }
      ]
    },
    {
      "cell_type": "code",
      "metadata": {
        "id": "4iYKEz_rDiD8",
        "colab_type": "code",
        "colab": {}
      },
      "source": [
        "with open('/content/drive/My Drive/RNN_generatedtext/results_lstm_t05_n1000.txt', 'r') as file:\n",
        "    results_lstm_t05_n1000 = file.read()"
      ],
      "execution_count": null,
      "outputs": []
    },
    {
      "cell_type": "code",
      "metadata": {
        "id": "I2cYuW75GHBL",
        "colab_type": "code",
        "colab": {
          "base_uri": "https://localhost:8080/",
          "height": 221
        },
        "outputId": "2303a517-ca2e-4563-a037-58dfff82c85e"
      },
      "source": [
        "results_lstm_t05_n1000"
      ],
      "execution_count": null,
      "outputs": [
        {
          "output_type": "execute_result",
          "data": {
            "application/vnd.google.colaboratory.intrinsic+json": {
              "type": "string"
            },
            "text/plain": [
              "' F4-67|B4-75 e e F#4-66|A4-82 e A4-73 D#4-71 D#4-71 A4-73 C#4-56|A4-65 e F#5-63 F#5-63 B4-45|F#5-63 B4-45 A4-51 e E4-44 e G#4-69 e e A3-47|E4-59 E4-59 A4-71 G#4-80 e G#3-61|E4-67 E4-67|A4-65 E3-77 E4-76 A3-63|E4-82 A3-63|E4-82|C#5-83 E4-82|A4-84 F#3-69|G#4-88 e G#3-69|E4-76 G#3-69|E4-76|E5-83 C#5-88|D#5-90 A3-86|B4-79 e B3-87|G#4-87|A4-79 B4-83 e F#4-85 e E2-74|E4-77 E2-74|E4-77 E2-74|E4-77 E2-74|E4-77 E2-74|E4-77|E5-86 E2-74|E4-77|E5-86 E2-74|E4-77|E5-86|F5-82 E2-74|E4-77|E5-86|F5-82 E2-54|F5-82 E2-54|D5-72 A2-57|F5-73 G2-49|D5-66 G2-47|A4-63 G4-63 G4-62 G4-60 A4-61 B4-63 A4-63 A4-65 A4-65 A2-57|B4-66 A2-69|B4-70 A2-67 G2-67 G2-61|B4-70 A2-57|C5-71 D2-57|G3-61|F#4-71 D2-59|A4-66 F2-51|A#3-51|A4-69 C3-63|D4-59|D5-65 A2-51|D3-59|D5-59 C2-59|A3-59|G4-65|C5-62 A2-53|A#3-56|A#4-66|D5-66 A2-45|D3-54|A4-65|C5-64 A2-45|C3-54|D5-58 C2-51|C3-53|A#4-59 G2-51|A3-56|A4-62 B2-50|A3-50|A4-63 A2-53|C#3-56|A3-57|A4-53 C3-51|A3-60|C#4-63|E4-64 A2-44|C3-55|C3-60|E4-65 A2-47|D3-62|F#4-61 A2-57|F3-56|A3-53|C#4-65 C3-69|D4-69 A4-67 C3-63|F3-63|F4-66 A2-63|C3-68|B3-68 A2-67|A3-60|A4-63 A2-57|C#4-68 C3-65|A3-63|D4-64 C3-63|D4-65 A2-77|E3-65|G4-65 A2-56|A3-60|A4-63 A2-66|A3-69|D#4-66 A2-65|A2-67|A3-63|A4-69 A2-51|A3-66|A4-62 A2-57|C3-64|C3-66|A3-52|A4-60 A2-56|C3-63|A3-61|G#4-66 A2-47|A3-60|D4-63|A4-67 A2-48|A3-63|D4-62|A4-64 A2-45|C3-63|C3-56|F4-61 A2-48|C3-45|A3-56|C4-57|D4-52 A2-48|D3-52|D4-50|C4-45|D5-51 C2-55|C3-50|D4-51|C#4-56|A4-58 F2-43|A3-44|C#5-52 A2-46|C3-54|D4-52|D#4-52 A2-48|D3-50|A4-51 C3-51|C3-44'"
            ]
          },
          "metadata": {
            "tags": []
          },
          "execution_count": 28
        }
      ]
    },
    {
      "cell_type": "markdown",
      "metadata": {
        "id": "T_Lbb3mMZwQt",
        "colab_type": "text"
      },
      "source": [
        "## Text to Piano-roll"
      ]
    },
    {
      "cell_type": "code",
      "metadata": {
        "id": "9F36jzG9GHUL",
        "colab_type": "code",
        "colab": {}
      },
      "source": [
        "# convert a text string into a piano-roll format\n",
        "\n",
        "def text_to_pianoroll(test):\n",
        "\n",
        "  ''' This function converts a symbolic music textual sequence, namely test, into a piano-roll matrix of shape (pitches,timesteps)  '''\n",
        "\n",
        "  # string to list of strings (each element will be a column of the matrix)\n",
        "  list_s = test.split(\" \")[1:-1]\n",
        "\n",
        "  # initialise the matrix\n",
        "  mat = np.zeros(shape=(128,len(list_s)))\n",
        "\n",
        "  # loop over each string of the main string\n",
        "\n",
        "  for c in range(len(list_s)):\n",
        "\n",
        "    test_element = list_s[c]\n",
        "\n",
        "    if test_element=='e':\n",
        "      mat=mat\n",
        "\n",
        "    elif test_element=='':\n",
        "      mat=mat\n",
        "\n",
        "    else:\n",
        "\n",
        "      # get the pitches and the velocities\n",
        "\n",
        "      # decompose the string\n",
        "      test_element_decomposed = test_element.split('|')\n",
        "\n",
        "      # fill the matrix with velocities for the right pitch values\n",
        "\n",
        "      for i in test_element_decomposed:\n",
        "\n",
        "        pit_vel = i.split('-')\n",
        "\n",
        "        pitch = pretty_midi.note_name_to_number(pit_vel[0])\n",
        "        velocity = float(pit_vel[1])\n",
        "\n",
        "        if pitch in range(mat.shape[0]):\n",
        "          \n",
        "          mat[pitch, c] = velocity\n",
        "\n",
        "        else:\n",
        "          mat=mat\n",
        "\n",
        "  return mat\n",
        "\n"
      ],
      "execution_count": null,
      "outputs": []
    },
    {
      "cell_type": "code",
      "metadata": {
        "id": "aY1Yk3b3GH40",
        "colab_type": "code",
        "colab": {}
      },
      "source": [
        "# apply the function\n",
        "\n",
        "pr_lstm_t05_n1000 = text_to_pianoroll(results_lstm_t05_n1000)"
      ],
      "execution_count": null,
      "outputs": []
    },
    {
      "cell_type": "code",
      "metadata": {
        "id": "Om5-GCnsVDpw",
        "colab_type": "code",
        "colab": {
          "base_uri": "https://localhost:8080/",
          "height": 474
        },
        "outputId": "5cf8e76a-59e1-4273-97bb-961e6c3c6c5b"
      },
      "source": [
        "# let's plot the piano-roll matrix -> first importing libraries\n",
        "\n",
        "!pip install mir-eval\n",
        "!pip install librosa\n",
        "\n",
        "import mir_eval.display\n",
        "import librosa.display"
      ],
      "execution_count": null,
      "outputs": [
        {
          "output_type": "stream",
          "text": [
            "Collecting mir-eval\n",
            "\u001b[?25l  Downloading https://files.pythonhosted.org/packages/0a/fe/be4f7a59ed71938e21e89f23afe93eea0d39eb3e77f83754a12028cf1a68/mir_eval-0.6.tar.gz (87kB)\n",
            "\r\u001b[K     |███▊                            | 10kB 8.5MB/s eta 0:00:01\r\u001b[K     |███████▌                        | 20kB 1.7MB/s eta 0:00:01\r\u001b[K     |███████████▏                    | 30kB 2.2MB/s eta 0:00:01\r\u001b[K     |███████████████                 | 40kB 2.4MB/s eta 0:00:01\r\u001b[K     |██████████████████▋             | 51kB 1.8MB/s eta 0:00:01\r\u001b[K     |██████████████████████▍         | 61kB 2.1MB/s eta 0:00:01\r\u001b[K     |██████████████████████████      | 71kB 2.3MB/s eta 0:00:01\r\u001b[K     |█████████████████████████████▉  | 81kB 2.6MB/s eta 0:00:01\r\u001b[K     |████████████████████████████████| 92kB 2.2MB/s \n",
            "\u001b[?25hRequirement already satisfied: numpy>=1.7.0 in /usr/local/lib/python3.6/dist-packages (from mir-eval) (1.18.5)\n",
            "Requirement already satisfied: scipy>=1.0.0 in /usr/local/lib/python3.6/dist-packages (from mir-eval) (1.4.1)\n",
            "Requirement already satisfied: future in /usr/local/lib/python3.6/dist-packages (from mir-eval) (0.16.0)\n",
            "Requirement already satisfied: six in /usr/local/lib/python3.6/dist-packages (from mir-eval) (1.15.0)\n",
            "Building wheels for collected packages: mir-eval\n",
            "  Building wheel for mir-eval (setup.py) ... \u001b[?25l\u001b[?25hdone\n",
            "  Created wheel for mir-eval: filename=mir_eval-0.6-cp36-none-any.whl size=96515 sha256=bf6032517e76d41c41b83c3b6bf3f5e8062988d3169d82857e30f4230eb6b241\n",
            "  Stored in directory: /root/.cache/pip/wheels/49/ce/30/730fa72addf275e49d90683b01b3613048b4be3bf7ff8eb6ec\n",
            "Successfully built mir-eval\n",
            "Installing collected packages: mir-eval\n",
            "Successfully installed mir-eval-0.6\n",
            "Requirement already satisfied: librosa in /usr/local/lib/python3.6/dist-packages (0.6.3)\n",
            "Requirement already satisfied: numpy>=1.8.0 in /usr/local/lib/python3.6/dist-packages (from librosa) (1.18.5)\n",
            "Requirement already satisfied: scipy>=1.0.0 in /usr/local/lib/python3.6/dist-packages (from librosa) (1.4.1)\n",
            "Requirement already satisfied: scikit-learn!=0.19.0,>=0.14.0 in /usr/local/lib/python3.6/dist-packages (from librosa) (0.22.2.post1)\n",
            "Requirement already satisfied: decorator>=3.0.0 in /usr/local/lib/python3.6/dist-packages (from librosa) (4.4.2)\n",
            "Requirement already satisfied: numba>=0.38.0 in /usr/local/lib/python3.6/dist-packages (from librosa) (0.48.0)\n",
            "Requirement already satisfied: six>=1.3 in /usr/local/lib/python3.6/dist-packages (from librosa) (1.15.0)\n",
            "Requirement already satisfied: joblib>=0.12 in /usr/local/lib/python3.6/dist-packages (from librosa) (0.16.0)\n",
            "Requirement already satisfied: audioread>=2.0.0 in /usr/local/lib/python3.6/dist-packages (from librosa) (2.1.8)\n",
            "Requirement already satisfied: resampy>=0.2.0 in /usr/local/lib/python3.6/dist-packages (from librosa) (0.2.2)\n",
            "Requirement already satisfied: setuptools in /usr/local/lib/python3.6/dist-packages (from numba>=0.38.0->librosa) (49.2.0)\n",
            "Requirement already satisfied: llvmlite<0.32.0,>=0.31.0dev0 in /usr/local/lib/python3.6/dist-packages (from numba>=0.38.0->librosa) (0.31.0)\n"
          ],
          "name": "stdout"
        }
      ]
    },
    {
      "cell_type": "code",
      "metadata": {
        "id": "tL0cqv_aVDkf",
        "colab_type": "code",
        "colab": {}
      },
      "source": [
        "# define the plotting function\n",
        "\n",
        "def plot_piano_roll(pr, start_pitch=0, end_pitch=127, fs=8):\n",
        "    # Use librosa's specshow function for displaying the piano roll\n",
        "    librosa.display.specshow(pr[start_pitch:end_pitch],\n",
        "                             hop_length=1, sr=fs, x_axis='time', y_axis='cqt_note',\n",
        "                             fmin=pretty_midi.note_number_to_hz(start_pitch))\n"
      ],
      "execution_count": null,
      "outputs": []
    },
    {
      "cell_type": "code",
      "metadata": {
        "id": "cupdAQ0PVDYT",
        "colab_type": "code",
        "colab": {
          "base_uri": "https://localhost:8080/",
          "height": 279
        },
        "outputId": "ef4e45b0-2d4b-4e77-f854-b51376b00115"
      },
      "source": [
        "# plot the piano-roll matrix\n",
        "\n",
        "plt.figure(figsize=(12, 4))\n",
        "plot_piano_roll(pr_lstm_t05_n1000)"
      ],
      "execution_count": null,
      "outputs": [
        {
          "output_type": "display_data",
          "data": {
            "image/png": "[encoded data removed]",
            "text/plain": [
              "<Figure size 864x288 with 1 Axes>"
            ]
          },
          "metadata": {
            "tags": [],
            "needs_background": "light"
          }
        }
      ]
    },
    {
      "cell_type": "markdown",
      "metadata": {
        "id": "6YMk48auZ08O",
        "colab_type": "text"
      },
      "source": [
        "## Piano-roll to MIDI"
      ]
    },
    {
      "cell_type": "code",
      "metadata": {
        "id": "WF9TX0P7VDMq",
        "colab_type": "code",
        "colab": {}
      },
      "source": [
        "# Here I use the code by Colin Raffel available on Github at the Pretty-midi official documentation"
      ],
      "execution_count": null,
      "outputs": []
    },
    {
      "cell_type": "code",
      "metadata": {
        "id": "jMDZQtribWqM",
        "colab_type": "code",
        "colab": {}
      },
      "source": [
        "# convert piano-roll to pretty_midi format\n",
        "\n",
        "def piano_roll_to_pretty_midi(piano_roll, fs=8, program=0):\n",
        "    '''Convert a Piano Roll array into a PrettyMidi object\n",
        "     with a single instrument.\n",
        "    Parameters\n",
        "    ----------\n",
        "    piano_roll : np.ndarray, shape=(128,frames), dtype=int\n",
        "        Piano roll of one instrument\n",
        "    fs : int\n",
        "        Sampling frequency of the columns, i.e. each column is spaced apart\n",
        "        by ``1./fs`` seconds.\n",
        "    program : int\n",
        "        The program number of the instrument.\n",
        "    Returns\n",
        "    -------\n",
        "    midi_object : pretty_midi.PrettyMIDI\n",
        "        A pretty_midi.PrettyMIDI class instance describing\n",
        "        the piano roll.\n",
        "    '''\n",
        "    notes, frames = piano_roll.shape\n",
        "    pm = pretty_midi.PrettyMIDI()\n",
        "    instrument = pretty_midi.Instrument(program=program)\n",
        "\n",
        "    # pad 1 column of zeros so we can acknowledge inital and ending events\n",
        "    piano_roll = np.pad(piano_roll, [(0, 0), (1, 1)], 'constant')\n",
        "\n",
        "    # use changes in velocities to find note on / note off events\n",
        "    velocity_changes = np.nonzero(np.diff(piano_roll).T)\n",
        "\n",
        "    # keep track on velocities and note on times\n",
        "    prev_velocities = np.zeros(notes, dtype=int)\n",
        "    note_on_time = np.zeros(notes)\n",
        "\n",
        "    for time, note in zip(*velocity_changes):\n",
        "        # use time + 1 because of padding above\n",
        "        velocity = piano_roll[note, time + 1]\n",
        "        time = time / fs\n",
        "        if velocity > 0:\n",
        "            if prev_velocities[note] == 0:\n",
        "                note_on_time[note] = time\n",
        "                prev_velocities[note] = velocity\n",
        "        else:\n",
        "            pm_note = pretty_midi.Note(\n",
        "                velocity=prev_velocities[note],\n",
        "                pitch=note,\n",
        "                start=note_on_time[note],\n",
        "                end=time)\n",
        "            instrument.notes.append(pm_note)\n",
        "            prev_velocities[note] = 0\n",
        "    pm.instruments.append(instrument)\n",
        "    return pm"
      ],
      "execution_count": null,
      "outputs": []
    },
    {
      "cell_type": "code",
      "metadata": {
        "id": "P0LNaScfbWsp",
        "colab_type": "code",
        "colab": {}
      },
      "source": [
        "# apply the fucntion\n",
        "\n",
        "pm_lstm_t05_n1000 = piano_roll_to_pretty_midi(pr_lstm_t05_n1000)"
      ],
      "execution_count": null,
      "outputs": []
    },
    {
      "cell_type": "code",
      "metadata": {
        "id": "6mEOMCXTbWn4",
        "colab_type": "code",
        "colab": {}
      },
      "source": [
        "# save the pretty-midi object as a midi file\n",
        "\n",
        "pm_lstm_t05_n1000.write('/content/drive/My Drive/RNN_midi_results/midi_lstm_t05_n1000.mid')"
      ],
      "execution_count": null,
      "outputs": []
    },
    {
      "cell_type": "markdown",
      "metadata": {
        "id": "v7XSs0CC2bsI",
        "colab_type": "text"
      },
      "source": [
        "## Apply the transformation pipeline and store songs "
      ]
    },
    {
      "cell_type": "code",
      "metadata": {
        "id": "wQNG1obG2uII",
        "colab_type": "code",
        "colab": {
          "base_uri": "https://localhost:8080/",
          "height": 279
        },
        "outputId": "ec935494-0799-49fe-b73d-eef14a19d401"
      },
      "source": [
        "with open('/content/drive/My Drive/RNN_generatedtext/results_lstm_t02_n1000.txt', 'r') as file:\n",
        "    results_lstm_t02_n1000 = file.read()\n",
        "\n",
        "pr_lstm_t02_n1000 = text_to_pianoroll(results_lstm_t02_n1000)\n",
        "\n",
        "plt.figure(figsize=(12, 4))\n",
        "plot_piano_roll(pr_lstm_t02_n1000)\n",
        "plt.show()\n",
        "\n",
        "pm_lstm_t02_n1000 = piano_roll_to_pretty_midi(pr_lstm_t02_n1000)\n",
        "\n",
        "pm_lstm_t02_n1000.write('/content/drive/My Drive/RNN_midi_results/midi_lstm_t02_n1000.mid')"
      ],
      "execution_count": null,
      "outputs": [
        {
          "output_type": "display_data",
          "data": {
            "image/png": "[encoded data removed]",
            "text/plain": [
              "<Figure size 864x288 with 1 Axes>"
            ]
          },
          "metadata": {
            "tags": [],
            "needs_background": "light"
          }
        }
      ]
    },
    {
      "cell_type": "code",
      "metadata": {
        "id": "b0ULq76rAzSJ",
        "colab_type": "code",
        "colab": {
          "base_uri": "https://localhost:8080/",
          "height": 279
        },
        "outputId": "6b0655b4-913e-43a5-e0c6-b6ce2fedf1d6"
      },
      "source": [
        "with open('/content/drive/My Drive/RNN_generatedtext/results_lstm_t08_n1000.txt', 'r') as file:\n",
        "    results_lstm_t08_n1000 = file.read()\n",
        "\n",
        "pr_lstm_t08_n1000 = text_to_pianoroll(results_lstm_t08_n1000)\n",
        "\n",
        "plt.figure(figsize=(12, 4))\n",
        "plot_piano_roll(pr_lstm_t08_n1000)\n",
        "plt.show()\n",
        "\n",
        "pm_lstm_t08_n1000 = piano_roll_to_pretty_midi(pr_lstm_t08_n1000)\n",
        "\n",
        "pm_lstm_t08_n1000.write('/content/drive/My Drive/RNN_midi_results/midi_lstm_t08_n1000.mid')"
      ],
      "execution_count": null,
      "outputs": [
        {
          "output_type": "display_data",
          "data": {
            "image/png": "[encoded data removed]",
            "text/plain": [
              "<Figure size 864x288 with 1 Axes>"
            ]
          },
          "metadata": {
            "tags": [],
            "needs_background": "light"
          }
        }
      ]
    },
    {
      "cell_type": "code",
      "metadata": {
        "id": "jd7UAvY-AzUs",
        "colab_type": "code",
        "colab": {
          "base_uri": "https://localhost:8080/",
          "height": 279
        },
        "outputId": "9ced86da-0be5-493a-dc0a-d695034ddcb0"
      },
      "source": [
        "with open('/content/drive/My Drive/RNN_generatedtext/results_gru_t02_n1000.txt', 'r') as file:\n",
        "    results_gru_t02_n1000 = file.read()\n",
        "\n",
        "pr_gru_t02_n1000 = text_to_pianoroll(results_gru_t02_n1000)\n",
        "\n",
        "plt.figure(figsize=(12, 4))\n",
        "plot_piano_roll(pr_gru_t02_n1000)\n",
        "plt.show()\n",
        "\n",
        "pm_gru_t02_n1000 = piano_roll_to_pretty_midi(pr_gru_t02_n1000)\n",
        "\n",
        "pm_gru_t02_n1000.write('/content/drive/My Drive/RNN_midi_results/midi_gru_t02_n1000.mid')"
      ],
      "execution_count": null,
      "outputs": [
        {
          "output_type": "display_data",
          "data": {
            "image/png": "[encoded data removed]",
            "text/plain": [
              "<Figure size 864x288 with 1 Axes>"
            ]
          },
          "metadata": {
            "tags": [],
            "needs_background": "light"
          }
        }
      ]
    },
    {
      "cell_type": "code",
      "metadata": {
        "id": "LPbgs27yAz3J",
        "colab_type": "code",
        "colab": {
          "base_uri": "https://localhost:8080/",
          "height": 279
        },
        "outputId": "7f71ffef-870a-4f7d-f96d-9c9ae819e883"
      },
      "source": [
        "with open('/content/drive/My Drive/RNN_generatedtext/results_gru_t05_n1000.txt', 'r') as file:\n",
        "    results_gru_t05_n1000 = file.read()\n",
        "\n",
        "pr_gru_t05_n1000 = text_to_pianoroll(results_gru_t05_n1000)\n",
        "\n",
        "plt.figure(figsize=(12, 4))\n",
        "plot_piano_roll(pr_gru_t05_n1000)\n",
        "plt.show()\n",
        "\n",
        "pm_gru_t05_n1000 = piano_roll_to_pretty_midi(pr_gru_t05_n1000)\n",
        "\n",
        "pm_gru_t05_n1000.write('/content/drive/My Drive/RNN_midi_results/midi_gru_t05_n1000.mid')"
      ],
      "execution_count": null,
      "outputs": [
        {
          "output_type": "display_data",
          "data": {
            "image/png": "[encoded data removed]",
            "text/plain": [
              "<Figure size 864x288 with 1 Axes>"
            ]
          },
          "metadata": {
            "tags": [],
            "needs_background": "light"
          }
        }
      ]
    },
    {
      "cell_type": "code",
      "metadata": {
        "id": "tqM2M4YjAz0o",
        "colab_type": "code",
        "colab": {
          "base_uri": "https://localhost:8080/",
          "height": 279
        },
        "outputId": "4b23949d-cdf5-4986-912b-3713c1059f89"
      },
      "source": [
        "with open('/content/drive/My Drive/RNN_generatedtext/results_gru_t08_n1000.txt', 'r') as file:\n",
        "    results_gru_t08_n1000 = file.read()\n",
        "\n",
        "pr_gru_t08_n1000 = text_to_pianoroll(results_gru_t08_n1000)\n",
        "\n",
        "plt.figure(figsize=(12, 4))\n",
        "plot_piano_roll(pr_gru_t08_n1000)\n",
        "plt.show()\n",
        "\n",
        "pm_gru_t08_n1000 = piano_roll_to_pretty_midi(pr_gru_t08_n1000)\n",
        "\n",
        "pm_gru_t08_n1000.write('/content/drive/My Drive/RNN_midi_results/midi_gru_t08_n1000.mid')"
      ],
      "execution_count": null,
      "outputs": [
        {
          "output_type": "display_data",
          "data": {
            "image/png": "[encoded data removed]",
            "text/plain": [
              "<Figure size 864x288 with 1 Axes>"
            ]
          },
          "metadata": {
            "tags": [],
            "needs_background": "light"
          }
        }
      ]
    },
    {
      "cell_type": "code",
      "metadata": {
        "id": "r1GdairGAzPc",
        "colab_type": "code",
        "colab": {}
      },
      "source": [
        "# define a function for a smarter call of the pipeline\n",
        "\n",
        "def text2midi(path):\n",
        "\n",
        "  with open(path, 'r') as file:\n",
        "      results = file.read()\n",
        "\n",
        "  pr = text_to_pianoroll(results)\n",
        "\n",
        "  plt.figure(figsize=(12, 4))\n",
        "  plot_piano_roll(pr)\n",
        "  plt.show()\n",
        "\n",
        "  pm = piano_roll_to_pretty_midi(pr)\n",
        "\n",
        "  new_name = '_'.join(['midi']+path.split('/')[-1].split('.')[0].split('_')[1:])+'.mid'\n",
        "\n",
        "  file_pathname = os.path.join('/content/drive/My Drive/RNN_midi_results', new_name)\n",
        "\n",
        "  pm.write(file_pathname)"
      ],
      "execution_count": null,
      "outputs": []
    },
    {
      "cell_type": "code",
      "metadata": {
        "id": "Y2bkA1WGCe48",
        "colab_type": "code",
        "colab": {
          "base_uri": "https://localhost:8080/",
          "height": 574
        },
        "outputId": "80f82b15-75e1-49ae-8083-3ba2c21b1916"
      },
      "source": [
        "generated_text_files = os.listdir('/content/drive/My Drive/RNN_generatedtext')[8:][:2]\n",
        "\n",
        "for file in generated_text_files:\n",
        "\n",
        "  print(file)\n",
        "\n",
        "  path = os.path.join('/content/drive/My Drive/RNN_generatedtext', file)\n",
        "\n",
        "  text2midi(path)\n",
        "\n"
      ],
      "execution_count": null,
      "outputs": [
        {
          "output_type": "stream",
          "text": [
            "results_lstm_t05_n1000_4.txt\n"
          ],
          "name": "stdout"
        },
        {
          "output_type": "display_data",
          "data": {
            "image/png": "[encoded data removed]",
            "text/plain": [
              "<Figure size 864x288 with 1 Axes>"
            ]
          },
          "metadata": {
            "tags": [],
            "needs_background": "light"
          }
        },
        {
          "output_type": "stream",
          "text": [
            "results_lstm_t05_n1000_5.txt\n"
          ],
          "name": "stdout"
        },
        {
          "output_type": "display_data",
          "data": {
            "image/png": "[encoded data removed]",
            "text/plain": [
              "<Figure size 864x288 with 1 Axes>"
            ]
          },
          "metadata": {
            "tags": [],
            "needs_background": "light"
          }
        }
      ]
    },
    {
      "cell_type": "code",
      "metadata": {
        "id": "nsOG_FfWbGlf",
        "colab_type": "code",
        "colab": {
          "base_uri": "https://localhost:8080/",
          "height": 296
        },
        "outputId": "78d2ccbc-614f-4cd1-ce21-3577f75cbbda"
      },
      "source": [
        "generated_text_files = os.listdir('/content/drive/My Drive/RNN_generatedtext')[8:][3:4]\n",
        "\n",
        "for file in generated_text_files:\n",
        "\n",
        "  print(file)\n",
        "\n",
        "  path = os.path.join('/content/drive/My Drive/RNN_generatedtext', file)\n",
        "\n",
        "  text2midi(path)\n",
        "\n"
      ],
      "execution_count": null,
      "outputs": [
        {
          "output_type": "stream",
          "text": [
            "results_lstm_t05_n1000_8.txt\n"
          ],
          "name": "stdout"
        },
        {
          "output_type": "display_data",
          "data": {
            "image/png": "[encoded data removed]",
            "text/plain": [
              "<Figure size 864x288 with 1 Axes>"
            ]
          },
          "metadata": {
            "tags": [],
            "needs_background": "light"
          }
        }
      ]
    },
    {
      "cell_type": "code",
      "metadata": {
        "id": "F66Wfux_bkyA",
        "colab_type": "code",
        "colab": {
          "base_uri": "https://localhost:8080/",
          "height": 854
        },
        "outputId": "58b26d32-87d6-4c18-b1a7-5566dd980553"
      },
      "source": [
        "generated_text_files = os.listdir('/content/drive/My Drive/RNN_generatedtext')[8:][5:8]\n",
        "\n",
        "for file in generated_text_files:\n",
        "\n",
        "  print(file)\n",
        "\n",
        "  path = os.path.join('/content/drive/My Drive/RNN_generatedtext', file)\n",
        "\n",
        "  text2midi(path)\n",
        "\n"
      ],
      "execution_count": null,
      "outputs": [
        {
          "output_type": "stream",
          "text": [
            "results_lstm_t05_n1000_7.txt\n"
          ],
          "name": "stdout"
        },
        {
          "output_type": "display_data",
          "data": {
            "image/png": "[encoded data removed]",
            "text/plain": [
              "<Figure size 864x288 with 1 Axes>"
            ]
          },
          "metadata": {
            "tags": [],
            "needs_background": "light"
          }
        },
        {
          "output_type": "stream",
          "text": [
            "results_lstm_t05_n1000_6.txt\n"
          ],
          "name": "stdout"
        },
        {
          "output_type": "display_data",
          "data": {
            "image/png": "[encoded data removed]",
            "text/plain": [
              "<Figure size 864x288 with 1 Axes>"
            ]
          },
          "metadata": {
            "tags": [],
            "needs_background": "light"
          }
        },
        {
          "output_type": "stream",
          "text": [
            "results_lstm_t05_n1000_3.txt\n"
          ],
          "name": "stdout"
        },
        {
          "output_type": "display_data",
          "data": {
            "image/png": "[encoded data removed]",
            "text/plain": [
              "<Figure size 864x288 with 1 Axes>"
            ]
          },
          "metadata": {
            "tags": [],
            "needs_background": "light"
          }
        }
      ]
    },
    {
      "cell_type": "code",
      "metadata": {
        "id": "6S2YkM8Db9am",
        "colab_type": "code",
        "colab": {
          "base_uri": "https://localhost:8080/",
          "height": 296
        },
        "outputId": "445ba202-796b-4be8-a12d-1feeeac6bf7d"
      },
      "source": [
        "generated_text_files = os.listdir('/content/drive/My Drive/RNN_generatedtext')[8:][10:11]\n",
        "\n",
        "for file in generated_text_files:\n",
        "\n",
        "  print(file)\n",
        "\n",
        "  path = os.path.join('/content/drive/My Drive/RNN_generatedtext', file)\n",
        "\n",
        "  text2midi(path)\n",
        "\n"
      ],
      "execution_count": null,
      "outputs": [
        {
          "output_type": "stream",
          "text": [
            "results_gru_t05_n1000_3.txt\n"
          ],
          "name": "stdout"
        },
        {
          "output_type": "display_data",
          "data": {
            "image/png": "[encoded data removed]",
            "text/plain": [
              "<Figure size 864x288 with 1 Axes>"
            ]
          },
          "metadata": {
            "tags": [],
            "needs_background": "light"
          }
        }
      ]
    },
    {
      "cell_type": "code",
      "metadata": {
        "id": "P7ncsXuFb9YC",
        "colab_type": "code",
        "colab": {
          "base_uri": "https://localhost:8080/",
          "height": 1000
        },
        "outputId": "0045db68-4bab-45ce-d4de-2d03fa2da021"
      },
      "source": [
        "generated_text_files = os.listdir('/content/drive/My Drive/RNN_generatedtext')[8:][12:16]\n",
        "\n",
        "for file in generated_text_files:\n",
        "\n",
        "  print(file)\n",
        "\n",
        "  path = os.path.join('/content/drive/My Drive/RNN_generatedtext', file)\n",
        "\n",
        "  text2midi(path)\n",
        "\n"
      ],
      "execution_count": null,
      "outputs": [
        {
          "output_type": "stream",
          "text": [
            "results_gru_t05_n1000_1.txt\n"
          ],
          "name": "stdout"
        },
        {
          "output_type": "display_data",
          "data": {
            "image/png": "[encoded data removed]",
            "text/plain": [
              "<Figure size 864x288 with 1 Axes>"
            ]
          },
          "metadata": {
            "tags": [],
            "needs_background": "light"
          }
        },
        {
          "output_type": "stream",
          "text": [
            "results_gru_t05_n1000_7.txt\n"
          ],
          "name": "stdout"
        },
        {
          "output_type": "display_data",
          "data": {
            "image/png": "[encoded data removed]",
            "text/plain": [
              "<Figure size 864x288 with 1 Axes>"
            ]
          },
          "metadata": {
            "tags": [],
            "needs_background": "light"
          }
        },
        {
          "output_type": "stream",
          "text": [
            "results_gru_t05_n1000_8.txt\n"
          ],
          "name": "stdout"
        },
        {
          "output_type": "display_data",
          "data": {
            "image/png": "[encoded data removed]",
            "text/plain": [
              "<Figure size 864x288 with 1 Axes>"
            ]
          },
          "metadata": {
            "tags": [],
            "needs_background": "light"
          }
        },
        {
          "output_type": "stream",
          "text": [
            "results_gru_t05_n1000_2.txt\n"
          ],
          "name": "stdout"
        },
        {
          "output_type": "display_data",
          "data": {
            "image/png": "[encoded data removed]",
            "text/plain": [
              "<Figure size 864x288 with 1 Axes>"
            ]
          },
          "metadata": {
            "tags": [],
            "needs_background": "light"
          }
        }
      ]
    },
    {
      "cell_type": "code",
      "metadata": {
        "id": "56kEyJk-bkq5",
        "colab_type": "code",
        "colab": {
          "base_uri": "https://localhost:8080/",
          "height": 574
        },
        "outputId": "85cb3f99-c3f7-447c-ff00-690354dfde99"
      },
      "source": [
        "generated_text_files = os.listdir('/content/drive/My Drive/RNN_generatedtext')[8:][18:]\n",
        "\n",
        "for file in generated_text_files:\n",
        "\n",
        "  print(file)\n",
        "\n",
        "  path = os.path.join('/content/drive/My Drive/RNN_generatedtext', file)\n",
        "\n",
        "  text2midi(path)\n",
        "\n"
      ],
      "execution_count": null,
      "outputs": [
        {
          "output_type": "stream",
          "text": [
            "results_gru_t05_n1000_5.txt\n"
          ],
          "name": "stdout"
        },
        {
          "output_type": "display_data",
          "data": {
            "image/png": "[encoded data removed]",
            "text/plain": [
              "<Figure size 864x288 with 1 Axes>"
            ]
          },
          "metadata": {
            "tags": [],
            "needs_background": "light"
          }
        },
        {
          "output_type": "stream",
          "text": [
            "results_gru_t05_n1000_9.txt\n"
          ],
          "name": "stdout"
        },
        {
          "output_type": "display_data",
          "data": {
            "image/png": "[encoded data removed]",
            "text/plain": [
              "<Figure size 864x288 with 1 Axes>"
            ]
          },
          "metadata": {
            "tags": [],
            "needs_background": "light"
          }
        }
      ]
    },
    {
      "cell_type": "markdown",
      "metadata": {
        "id": "345_gyP9QZBn",
        "colab_type": "text"
      },
      "source": [
        "## Transformation Pipeline for totally artificial sequences"
      ]
    },
    {
      "cell_type": "code",
      "metadata": {
        "id": "lyk1eo13RH8g",
        "colab_type": "code",
        "colab": {
          "base_uri": "https://localhost:8080/",
          "height": 823
        },
        "outputId": "9ccce3c0-15e4-49c5-f96d-553e0ba7c790"
      },
      "source": [
        "os.listdir('/content/drive/My Drive/RNN_generatedtext')"
      ],
      "execution_count": null,
      "outputs": [
        {
          "output_type": "execute_result",
          "data": {
            "text/plain": [
              "['results_lstm_t001_n1000.txt',\n",
              " 'results_lstm_t02_n1000.txt',\n",
              " 'results_lstm_t05_n1000.txt',\n",
              " 'results_lstm_t08_n1000.txt',\n",
              " 'results_gru_t001_n1000.txt',\n",
              " 'results_gru_t02_n1000.txt',\n",
              " 'results_gru_t05_n1000.txt',\n",
              " 'results_gru_t08_n1000.txt',\n",
              " 'results_lstm_t05_n1000_1.txt',\n",
              " 'results_lstm_t05_n1000_2.txt',\n",
              " 'results_lstm_t05_n1000_3.txt',\n",
              " 'results_lstm_t05_n1000_4.txt',\n",
              " 'results_lstm_t05_n1000_5.txt',\n",
              " 'results_lstm_t05_n1000_6.txt',\n",
              " 'results_lstm_t05_n1000_7.txt',\n",
              " 'results_lstm_t05_n1000_8.txt',\n",
              " 'results_lstm_t05_n1000_9.txt',\n",
              " 'results_lstm_t05_n1000_10.txt',\n",
              " 'results_gru_t05_n1000_1.txt',\n",
              " 'results_gru_t05_n1000_2.txt',\n",
              " 'results_gru_t05_n1000_3.txt',\n",
              " 'results_gru_t05_n1000_4.txt',\n",
              " 'results_gru_t05_n1000_5.txt',\n",
              " 'results_gru_t05_n1000_6.txt',\n",
              " 'results_gru_t05_n1000_7.txt',\n",
              " 'results_gru_t05_n1000_8.txt',\n",
              " 'results_gru_t05_n1000_9.txt',\n",
              " 'results_gru_t05_n1000_10.txt',\n",
              " 'results_lstm_t05_n1000_11.txt',\n",
              " 'results_lstm_t05_n1000_12.txt',\n",
              " 'results_lstm_t05_n1000_13.txt',\n",
              " 'results_lstm_t05_n1000_14.txt',\n",
              " 'results_lstm_t05_n1000_15.txt',\n",
              " 'results_lstm_t05_n1000_16.txt',\n",
              " 'results_lstm_t05_n1000_17.txt',\n",
              " 'results_lstm_t05_n1000_18.txt',\n",
              " 'results_lstm_t05_n1000_19.txt',\n",
              " 'results_lstm_t05_n1000_20.txt',\n",
              " 'results_gru_t05_n1000_15.txt',\n",
              " 'results_gru_t05_n1000_17.txt',\n",
              " 'results_gru_t05_n1000_14.txt',\n",
              " 'results_gru_t05_n1000_13.txt',\n",
              " 'results_gru_t05_n1000_20.txt',\n",
              " 'results_gru_t05_n1000_18.txt',\n",
              " 'results_gru_t05_n1000_19.txt',\n",
              " 'results_gru_t05_n1000_16.txt',\n",
              " 'results_gru_t05_n1000_12.txt',\n",
              " 'results_gru_t05_n1000_11.txt']"
            ]
          },
          "metadata": {
            "tags": []
          },
          "execution_count": 15
        }
      ]
    },
    {
      "cell_type": "code",
      "metadata": {
        "id": "TxFO8eWFCewZ",
        "colab_type": "code",
        "colab": {
          "base_uri": "https://localhost:8080/",
          "height": 185
        },
        "outputId": "9f2398c9-87b4-4b76-8c1a-27fa326cd270"
      },
      "source": [
        "os.listdir('/content/drive/My Drive/RNN_generatedtext')[28:]   # totally artificial lstm-based"
      ],
      "execution_count": null,
      "outputs": [
        {
          "output_type": "execute_result",
          "data": {
            "text/plain": [
              "['results_lstm_t05_n1000_11.txt',\n",
              " 'results_lstm_t05_n1000_12.txt',\n",
              " 'results_lstm_t05_n1000_13.txt',\n",
              " 'results_lstm_t05_n1000_14.txt',\n",
              " 'results_lstm_t05_n1000_15.txt',\n",
              " 'results_lstm_t05_n1000_16.txt',\n",
              " 'results_lstm_t05_n1000_17.txt',\n",
              " 'results_lstm_t05_n1000_18.txt',\n",
              " 'results_lstm_t05_n1000_19.txt',\n",
              " 'results_lstm_t05_n1000_20.txt']"
            ]
          },
          "metadata": {
            "tags": []
          },
          "execution_count": 11
        }
      ]
    },
    {
      "cell_type": "code",
      "metadata": {
        "id": "RmgYi5-t2yLt",
        "colab_type": "code",
        "colab": {
          "base_uri": "https://localhost:8080/",
          "height": 185
        },
        "outputId": "311496a6-173b-47b0-cb24-f6fdb5dae91d"
      },
      "source": [
        "os.listdir('/content/drive/My Drive/RNN_generatedtext')[38:]   # totally artificial gru-based"
      ],
      "execution_count": null,
      "outputs": [
        {
          "output_type": "execute_result",
          "data": {
            "text/plain": [
              "['results_gru_t05_n1000_15.txt',\n",
              " 'results_gru_t05_n1000_17.txt',\n",
              " 'results_gru_t05_n1000_14.txt',\n",
              " 'results_gru_t05_n1000_13.txt',\n",
              " 'results_gru_t05_n1000_20.txt',\n",
              " 'results_gru_t05_n1000_18.txt',\n",
              " 'results_gru_t05_n1000_19.txt',\n",
              " 'results_gru_t05_n1000_16.txt',\n",
              " 'results_gru_t05_n1000_12.txt',\n",
              " 'results_gru_t05_n1000_11.txt']"
            ]
          },
          "metadata": {
            "tags": []
          },
          "execution_count": 16
        }
      ]
    },
    {
      "cell_type": "markdown",
      "metadata": {
        "id": "fjJp_FdNQirz",
        "colab_type": "text"
      },
      "source": [
        "### LSTM-based compositions"
      ]
    },
    {
      "cell_type": "code",
      "metadata": {
        "id": "Q2LXTV-82ybo",
        "colab_type": "code",
        "colab": {
          "base_uri": "https://localhost:8080/",
          "height": 1000
        },
        "outputId": "0f7f031c-674b-48cf-c205-538944fbc41a"
      },
      "source": [
        "generated_text_files = os.listdir('/content/drive/My Drive/RNN_generatedtext')[28:37]\n",
        "\n",
        "for file in generated_text_files:\n",
        "\n",
        "  print(file)\n",
        "\n",
        "  path = os.path.join('/content/drive/My Drive/RNN_generatedtext', file)\n",
        "\n",
        "  text2midi(path)"
      ],
      "execution_count": null,
      "outputs": [
        {
          "output_type": "stream",
          "text": [
            "results_lstm_t05_n1000_11.txt\n"
          ],
          "name": "stdout"
        },
        {
          "output_type": "display_data",
          "data": {
            "image/png": "[encoded data removed]",
            "text/plain": [
              "<Figure size 864x288 with 1 Axes>"
            ]
          },
          "metadata": {
            "tags": [],
            "needs_background": "light"
          }
        },
        {
          "output_type": "stream",
          "text": [
            "results_lstm_t05_n1000_12.txt\n"
          ],
          "name": "stdout"
        },
        {
          "output_type": "display_data",
          "data": {
            "image/png": "[encoded data removed]",
            "text/plain": [
              "<Figure size 864x288 with 1 Axes>"
            ]
          },
          "metadata": {
            "tags": [],
            "needs_background": "light"
          }
        },
        {
          "output_type": "stream",
          "text": [
            "results_lstm_t05_n1000_13.txt\n"
          ],
          "name": "stdout"
        },
        {
          "output_type": "display_data",
          "data": {
            "image/png": "[encoded data removed]",
            "text/plain": [
              "<Figure size 864x288 with 1 Axes>"
            ]
          },
          "metadata": {
            "tags": [],
            "needs_background": "light"
          }
        },
        {
          "output_type": "stream",
          "text": [
            "results_lstm_t05_n1000_14.txt\n"
          ],
          "name": "stdout"
        },
        {
          "output_type": "display_data",
          "data": {
            "image/png": "[encoded data removed]",
            "text/plain": [
              "<Figure size 864x288 with 1 Axes>"
            ]
          },
          "metadata": {
            "tags": [],
            "needs_background": "light"
          }
        },
        {
          "output_type": "stream",
          "text": [
            "results_lstm_t05_n1000_15.txt\n"
          ],
          "name": "stdout"
        },
        {
          "output_type": "display_data",
          "data": {
            "image/png": "[encoded data removed]",
            "text/plain": [
              "<Figure size 864x288 with 1 Axes>"
            ]
          },
          "metadata": {
            "tags": [],
            "needs_background": "light"
          }
        },
        {
          "output_type": "stream",
          "text": [
            "results_lstm_t05_n1000_16.txt\n"
          ],
          "name": "stdout"
        },
        {
          "output_type": "display_data",
          "data": {
            "image/png": "[encoded data removed]",
            "text/plain": [
              "<Figure size 864x288 with 1 Axes>"
            ]
          },
          "metadata": {
            "tags": [],
            "needs_background": "light"
          }
        },
        {
          "output_type": "stream",
          "text": [
            "results_lstm_t05_n1000_17.txt\n"
          ],
          "name": "stdout"
        },
        {
          "output_type": "display_data",
          "data": {
            "image/png": "[encoded data removed]",
            "text/plain": [
              "<Figure size 864x288 with 1 Axes>"
            ]
          },
          "metadata": {
            "tags": [],
            "needs_background": "light"
          }
        },
        {
          "output_type": "stream",
          "text": [
            "results_lstm_t05_n1000_18.txt\n"
          ],
          "name": "stdout"
        },
        {
          "output_type": "display_data",
          "data": {
            "image/png": "[encoded data removed]",
            "text/plain": [
              "<Figure size 864x288 with 1 Axes>"
            ]
          },
          "metadata": {
            "tags": [],
            "needs_background": "light"
          }
        },
        {
          "output_type": "stream",
          "text": [
            "results_lstm_t05_n1000_19.txt\n"
          ],
          "name": "stdout"
        },
        {
          "output_type": "display_data",
          "data": {
            "image/png": "[encoded data removed]",
            "text/plain": [
              "<Figure size 864x288 with 1 Axes>"
            ]
          },
          "metadata": {
            "tags": [],
            "needs_background": "light"
          }
        }
      ]
    },
    {
      "cell_type": "markdown",
      "metadata": {
        "id": "QheKQzgCQpuK",
        "colab_type": "text"
      },
      "source": [
        "### GRU-based compositions"
      ]
    },
    {
      "cell_type": "code",
      "metadata": {
        "id": "zo9sRgYHQtSA",
        "colab_type": "code",
        "colab": {
          "base_uri": "https://localhost:8080/",
          "height": 296
        },
        "outputId": "506854ff-8f4d-4e1a-939a-46948e83bcda"
      },
      "source": [
        "generated_text_files = os.listdir('/content/drive/My Drive/RNN_generatedtext')[38:39]\n",
        "\n",
        "for file in generated_text_files:\n",
        "\n",
        "  print(file)\n",
        "\n",
        "  path = os.path.join('/content/drive/My Drive/RNN_generatedtext', file)\n",
        "\n",
        "  text2midi(path)"
      ],
      "execution_count": null,
      "outputs": [
        {
          "output_type": "stream",
          "text": [
            "results_gru_t05_n1000_15.txt\n"
          ],
          "name": "stdout"
        },
        {
          "output_type": "display_data",
          "data": {
            "image/png": "[encoded data removed]",
            "text/plain": [
              "<Figure size 864x288 with 1 Axes>"
            ]
          },
          "metadata": {
            "tags": [],
            "needs_background": "light"
          }
        }
      ]
    },
    {
      "cell_type": "code",
      "metadata": {
        "id": "VF6mW0GfQtsU",
        "colab_type": "code",
        "colab": {
          "base_uri": "https://localhost:8080/",
          "height": 296
        },
        "outputId": "5e7d4ad7-1047-4f46-8246-e09c7bc190c9"
      },
      "source": [
        "generated_text_files = os.listdir('/content/drive/My Drive/RNN_generatedtext')[40:41]\n",
        "\n",
        "for file in generated_text_files:\n",
        "\n",
        "  print(file)\n",
        "\n",
        "  path = os.path.join('/content/drive/My Drive/RNN_generatedtext', file)\n",
        "\n",
        "  text2midi(path)"
      ],
      "execution_count": null,
      "outputs": [
        {
          "output_type": "stream",
          "text": [
            "results_gru_t05_n1000_14.txt\n"
          ],
          "name": "stdout"
        },
        {
          "output_type": "display_data",
          "data": {
            "image/png": "[encoded data removed]",
            "text/plain": [
              "<Figure size 864x288 with 1 Axes>"
            ]
          },
          "metadata": {
            "tags": [],
            "needs_background": "light"
          }
        }
      ]
    },
    {
      "cell_type": "code",
      "metadata": {
        "id": "UIOezq7EjKvp",
        "colab_type": "code",
        "colab": {
          "base_uri": "https://localhost:8080/",
          "height": 1000
        },
        "outputId": "0c71dba0-728b-4f96-fc94-96297335bf60"
      },
      "source": [
        "generated_text_files = os.listdir('/content/drive/My Drive/RNN_generatedtext')[42:]\n",
        "\n",
        "for file in generated_text_files:\n",
        "\n",
        "  print(file)\n",
        "\n",
        "  path = os.path.join('/content/drive/My Drive/RNN_generatedtext', file)\n",
        "\n",
        "  text2midi(path)"
      ],
      "execution_count": null,
      "outputs": [
        {
          "output_type": "stream",
          "text": [
            "results_gru_t05_n1000_20.txt\n"
          ],
          "name": "stdout"
        },
        {
          "output_type": "display_data",
          "data": {
            "image/png": "[encoded data removed]",
            "text/plain": [
              "<Figure size 864x288 with 1 Axes>"
            ]
          },
          "metadata": {
            "tags": [],
            "needs_background": "light"
          }
        },
        {
          "output_type": "stream",
          "text": [
            "results_gru_t05_n1000_18.txt\n"
          ],
          "name": "stdout"
        },
        {
          "output_type": "display_data",
          "data": {
            "image/png": "[encoded data removed]",
            "text/plain": [
              "<Figure size 864x288 with 1 Axes>"
            ]
          },
          "metadata": {
            "tags": [],
            "needs_background": "light"
          }
        },
        {
          "output_type": "stream",
          "text": [
            "results_gru_t05_n1000_19.txt\n"
          ],
          "name": "stdout"
        },
        {
          "output_type": "display_data",
          "data": {
            "image/png": "[encoded data removed]",
            "text/plain": [
              "<Figure size 864x288 with 1 Axes>"
            ]
          },
          "metadata": {
            "tags": [],
            "needs_background": "light"
          }
        },
        {
          "output_type": "stream",
          "text": [
            "results_gru_t05_n1000_16.txt\n"
          ],
          "name": "stdout"
        },
        {
          "output_type": "display_data",
          "data": {
            "image/png": "[encoded data removed]",
            "text/plain": [
              "<Figure size 864x288 with 1 Axes>"
            ]
          },
          "metadata": {
            "tags": [],
            "needs_background": "light"
          }
        },
        {
          "output_type": "stream",
          "text": [
            "results_gru_t05_n1000_12.txt\n"
          ],
          "name": "stdout"
        },
        {
          "output_type": "display_data",
          "data": {
            "image/png": "[encoded data removed]",
            "text/plain": [
              "<Figure size 864x288 with 1 Axes>"
            ]
          },
          "metadata": {
            "tags": [],
            "needs_background": "light"
          }
        },
        {
          "output_type": "stream",
          "text": [
            "results_gru_t05_n1000_11.txt\n"
          ],
          "name": "stdout"
        },
        {
          "output_type": "display_data",
          "data": {
            "image/png": "[encoded data removed]",
            "text/plain": [
              "<Figure size 864x288 with 1 Axes>"
            ]
          },
          "metadata": {
            "tags": [],
            "needs_background": "light"
          }
        }
      ]
    }
  ]
}