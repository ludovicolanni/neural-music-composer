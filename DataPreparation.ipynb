{
  "nbformat": 4,
  "nbformat_minor": 0,
  "metadata": {
    "kernelspec": {
      "display_name": "Python 3",
      "language": "python",
      "name": "python3"
    },
    "language_info": {
      "codemirror_mode": {
        "name": "ipython",
        "version": 3
      },
      "file_extension": ".py",
      "mimetype": "text/x-python",
      "name": "python",
      "nbconvert_exporter": "python",
      "pygments_lexer": "ipython3",
      "version": "3.7.6"
    },
    "colab": {
      "name": "DataPreparation.ipynb",
      "provenance": [],
      "collapsed_sections": [],
      "toc_visible": true,
      "include_colab_link": true
    },
    "accelerator": "TPU"
  },
  "cells": [
    {
      "cell_type": "markdown",
      "metadata": {
        "id": "view-in-github",
        "colab_type": "text"
      },
      "source": [
        "<a href=\"https://colab.research.google.com/github/ludovicolanni/neural-music-composer/blob/master/DataPreparation.ipynb\" target=\"_parent\"><img src=\"https://colab.research.google.com/assets/colab-badge.svg\" alt=\"Open In Colab\"/></a>"
      ]
    },
    {
      "cell_type": "markdown",
      "metadata": {
        "id": "wS5r0Zh0YY-A",
        "colab_type": "text"
      },
      "source": [
        "# Data Preparation: Input and Labels"
      ]
    },
    {
      "cell_type": "code",
      "metadata": {
        "id": "EfSwDhb9YlUG",
        "colab_type": "code",
        "colab": {
          "base_uri": "https://localhost:8080/",
          "height": 84
        },
        "outputId": "3039c493-6277-4702-d71b-329814d3f764"
      },
      "source": [
        "!pip install pretty-midi"
      ],
      "execution_count": null,
      "outputs": [
        {
          "output_type": "stream",
          "text": [
            "Requirement already satisfied: pretty-midi in /usr/local/lib/python3.6/dist-packages (0.2.9)\n",
            "Requirement already satisfied: mido>=1.1.16 in /usr/local/lib/python3.6/dist-packages (from pretty-midi) (1.2.9)\n",
            "Requirement already satisfied: numpy>=1.7.0 in /usr/local/lib/python3.6/dist-packages (from pretty-midi) (1.18.5)\n",
            "Requirement already satisfied: six in /usr/local/lib/python3.6/dist-packages (from pretty-midi) (1.12.0)\n"
          ],
          "name": "stdout"
        }
      ]
    },
    {
      "cell_type": "code",
      "metadata": {
        "id": "z3kCgjBIcHA_",
        "colab_type": "code",
        "colab": {
          "base_uri": "https://localhost:8080/",
          "height": 34
        },
        "outputId": "fbb591f9-9c34-44e8-9596-74ea5722d0ef"
      },
      "source": [
        "from google.colab import drive\n",
        "drive.mount('/content/drive')"
      ],
      "execution_count": null,
      "outputs": [
        {
          "output_type": "stream",
          "text": [
            "Drive already mounted at /content/drive; to attempt to forcibly remount, call drive.mount(\"/content/drive\", force_remount=True).\n"
          ],
          "name": "stdout"
        }
      ]
    },
    {
      "cell_type": "code",
      "metadata": {
        "id": "NT_xLBM5YY-B",
        "colab_type": "code",
        "colab": {}
      },
      "source": [
        "import numpy as np\n",
        "import pandas as pd\n",
        "import matplotlib.pyplot as plt\n",
        "import os\n",
        "import pretty_midi"
      ],
      "execution_count": null,
      "outputs": []
    },
    {
      "cell_type": "code",
      "metadata": {
        "id": "cfgoiVF1YY-F",
        "colab_type": "code",
        "colab": {
          "base_uri": "https://localhost:8080/",
          "height": 17
        },
        "outputId": "943ebd92-cd24-4ed0-f7a1-9c8eb32c48b6"
      },
      "source": [
        "from IPython.core.display import HTML\n",
        "HTML(\"\"\"\n",
        "<style>\n",
        ".output_png {\n",
        "    display: table-cell;\n",
        "    text-align: center;\n",
        "    vertical-align: middle;\n",
        "}\n",
        "</style>\n",
        "\"\"\")"
      ],
      "execution_count": null,
      "outputs": [
        {
          "output_type": "execute_result",
          "data": {
            "text/html": [
              "\n",
              "<style>\n",
              ".output_png {\n",
              "    display: table-cell;\n",
              "    text-align: center;\n",
              "    vertical-align: middle;\n",
              "}\n",
              "</style>\n"
            ],
            "text/plain": [
              "<IPython.core.display.HTML object>"
            ]
          },
          "metadata": {
            "tags": []
          },
          "execution_count": 18
        }
      ]
    },
    {
      "cell_type": "code",
      "metadata": {
        "id": "x5pjdGiwYY-I",
        "colab_type": "code",
        "colab": {}
      },
      "source": [
        "import pickle \n",
        "\n",
        "# let's define a function for saving the dictionary to disk\n",
        "\n",
        "def save_obj(obj,filename):\n",
        "    with open(filename, 'wb') as f:\n",
        "        pickle.dump(obj, f, pickle.HIGHEST_PROTOCOL)\n",
        "\n",
        "        \n",
        "# let's define a function for loading the dictionary from disk\n",
        "\n",
        "def load_obj(filename):\n",
        "    with open(filename, 'rb') as f:\n",
        "        return pickle.load(f)"
      ],
      "execution_count": null,
      "outputs": []
    },
    {
      "cell_type": "code",
      "metadata": {
        "id": "uruqDrjaYY-L",
        "colab_type": "code",
        "colab": {}
      },
      "source": [
        "# load the dictionary after extraction and transformation into textual format\n",
        "\n",
        "music = load_obj('/content/drive/My Drive/music.pkl')"
      ],
      "execution_count": null,
      "outputs": []
    },
    {
      "cell_type": "code",
      "metadata": {
        "id": "SLxgrJzqsK4p",
        "colab_type": "code",
        "colab": {
          "base_uri": "https://localhost:8080/",
          "height": 295
        },
        "outputId": "ace27654-f275-4abd-9c86-28f3d7a18816"
      },
      "source": [
        "# check the size of the song strings\n",
        "\n",
        "plt.figure()\n",
        "plt.plot([len(i) for i in music['text']],'b+')\n",
        "plt.title(\"Length of song strings in music['text']\")\n",
        "plt.xlabel('Song String ID')\n",
        "plt.show()"
      ],
      "execution_count": null,
      "outputs": [
        {
          "output_type": "display_data",
          "data": {
            "image/png": "[encoded data removed]",
            "text/plain": [
              "<Figure size 432x288 with 1 Axes>"
            ]
          },
          "metadata": {
            "tags": [],
            "needs_background": "light"
          }
        }
      ]
    },
    {
      "cell_type": "code",
      "metadata": {
        "id": "ddpczJnlrpbK",
        "colab_type": "code",
        "colab": {
          "base_uri": "https://localhost:8080/",
          "height": 34
        },
        "outputId": "75a2349d-92d8-4a45-a5bd-947c40c02dcb"
      },
      "source": [
        "# let's reduce the size of the dataset for memory concerns\n",
        "\n",
        "# we select only the songs that have a length lower than 20000 characters\n",
        "\n",
        "reduced_music_text = list(np.array(music['text'])[np.array([len(i) for i in music['text']])<20000])\n",
        "\n",
        "print('number of songs in reduced_music_text: ', len(reduced_music_text))"
      ],
      "execution_count": null,
      "outputs": [
        {
          "output_type": "stream",
          "text": [
            "number of songs in reduced_music_text:  34\n"
          ],
          "name": "stdout"
        }
      ]
    },
    {
      "cell_type": "code",
      "metadata": {
        "id": "SPtgaiujvYN5",
        "colab_type": "code",
        "colab": {
          "base_uri": "https://localhost:8080/",
          "height": 588
        },
        "outputId": "40ea5a3c-5400-4f53-f0d1-b8cfd0fd82b3"
      },
      "source": [
        "# now we store the index of each song we kept in the reduced dataset corresponding to their original position in the dictionary, in case we need this info later.\n",
        "\n",
        "original_position = {}\n",
        "\n",
        "for i in range(len(reduced_music_text)):\n",
        "  original_position[i] = np.argwhere((np.array([len(i) for i in music['text']])<20000)==True).flatten()[i]\n",
        "\n",
        "original_position"
      ],
      "execution_count": null,
      "outputs": [
        {
          "output_type": "execute_result",
          "data": {
            "text/plain": [
              "{0: 9,\n",
              " 1: 12,\n",
              " 2: 13,\n",
              " 3: 14,\n",
              " 4: 15,\n",
              " 5: 16,\n",
              " 6: 17,\n",
              " 7: 18,\n",
              " 8: 19,\n",
              " 9: 20,\n",
              " 10: 22,\n",
              " 11: 26,\n",
              " 12: 27,\n",
              " 13: 30,\n",
              " 14: 40,\n",
              " 15: 41,\n",
              " 16: 43,\n",
              " 17: 59,\n",
              " 18: 60,\n",
              " 19: 61,\n",
              " 20: 62,\n",
              " 21: 66,\n",
              " 22: 67,\n",
              " 23: 68,\n",
              " 24: 69,\n",
              " 25: 72,\n",
              " 26: 75,\n",
              " 27: 77,\n",
              " 28: 78,\n",
              " 29: 80,\n",
              " 30: 81,\n",
              " 31: 82,\n",
              " 32: 83,\n",
              " 33: 84}"
            ]
          },
          "metadata": {
            "tags": []
          },
          "execution_count": 23
        }
      ]
    },
    {
      "cell_type": "code",
      "metadata": {
        "id": "mkv-H9fBzWzw",
        "colab_type": "code",
        "colab": {
          "base_uri": "https://localhost:8080/",
          "height": 295
        },
        "outputId": "8644dfb0-9172-4ee3-ebd9-5cf5d11d5b47"
      },
      "source": [
        "# check the size of the song strings in the very much reduced version of the dataset\n",
        "\n",
        "plt.figure()\n",
        "plt.plot([len(i) for i in reduced_music_text],'b+')\n",
        "plt.title(\"Length of song strings in reduced_music_text\")\n",
        "plt.xlabel('Song String ID')\n",
        "plt.show()"
      ],
      "execution_count": null,
      "outputs": [
        {
          "output_type": "display_data",
          "data": {
            "image/png": "[encoded data removed]",
            "text/plain": [
              "<Figure size 432x288 with 1 Axes>"
            ]
          },
          "metadata": {
            "tags": [],
            "needs_background": "light"
          }
        }
      ]
    },
    {
      "cell_type": "code",
      "metadata": {
        "id": "3w1iyMeq3cBK",
        "colab_type": "code",
        "colab": {
          "base_uri": "https://localhost:8080/",
          "height": 121
        },
        "outputId": "019b5f0d-3382-4426-a8e7-264a6331f2c5"
      },
      "source": [
        "# let's use the split proposed by the original MAESTRO dataset\n",
        "\n",
        "original_split = [\n",
        "                  music['splits'][original_position[i]] \n",
        "                  for i in range(len(reduced_music_text))\n",
        "                  ]\n",
        "\n",
        "print(original_split)\n",
        "\n",
        "music_train=[]\n",
        "music_test=[]\n",
        "music_validation=[]\n",
        "\n",
        "for i,split in enumerate(original_split):\n",
        "  if split=='train':\n",
        "    music_train.append(reduced_music_text[i])\n",
        "  elif split=='test':\n",
        "    music_test.append(reduced_music_text[i])\n",
        "  else:\n",
        "    music_validation.append(reduced_music_text[i])\n",
        "\n",
        "print('\\nnumber of training song strings: ', len(music_train))\n",
        "print('number of test song strings: ', len(music_test))\n",
        "print('number of validation song strings: ', len(music_validation))\n"
      ],
      "execution_count": null,
      "outputs": [
        {
          "output_type": "stream",
          "text": [
            "['train', 'train', 'train', 'test', 'train', 'train', 'test', 'test', 'train', 'train', 'test', 'train', 'train', 'train', 'train', 'train', 'train', 'validation', 'validation', 'validation', 'train', 'train', 'train', 'train', 'train', 'train', 'train', 'train', 'train', 'train', 'train', 'train', 'validation', 'train']\n",
            "\n",
            "number of training song strings:  26\n",
            "number of test song strings:  4\n",
            "number of validation song strings:  4\n"
          ],
          "name": "stdout"
        }
      ]
    },
    {
      "cell_type": "code",
      "metadata": {
        "id": "wztkNLVk_ZLP",
        "colab_type": "code",
        "colab": {
          "base_uri": "https://localhost:8080/",
          "height": 87
        },
        "outputId": "04d696e2-2b7e-4ccb-80c1-1210ecc31719"
      },
      "source": [
        "# get the character vocabulary of the corpus\n",
        "\n",
        "# List of unique characters in the corpus of all songs\n",
        "chars = sorted(list(set(\"\".join(reduced_music_text))))\n",
        "print('Unique characters: ', len(chars))\n",
        "\n",
        "# Dictionary mapping unique characters to their index in `chars`\n",
        "char_indices = dict((char, chars.index(char)) for char in chars)\n",
        "print()\n",
        "print(char_indices)\n",
        "\n",
        "# save the vocabulary\n",
        "save_obj(char_indices,'/content/drive/My Drive/char_indices.pkl')"
      ],
      "execution_count": null,
      "outputs": [
        {
          "output_type": "stream",
          "text": [
            "Unique characters:  22\n",
            "\n",
            "{' ': 0, '#': 1, '-': 2, '0': 3, '1': 4, '2': 5, '3': 6, '4': 7, '5': 8, '6': 9, '7': 10, '8': 11, '9': 12, 'A': 13, 'B': 14, 'C': 15, 'D': 16, 'E': 17, 'F': 18, 'G': 19, 'e': 20, '|': 21}\n"
          ],
          "name": "stdout"
        }
      ]
    },
    {
      "cell_type": "code",
      "metadata": {
        "id": "Ts6D41J5YY-W",
        "colab_type": "code",
        "colab": {}
      },
      "source": [
        "# we are ready to prepare the one-hot-encoded data for neural networks\n",
        "\n",
        "# we define a function to do so\n",
        "\n",
        "def char_one_hot_encode(data, vocabulary, maxlen=512, step=3):\n",
        "\n",
        "  ''' This function divides each element in a list of strings into sequences of length <maxlen> with sample step of size <step>, identifying the next character for each of these sequences. \n",
        "  Using the <vocabulary> dictionary, it returns two objects: \n",
        "  x: the 3D binary array of sequences where each character has been one-hot encoded;\n",
        "  y: the 2D binary array of the next one-hot encoded character for each sequence in x'''\n",
        "\n",
        "  # Length of extracted character sequences\n",
        "  maxlen = 512\n",
        "\n",
        "  # We sample a new sequence every `step` characters\n",
        "  step = 3\n",
        "\n",
        "  # This holds our extracted sequences\n",
        "  sentences = []\n",
        "\n",
        "  # This holds the targets (the follow-up characters)\n",
        "  next_chars = []\n",
        "\n",
        "\n",
        "  for text in data:\n",
        "\n",
        "      for i in range(0, len(text) - maxlen, step):\n",
        "          sentences.append(text[i: i + maxlen])\n",
        "          next_chars.append(text[i + maxlen])\n",
        "\n",
        "  print('Number of sequences:', len(sentences))\n",
        "\n",
        "\n",
        "  # Next, one-hot encode the characters into binary arrays.\n",
        "  print('Vectorization...')\n",
        "  x = np.zeros((len(sentences), maxlen, len(vocabulary)), dtype=np.bool)\n",
        "  y = np.zeros((len(sentences), len(vocabulary)), dtype=np.bool)\n",
        "  for i, sentence in enumerate(sentences):\n",
        "      for t, char in enumerate(sentence):\n",
        "          x[i, t, vocabulary[char]] = 1\n",
        "      y[i, vocabulary[next_chars[i]]] = 1\n",
        "  \n",
        "  return x,y"
      ],
      "execution_count": null,
      "outputs": []
    },
    {
      "cell_type": "code",
      "metadata": {
        "id": "DAtolnTi-x_L",
        "colab_type": "code",
        "colab": {
          "base_uri": "https://localhost:8080/",
          "height": 319
        },
        "outputId": "9d917cec-d45c-462c-d5ca-26fc6bbf264d"
      },
      "source": [
        "# we apply the function to each dataset sharing the same vocabulary\n",
        "\n",
        "# training\n",
        "\n",
        "print('TRAINING DATA')\n",
        "x_train,y_train = char_one_hot_encode(data=music_train,\n",
        "                                      vocabulary=char_indices,\n",
        "                                      maxlen=512,\n",
        "                                      step=3)\n",
        "\n",
        "print('size of x_train: ', x_train.shape)\n",
        "print('size of y_train: ', y_train.shape,'\\n')\n",
        "\n",
        "# test\n",
        "\n",
        "print('TEST DATA')\n",
        "x_test,y_test = char_one_hot_encode(data=music_test,\n",
        "                                      vocabulary=char_indices,\n",
        "                                      maxlen=512,\n",
        "                                      step=3)\n",
        "\n",
        "print('size of x_test: ', x_test.shape)\n",
        "print('size of y_test: ', y_test.shape,'\\n')\n",
        "\n",
        "# validation\n",
        "\n",
        "print('VALIDATION DATA')\n",
        "x_validation,y_validation = char_one_hot_encode(data=music_validation,\n",
        "                                      vocabulary=char_indices,\n",
        "                                      maxlen=512,\n",
        "                                      step=3)\n",
        "\n",
        "print('size of x_validation: ', x_validation.shape)\n",
        "print('size of y_validation: ', y_validation.shape,'\\n')"
      ],
      "execution_count": null,
      "outputs": [
        {
          "output_type": "stream",
          "text": [
            "TRAINING DATA\n",
            "Number of sequences: 111439\n",
            "Vectorization...\n",
            "size of x_train:  (111439, 512, 22)\n",
            "size of y_train:  (111439, 22) \n",
            "\n",
            "TEST DATA\n",
            "Number of sequences: 17357\n",
            "Vectorization...\n",
            "size of x_test:  (17357, 512, 22)\n",
            "size of y_test:  (17357, 22) \n",
            "\n",
            "VALIDATION DATA\n",
            "Number of sequences: 20748\n",
            "Vectorization...\n",
            "size of x_validation:  (20748, 512, 22)\n",
            "size of y_validation:  (20748, 22) \n",
            "\n"
          ],
          "name": "stdout"
        }
      ]
    },
    {
      "cell_type": "code",
      "metadata": {
        "id": "HrrBwrHmpCju",
        "colab_type": "code",
        "colab": {}
      },
      "source": [
        "# let's save the numpy arrays to my drive storage\n",
        "\n",
        "np.save('/content/drive/My Drive/x_train.npy', x_train)\n",
        "np.save('/content/drive/My Drive/y_train.npy', y_train)\n",
        "np.save('/content/drive/My Drive/x_test.npy', x_test)\n",
        "np.save('/content/drive/My Drive/y_test.npy', y_test)\n",
        "np.save('/content/drive/My Drive/x_validation.npy', x_validation)\n",
        "np.save('/content/drive/My Drive/y_validation.npy', y_validation)"
      ],
      "execution_count": null,
      "outputs": []
    }
  ]
}