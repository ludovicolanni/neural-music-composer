{
  "nbformat": 4,
  "nbformat_minor": 0,
  "metadata": {
    "colab": {
      "name": "SequencesGeneration.ipynb",
      "provenance": [],
      "collapsed_sections": [],
      "toc_visible": true,
      "authorship_tag": "ABX9TyPOzcvOfzi52k5vAS7Gp8Qg",
      "include_colab_link": true
    },
    "kernelspec": {
      "name": "python3",
      "display_name": "Python 3"
    }
  },
  "cells": [
    {
      "cell_type": "markdown",
      "metadata": {
        "id": "view-in-github",
        "colab_type": "text"
      },
      "source": [
        "<a href=\"https://colab.research.google.com/github/ludovicolanni/neural-music-composer/blob/master/SequencesGeneration.ipynb\" target=\"_parent\"><img src=\"https://colab.research.google.com/assets/colab-badge.svg\" alt=\"Open In Colab\"/></a>"
      ]
    },
    {
      "cell_type": "markdown",
      "metadata": {
        "id": "-LU5JY18qAVa",
        "colab_type": "text"
      },
      "source": [
        "# Text Sequences Generation"
      ]
    },
    {
      "cell_type": "code",
      "metadata": {
        "id": "x8xyR2tKp6QQ",
        "colab_type": "code",
        "colab": {}
      },
      "source": [
        "import os\n",
        "import numpy as np\n",
        "import matplotlib.pyplot as plt"
      ],
      "execution_count": null,
      "outputs": []
    },
    {
      "cell_type": "code",
      "metadata": {
        "id": "2uy7deRTp8z7",
        "colab_type": "code",
        "colab": {
          "base_uri": "https://localhost:8080/",
          "height": 121
        },
        "outputId": "be793c5a-7b26-4d0d-b687-dca4df89da0c"
      },
      "source": [
        "from google.colab import drive\n",
        "drive.mount('/content/drive')"
      ],
      "execution_count": null,
      "outputs": [
        {
          "output_type": "stream",
          "text": [
            "Go to this URL in a browser: https://accounts.google.com/o/oauth2/auth?client_id=947318989803-6bn6qk8qdgf4n4g3pfee6491hc0brc4i.apps.googleusercontent.com&redirect_uri=urn%3aietf%3awg%3aoauth%3a2.0%3aoob&response_type=code&scope=email%20https%3a%2f%2fwww.googleapis.com%2fauth%2fdocs.test%20https%3a%2f%2fwww.googleapis.com%2fauth%2fdrive%20https%3a%2f%2fwww.googleapis.com%2fauth%2fdrive.photos.readonly%20https%3a%2f%2fwww.googleapis.com%2fauth%2fpeopleapi.readonly\n",
            "\n",
            "Enter your authorization code:\n",
            "··········\n",
            "Mounted at /content/drive\n"
          ],
          "name": "stdout"
        }
      ]
    },
    {
      "cell_type": "markdown",
      "metadata": {
        "id": "4tEpa5TlylKj",
        "colab_type": "text"
      },
      "source": [
        "## Import the necessary objects\n"
      ]
    },
    {
      "cell_type": "code",
      "metadata": {
        "id": "hif2ByF0ylom",
        "colab_type": "code",
        "colab": {}
      },
      "source": [
        "# vocabulary: character -> index\n",
        "\n",
        "import pickle\n",
        "\n",
        "def load_obj(filename):\n",
        "    with open(filename, 'rb') as f:\n",
        "        return pickle.load(f)\n",
        "\n",
        "char_indices = load_obj('/content/drive/My Drive/char_indices.pkl')\n"
      ],
      "execution_count": null,
      "outputs": []
    },
    {
      "cell_type": "code",
      "metadata": {
        "id": "yZqzTRx-4RJ-",
        "colab_type": "code",
        "colab": {
          "base_uri": "https://localhost:8080/",
          "height": 54
        },
        "outputId": "c32a76df-e8b9-4db3-dec9-27f40487bd4d"
      },
      "source": [
        "# vocabulary: index -> character\n",
        "\n",
        "chars = {v: k for k, v in char_indices.items()}\n",
        "print(chars)"
      ],
      "execution_count": null,
      "outputs": [
        {
          "output_type": "stream",
          "text": [
            "{0: ' ', 1: '#', 2: '-', 3: '0', 4: '1', 5: '2', 6: '3', 7: '4', 8: '5', 9: '6', 10: '7', 11: '8', 12: '9', 13: 'A', 14: 'B', 15: 'C', 16: 'D', 17: 'E', 18: 'F', 19: 'G', 20: 'e', 21: '|'}\n"
          ],
          "name": "stdout"
        }
      ]
    },
    {
      "cell_type": "code",
      "metadata": {
        "id": "caByS-li0B0H",
        "colab_type": "code",
        "colab": {
          "base_uri": "https://localhost:8080/",
          "height": 34
        },
        "outputId": "8f196f17-fda6-4440-9c64-9b6ed34edbfd"
      },
      "source": [
        "# test data\n",
        "\n",
        "x_test = np.load('/content/drive/My Drive/RNN_data/x_test.npy')\n",
        "\n",
        "print(x_test.shape)"
      ],
      "execution_count": null,
      "outputs": [
        {
          "output_type": "stream",
          "text": [
            "(17357, 512, 22)\n"
          ],
          "name": "stdout"
        }
      ]
    },
    {
      "cell_type": "markdown",
      "metadata": {
        "id": "5hKmHJx4urLE",
        "colab_type": "text"
      },
      "source": [
        "## Define the Sampling Function\n"
      ]
    },
    {
      "cell_type": "code",
      "metadata": {
        "id": "9yWW_7cAurnZ",
        "colab_type": "code",
        "colab": {}
      },
      "source": [
        "# let's define the sampling function that depends on the entropy level we assign to it\n",
        "# the lower the temperature, the more predictable the results.\n",
        "\n",
        "def sample_from_distribution(preds, temperature=1.0):\n",
        "\n",
        "  preds = np.asarray(preds).astype('float64')\n",
        "  new_preds = np.log(preds)/temperature\n",
        "  exp_preds = np.exp(new_preds)\n",
        "  w_preds = exp_preds/np.sum(exp_preds)\n",
        "  probas = np.random.multinomial(1, w_preds, 1)\n",
        "  \n",
        "  return np.argmax(probas)    # returns the character corresponding to the max reweighted probability"
      ],
      "execution_count": null,
      "outputs": []
    },
    {
      "cell_type": "markdown",
      "metadata": {
        "id": "7wnZxJumxlQ1",
        "colab_type": "text"
      },
      "source": [
        "## Define the generation loop"
      ]
    },
    {
      "cell_type": "code",
      "metadata": {
        "id": "MuCwqoeaxllw",
        "colab_type": "code",
        "colab": {}
      },
      "source": [
        "# let's build a function for custom generation given a trained model -> keep the seed sequence\n",
        "\n",
        "def generate_text(model, seed_set_of_sequences, chars, temp=0.01, n=1000):\n",
        "\n",
        "  ''' temp = sampling temperature,\n",
        "  n = number of characters to generate,\n",
        "  model = neural model already trained,\n",
        "  seed_set_of_sequences = 3D array of one-hot encoded sequences (e.g. x_test),\n",
        "  chars = dictionary (vocabulary from index to char) '''\n",
        "    \n",
        "  import random\n",
        "  import sys\n",
        "\n",
        "  # Select a text seed at random among the \n",
        "  random_number = random.randint(0, seed_set_of_sequences.shape[0] - 1)\n",
        "  seed_array = seed_set_of_sequences[random_number]\n",
        "\n",
        "  generated_text = ''\n",
        "\n",
        "  for i in range(seed_array.shape[0]):   # 512\n",
        "    generated_text = generated_text + chars[np.argmax(seed_array[i])]\n",
        "\n",
        "  print('--- Generating with seed: \"' + generated_text + '\"')\n",
        "\n",
        "  # We generate n characters\n",
        "  for i in range(n):\n",
        "\n",
        "    if i%200==0:\n",
        "      print('generating character number: ',i)\n",
        "    \n",
        "    preds = model.predict(seed_array.reshape(1,seed_array.shape[0],seed_array.shape[1]), verbose=0)[0]\n",
        "    next_index = sample_from_distribution(preds, temp)\n",
        "    next_char = chars[next_index]\n",
        "\n",
        "    generated_text += next_char\n",
        "            \n",
        "    pred_array = np.zeros(shape=(seed_array.shape[1]),dtype='bool')\n",
        "    pred_array[next_index] = True\n",
        "    seed_array = np.vstack((seed_array,pred_array))\n",
        "    seed_array = seed_array[1:]\n",
        "\n",
        "  return generated_text    "
      ],
      "execution_count": null,
      "outputs": []
    },
    {
      "cell_type": "code",
      "metadata": {
        "id": "grGbsaWvNKy1",
        "colab_type": "code",
        "colab": {}
      },
      "source": [
        "# let's build a function for custom generation given a trained model -> not keeping the seed sequence\n",
        "\n",
        "def generate_text_2(model, seed_set_of_sequences, chars, temp=0.01, n=1000):\n",
        "\n",
        "  ''' temp = sampling temperature,\n",
        "  n = number of characters to generate,\n",
        "  model = neural model already trained,\n",
        "  seed_set_of_sequences = 3D array of one-hot encoded sequences (e.g. x_test),\n",
        "  chars = dictionary (vocabulary from index to char) '''\n",
        "    \n",
        "  import random\n",
        "  import sys\n",
        "\n",
        "  # Select a text seed at random among the \n",
        "  random_number = random.randint(0, seed_set_of_sequences.shape[0] - 1)\n",
        "  seed_array = seed_set_of_sequences[random_number]\n",
        "\n",
        "  seed_text = ''\n",
        "  generated_text = ''\n",
        "\n",
        "  for i in range(seed_array.shape[0]):   # 512\n",
        "    seed_text = seed_text + chars[np.argmax(seed_array[i])]\n",
        "\n",
        "  print('--- Generating with seed: \"' + seed_text + '\"')\n",
        "\n",
        "  # We generate n characters\n",
        "  for i in range(n):\n",
        "\n",
        "    if i%200==0:\n",
        "      print('generating character number: ',i)\n",
        "    \n",
        "    preds = model.predict(seed_array.reshape(1,seed_array.shape[0],seed_array.shape[1]), verbose=0)[0]\n",
        "    next_index = sample_from_distribution(preds, temp)\n",
        "    next_char = chars[next_index]\n",
        "\n",
        "    generated_text += next_char\n",
        "            \n",
        "    pred_array = np.zeros(shape=(seed_array.shape[1]),dtype='bool')\n",
        "    pred_array[next_index] = True\n",
        "    seed_array = np.vstack((seed_array,pred_array))\n",
        "    seed_array = seed_array[1:]\n",
        "\n",
        "  return generated_text "
      ],
      "execution_count": null,
      "outputs": []
    },
    {
      "cell_type": "markdown",
      "metadata": {
        "id": "A1AIj0t-teQF",
        "colab_type": "text"
      },
      "source": [
        "## Generation with LSTM based model"
      ]
    },
    {
      "cell_type": "code",
      "metadata": {
        "id": "LMvTGDcTFy2Y",
        "colab_type": "code",
        "colab": {}
      },
      "source": [
        "# import the trained model\n",
        "\n",
        "from tensorflow import keras\n",
        "\n",
        "lstm_1_100 = keras.models.load_model('/content/drive/My Drive/RNN_models/lstm_1_100.h5')"
      ],
      "execution_count": null,
      "outputs": []
    },
    {
      "cell_type": "markdown",
      "metadata": {
        "id": "_L7Pcsg3Me0x",
        "colab_type": "text"
      },
      "source": [
        "### temperature 0.01"
      ]
    },
    {
      "cell_type": "code",
      "metadata": {
        "id": "IUL7FgroFypr",
        "colab_type": "code",
        "colab": {
          "base_uri": "https://localhost:8080/",
          "height": 171
        },
        "outputId": "450917a1-b03e-4b8b-e9d7-838be9bf27ab"
      },
      "source": [
        "# generate with t=0.01\n",
        "\n",
        "results_lstm_t001_n1000 = generate_text(model=lstm_1_100,\n",
        "                                       seed_set_of_sequences=x_test,\n",
        "                                       chars=chars,\n",
        "                                       temp=0.01,\n",
        "                                       n=1000)\n",
        "\n",
        "print()\n",
        "print('newly generated text: ---------- ',results_lstm_t001_n1000[512:])"
      ],
      "execution_count": null,
      "outputs": [
        {
          "output_type": "stream",
          "text": [
            "--- Generating with seed: \"2|E7-88 C5-72|E5-77|G5-80|E6-92|E7-88 C5-72|E5-77|G5-85|C6-84|E6-92|E7-88 C5-72|E5-77|G5-85|C6-84|E6-92|C7-90|E7-88 C5-72|E5-77|G5-85|C6-84|E6-92|C7-90|E7-88 B5-87 e F6-74 e G6-76 C5-44|E5-62|G6-76|E7-81 C5-44|E5-62|E6-81|G6-76|E7-81 C5-49|F5-84|G#5-84|F6-90 C5-63|F5-77|G#5-62|F7-89 C5-63|F5-81|G#5-90|F6-79|G#6-85|F7-89 C5-75|F#5-92|A5-91 F#7-92 C5-72|A5-85|A6-88 e C#5-91|A#6-88 C#5-91|A#6-88 C#5-91|A#6-88|B6-82|F#7-98 C#5-91|D#5-92|C6-93|A#6-88|B6-82|F#7-98 C#5-91|D#5-92|C6-93|A#6-88|B6-82|C7-85|F#7-98 C#5\"\n",
            "generating character number:  0\n",
            "generating character number:  200\n",
            "generating character number:  400\n",
            "generating character number:  600\n",
            "generating character number:  800\n",
            "\n",
            "newly generated text: ----------  -89|D#6-95 A#3-82|A#5-90|B5-91|B5-101 D#4-83|D#4-84|G#4-92|A#4-92|A#4-92|A#4-90|A5-90|B5-91|B5-101 D#4-101|G#--88|C#5-92|E5-98|G#5-92|A#5-104 C#4-83|D#5-92|E5-90|G#5-102 A#3-90|C#4-84|E4-84|G#4-88|C#5-92|E5-90|G#5-104 C#4-88|D#5-92|E5-90|G#5-104 C#4-92|A4-88|C#5-92|E5-90|G5-90 A#3-90|C#5-92|E5-90|G#5-104 C#4-82|A4-84|C#5-92|E5-90|G5-90 A#3-90|C#5-92|E5-90|G#5-104 C#4-82|A4-84|C#5-92|E5-90|G5-90 A#3-79|C#4-84|E4-84|G#4-88|C#5-92|E5-90|G#5-104 C#4-88|D#5-92|E5-90|G#5-102 A#4-98 A#2-88|C#5-90 E3-76|C#5-92 E3-76|C#5-92 E3-76|C#5-92 E3-76|C#5-92 E3-76|C#5-92 E3-76|C#5-92 E3-76|C#5-92 E3-76|C#5-92 E3-76|C#5-92 E3-76|C#5-92 E3-76|C#5-92 E3-76|C#5-84 E3-76|C#5-84 E3-76|G#4-84|E5-84 E3-76|C#5-84 E3-76|G#4-83|E5-84 E3-76|C#5-84 E3-76|C#4-84|E4-84|G#4-87|E5-84 E3-76|C#4-83|E4-84|G#4-87|E5-84 E3-76|C#4-83|E4-84|G#4-89|E5-86 E3-76|C#4-83|E4-84|G#4-87|E5-84 E3-76|C#4-83|E4-84|G#4-89|E5-86 E3-76|C#4-83|E4-84|G#4-87|E5-84 E3-76|C#4-83|E4-84|G#4-89|E5-86 E3-76|C#4-83|E4-84|G#4-87|C#5-87|E5-84 E3-76|C#4\n"
          ],
          "name": "stdout"
        }
      ]
    },
    {
      "cell_type": "code",
      "metadata": {
        "id": "3zZVDdslO-Ig",
        "colab_type": "code",
        "colab": {}
      },
      "source": [
        "# save the generated text\n",
        "\n",
        "with open('/content/drive/My Drive/RNN_generatedtext/results_lstm_t001_n1000.txt', 'w') as f:\n",
        "    f.write(results_lstm_t001_n1000)"
      ],
      "execution_count": null,
      "outputs": []
    },
    {
      "cell_type": "markdown",
      "metadata": {
        "id": "ipdvv4GRNBba",
        "colab_type": "text"
      },
      "source": [
        "### temperature 0.2"
      ]
    },
    {
      "cell_type": "code",
      "metadata": {
        "id": "hQMpJRnpMmrT",
        "colab_type": "code",
        "colab": {
          "base_uri": "https://localhost:8080/",
          "height": 171
        },
        "outputId": "ed7124d3-588b-475d-b335-40a8bc28a9ce"
      },
      "source": [
        "# generate with t=0.2\n",
        "\n",
        "results_lstm_t02_n1000 = generate_text(model=lstm_1_100,\n",
        "                                       seed_set_of_sequences=x_test,\n",
        "                                       chars=chars,\n",
        "                                       temp=0.2,\n",
        "                                       n=1000)\n",
        "\n",
        "print()\n",
        "print('newly generated text: ---------- ',results_lstm_t02_n1000[512:])"
      ],
      "execution_count": null,
      "outputs": [
        {
          "output_type": "stream",
          "text": [
            "--- Generating with seed: \"C6-78 C5-60|C6-78 F4-72 A4-65|C5-77|C6-93 C5-77|C6-93 E4-81|C5-77|C6-93 C5-77|C6-93 D4-75|C6-93 D4-75|C6-93 e e e E4-66 E4-66|A5-89 e E3-52|G#5-85 e e e C#5-42|C#6-61 G#4-55|C#5-42|C#6-61 C#5-42|C#6-61 F#4-62 e C#5-56|C#6-77 E4-67|C#5-56|C#6-77 C#5-56|C#6-77 D4-60|C#5-56|C#6-77 D4-60|C#6-77 e F#4-63|B4-65|B5-83 e E4-55 e e G#4-75|G#5-82 e e A3-68 e e e A3-87 B2-59|A3-87|D4-59|D5-80 A3-87 A3-87 C#3-62|A3-87 A3-87 A3-87|E4-55 A3-87 A3-87 D3-66|A3-87 A3-87 A3-87 E3-72|A3-87|G#4-89|G#5-90 A3-87 A3-87 A2-66|A3-8\"\n",
            "generating character number:  0\n",
            "generating character number:  200\n",
            "generating character number:  400\n",
            "generating character number:  600\n",
            "generating character number:  800\n",
            "\n",
            "newly generated text: ----------  0 A3-79|A4-82|C5-81 A3-79|A4-89 A3-79|C#4-84|E4-78|G4-77|C5-81 A3-79|C#4-83|A4-87 A3-71|C#4-80|A4-87 A3-79|C#4-81|A4-87 A3-71|C#4-80|A4-87 A3-71|C#4-84|E4-75|A4-87 G3-84|F4-76|A4-87 D4-82|A4-87 D4-82|A4-84 D4-74|A4-84 A4-79 A3-69|C#4-81|E4-75 A3-76|C4-76|E4-75 A3-84|C4-75|E4-85 A3-75|C4-75|E4-85 A3-85|C4-84|D4-95|E4-85|G4-87 A3-56|C#4-70|A4-75 A3-56|C#4-70|A4-84 A3-56|C#4-70|D5-77 A3-56|C#4-59|A4-84|D5-78 A3-56|C4-65|D4-25|G4-60|A4-54|C5-69 A3-56|C4-65|D4-25|G4-53|A4-54|C5-69 A3-56|C#4-50|A4-65|A4-64|C5-69 A3-56|C4-63|D4-25|G4-53|A4-64|C5-62 A3-56|C4-63|D4-25|G4-53|A4-64|C5-69 A3-56|C4-64|D5-68 A3-56|C4-67|D5-68 A3-56|C#4-58|A5-66 A3-56|C4-63|D5-60|A5-66 A3-56|C4-57|D5-62|A5-66 A3-56|C4-63|A4-54|E5-65 A3-56|C#4-58|A5-66 A3-56|C4-64|D5-61 A3-56|D4-62|D5-62 A3-56|C#4-58|A5-66 A3-56|C#4-58|A5-63 A3-56|D4-54|A4-56|A5-66 A3-56|D4-53|A4-64|D5-60 A3-56|D4-54|A4-58|A5-66 A3-56|D4-56|A5-66 A3-56|C#4-57|A5-65 A3-56|C#4-56|A5-67 A3-56|C#4-56|A5-66 A3-56|D4-53|A4-56|A5-66 A3-56|C#4-57|A5-67 A3-56|\n"
          ],
          "name": "stdout"
        }
      ]
    },
    {
      "cell_type": "code",
      "metadata": {
        "id": "V9Yu0cQuQfZ-",
        "colab_type": "code",
        "colab": {}
      },
      "source": [
        "# save the generated text\n",
        "\n",
        "with open('/content/drive/My Drive/RNN_generatedtext/results_lstm_t02_n1000.txt', 'w') as f:\n",
        "    f.write(results_lstm_t02_n1000)"
      ],
      "execution_count": null,
      "outputs": []
    },
    {
      "cell_type": "markdown",
      "metadata": {
        "colab_type": "text",
        "id": "apXQzK5YQtc0"
      },
      "source": [
        "### temperature 0.5"
      ]
    },
    {
      "cell_type": "code",
      "metadata": {
        "colab_type": "code",
        "id": "liN4gZ6MQtc4",
        "colab": {
          "base_uri": "https://localhost:8080/",
          "height": 171
        },
        "outputId": "49f1f906-85f6-42fe-da73-faea1efc041d"
      },
      "source": [
        "# generate with t=0.5\n",
        "\n",
        "results_lstm_t05_n1000 = generate_text(model=lstm_1_100,\n",
        "                                       seed_set_of_sequences=x_test,\n",
        "                                       chars=chars,\n",
        "                                       temp=0.5,\n",
        "                                       n=1000)\n",
        "\n",
        "print()\n",
        "print('newly generated text: ---------- ',results_lstm_t05_n1000[512:])"
      ],
      "execution_count": null,
      "outputs": [
        {
          "output_type": "stream",
          "text": [
            "--- Generating with seed: \" F4-67|B4-75 e e F#4-66|A4-82 e A4-73 D#4-71 D#4-71 A4-73 C#4-56|A4-65 e F#5-63 F#5-63 B4-45|F#5-63 B4-45 A4-51 e E4-44 e G#4-69 e e A3-47|E4-59 E4-59 A4-71 G#4-80 e G#3-61|E4-67 E4-67|A4-65 E3-77 E4-76 A3-63|E4-82 A3-63|E4-82|C#5-83 E4-82|A4-84 F#3-69|G#4-88 e G#3-69|E4-76 G#3-69|E4-76|E5-83 C#5-88|D#5-90 A3-86|B4-79 e B3-87|G#4-87|A4-79 B4-83 e F#4-85 e E2-74|E4-77 E2-74|E4-77 E2-74|E4-77 E2-74|E4-77 E2-74|E4-77|E5-86 E2-74|E4-77|E5-86 E2-74|E4-77|E5-86|F5-82 E2-74|E4-77|E5-86|F5-82 E2-54|F5-82 E2-54|D5-7\"\n",
            "generating character number:  0\n",
            "generating character number:  200\n",
            "generating character number:  400\n",
            "generating character number:  600\n",
            "generating character number:  800\n",
            "\n",
            "newly generated text: ----------  2 A2-57|F5-73 G2-49|D5-66 G2-47|A4-63 G4-63 G4-62 G4-60 A4-61 B4-63 A4-63 A4-65 A4-65 A2-57|B4-66 A2-69|B4-70 A2-67 G2-67 G2-61|B4-70 A2-57|C5-71 D2-57|G3-61|F#4-71 D2-59|A4-66 F2-51|A#3-51|A4-69 C3-63|D4-59|D5-65 A2-51|D3-59|D5-59 C2-59|A3-59|G4-65|C5-62 A2-53|A#3-56|A#4-66|D5-66 A2-45|D3-54|A4-65|C5-64 A2-45|C3-54|D5-58 C2-51|C3-53|A#4-59 G2-51|A3-56|A4-62 B2-50|A3-50|A4-63 A2-53|C#3-56|A3-57|A4-53 C3-51|A3-60|C#4-63|E4-64 A2-44|C3-55|C3-60|E4-65 A2-47|D3-62|F#4-61 A2-57|F3-56|A3-53|C#4-65 C3-69|D4-69 A4-67 C3-63|F3-63|F4-66 A2-63|C3-68|B3-68 A2-67|A3-60|A4-63 A2-57|C#4-68 C3-65|A3-63|D4-64 C3-63|D4-65 A2-77|E3-65|G4-65 A2-56|A3-60|A4-63 A2-66|A3-69|D#4-66 A2-65|A2-67|A3-63|A4-69 A2-51|A3-66|A4-62 A2-57|C3-64|C3-66|A3-52|A4-60 A2-56|C3-63|A3-61|G#4-66 A2-47|A3-60|D4-63|A4-67 A2-48|A3-63|D4-62|A4-64 A2-45|C3-63|C3-56|F4-61 A2-48|C3-45|A3-56|C4-57|D4-52 A2-48|D3-52|D4-50|C4-45|D5-51 C2-55|C3-50|D4-51|C#4-56|A4-58 F2-43|A3-44|C#5-52 A2-46|C3-54|D4-52|D#4-52 A2-48|D3-50|A4-51 C3-51|C3-44\n"
          ],
          "name": "stdout"
        }
      ]
    },
    {
      "cell_type": "code",
      "metadata": {
        "colab_type": "code",
        "id": "CICY2rJ9QtdE",
        "colab": {}
      },
      "source": [
        "# save the generated text\n",
        "\n",
        "with open('/content/drive/My Drive/RNN_generatedtext/results_lstm_t05_n1000.txt', 'w') as f:\n",
        "    f.write(results_lstm_t05_n1000)"
      ],
      "execution_count": null,
      "outputs": []
    },
    {
      "cell_type": "markdown",
      "metadata": {
        "id": "HiKW0fCmFFus",
        "colab_type": "text"
      },
      "source": [
        "#### Generation of a set of songs with this temperature"
      ]
    },
    {
      "cell_type": "code",
      "metadata": {
        "id": "qSg3lsnLE9lA",
        "colab_type": "code",
        "colab": {
          "base_uri": "https://localhost:8080/",
          "height": 1000
        },
        "outputId": "50f026f4-b537-43c7-d0f7-2b6d11a83b69"
      },
      "source": [
        "# generate 10 songs\n",
        "\n",
        "dict_lstm_t05_n1000 = {}\n",
        "\n",
        "for i in range(1,11):\n",
        "  print('#### iteration ',i)\n",
        "  dict_lstm_t05_n1000[i] = generate_text(model=lstm_1_100,\n",
        "                                         seed_set_of_sequences=x_test,\n",
        "                                         chars=chars,\n",
        "                                         temp=0.5,\n",
        "                                         n=1000)\n"
      ],
      "execution_count": null,
      "outputs": [
        {
          "output_type": "stream",
          "text": [
            "#### iteration  1\n",
            "--- Generating with seed: \"-90|B6-83|C7-94|D#7-87|E7-91|F7-79|F#7-102 B4-82|C5-83|D#5-75|E5-84|F5-85|F#5-86|A5-84|A#5-82|B5-88|C6-89|D#6-83|E6-87|F6-83|F#6-86|A6-91|A#6-90|B6-83|C7-94|D#7-87|E7-91|F7-79|F#7-102 A4-68|A#4-84|B4-82|C5-83|D#5-75|E5-84|F5-85|F#5-86|A5-84|A#5-82|B5-88|C6-89|D#6-83|E6-87|F6-83|F#6-86|A6-91|A#6-90|B6-83|C7-94|D#7-87|E7-91|F7-79|F#7-102 A#4-69|B4-60|D5-11 A4-72 e e e e e e D#4-76 D4-75 C#4-76 C4-71 e e e e e e e C4-64 D#4-51 G#3-63 C4-52 D#4-57 e e e e e e e e e e D4-60 e G3-41 D#3-51|G4-74 G3-44 A3-48 e e e\"\n",
            "generating character number:  0\n",
            "generating character number:  200\n",
            "generating character number:  400\n",
            "generating character number:  600\n",
            "generating character number:  800\n",
            "#### iteration  2\n",
            "--- Generating with seed: \"6 A#4-87|D5-75|G5-73|A#5-82 e e e A5-83|C6-83 A4-69|A5-83|C6-83 A4-63|C6-83 G4-63|C6-83 G4-63|G5-63|A#5-73 A#5-73 A#5-73 A#5-73 D#5-76|F#5-70|A5-74 A#4-88 A4-87 A#4-93|D5-73|G5-69|A#5-82 e e e G4-76|B5-81|D6-86 A4-63|B5-81 A4-64|B5-81 G4-66|B5-81 A5-70|C6-74 A5-70|C6-74 A5-70|C6-74 A5-70|C6-74 F5-75|G#5-70|B5-75 e e C5-95|E5-73|A5-73|C6-83 B4-85 A4-82 e A4-76|B5-80|D6-84 A4-70|B5-80 A4-63|B5-80 A4-63|B5-80 C6-72 C6-72 C6-72 D5-78|F5-63|G#5-62|B5-65|C6-72 C5-73 B4-78 e e B4-76 e C#6-77 B4-66 B4-66 B4-66 F#5-\"\n",
            "generating character number:  0\n",
            "generating character number:  200\n",
            "generating character number:  400\n",
            "generating character number:  600\n",
            "generating character number:  800\n",
            "#### iteration  3\n",
            "--- Generating with seed: \"81 A3-78|D5-80 E5-76 C#5-77 C#5-77 D5-81 C#5-78 B4-76 B4-76 A4-73 B4-74 G4-76 A3-57|F#4-73|G4-76 A3-57|F#4-73 G4-76 E4-74 E4-74 A2-50|D4-70 D4-70|E4-65 E4-65 C#4-72|E4-65 C#4-72 C#4-72 C#4-72 D2-48|C#4-72 D2-48|C#4-72 D2-48|C#4-72|D4-64 D2-48|D4-63 D2-48|D4-62 D2-48|D4-57 D2-48|E4-61 D2-48|E4-59 D2-48|E4-49 D2-48|D4-51|E4-49 D2-48|D4-51 D2-48|D4-51 D2-48|D4-51 D2-48|D4-51 D2-48|D4-51 D2-48|D4-51 D2-48|D4-51 D2-48|D4-51 D2-48|D4-51 D2-48|D4-51 D2-48|D4-51 D2-48|D4-51 D2-48|D4-51 D2-48|D4-51 D2-48|D4-51 D2-48\"\n",
            "generating character number:  0\n",
            "generating character number:  200\n",
            "generating character number:  400\n",
            "generating character number:  600\n",
            "generating character number:  800\n",
            "#### iteration  4\n",
            "--- Generating with seed: \"F#3-73|D4-91|D5-85|D6-79 e e G3-68|E5-81|G5-74 e A3-80|F#5-91 A3-80|D5-79|F#5-82 e E5-79 e D2-82|D5-82 D2-82|F#4-84|D5-76 D2-82 D2-82|A4-83|E5-73 D2-81|F#4-88|D5-83 D2-81 D2-81|F#4-80|D5-76 D2-81 e D2-83|F#4-83|D5-75 D2-83 D2-83|A4-86|E5-75 D2-77|F#4-87|D5-82 D2-77|D5-82 D2-77|A4-87|E5-77 e D2-79|F#4-85|D5-78 D2-79 E5-80 F#4-73|E5-72 D2-72|F#4-73|E5-72 D2-72|F#4-73|D5-71 D2-72|F#4-73|D5-71 D2-72|F#4-73|D5-71|E5-66 D2-72|F#4-73|D5-71|E5-66 D2-72|F#4-73|D5-71|E5-66 D2-72|F#4-73|D5-71|E5-66 D2-72|F#4-73|D5-71|\"\n",
            "generating character number:  0\n",
            "generating character number:  200\n",
            "generating character number:  400\n",
            "generating character number:  600\n",
            "generating character number:  800\n",
            "#### iteration  5\n",
            "--- Generating with seed: \"#6-82|D6-87 B5-79 A5-89 A4-16|G5-87 E5-84|F#5-87 D5-88 A4-71|E5-85 A5-86 G5-81 F#5-79 A3-59|D5-74 C#5-78 B4-79|C#5-78 B4-79|C#5-78 A4-79 B4-65 B4-61 F#3-57|B4-64 F#3-57|A4-61|B4-64 F#3-57|A4-69|B4-64 F#3-57|G4-79|A4-73|B4-64 F#3-57|G3-75|G4-79|A4-73|B4-64 F#3-57|G3-75|G4-79|A4-73|B4-71 G3-75|C#5-69 A4-71 A4-71|B4-70 A3-82 A3-82|F#4-69|C#5-73 A3-82|F#4-69|B4-74|C#5-73 A3-82|B3-82|F#4-69|B4-74|C#5-73|D5-79 B3-82|E5-74 C#5-74 C#5-74|D5-70 C#4-66|F#5-75 C#4-66|A4-60|E5-70 D5-72 D4-57|E5-62|F#5-73 D4-57|G5-63 E5\"\n",
            "generating character number:  0\n",
            "generating character number:  200\n",
            "generating character number:  400\n",
            "generating character number:  600\n",
            "generating character number:  800\n",
            "#### iteration  6\n",
            "--- Generating with seed: \"-46|A3-37|B3-48|D5-61|C6-69 D3-46|A3-37|B3-48|D5-61|C6-69 D3-46|A3-37|B3-48|D5-61|A#5-73|C6-69 D3-46|A3-37|B3-48|D5-61|G#5-72|A#5-73|C6-69 D3-46|A3-37|B3-48|D5-61|G#5-72|A#5-73|C6-69 C3-46|A3-39 C3-46|A3-39 e e e E3-43|A3-57|C4-59 B4-62 A4-62 G#4-65 e A3-62|C#5-77 e E5-80 E5-80 E2-83|E4-77|E5-80 E2-83|E4-77|E5-80 C#5-70|D5-64 B4-70 A2-53|D5-63 A4-68 D5-82 B4-71|E5-82|A5-88 B4-71|E5-82|A5-88 B4-71|E5-82|A5-88 E4-70|B4-71|E5-82|A5-88 D5-68 C#5-66 D5-66 C#5-72 A3-50|D5-82 B4-68 E5-79 E5-79 E2-70|E4-71|E5-79 E2\"\n",
            "generating character number:  0\n",
            "generating character number:  200\n",
            "generating character number:  400\n",
            "generating character number:  600\n",
            "generating character number:  800\n",
            "#### iteration  7\n",
            "--- Generating with seed: \"-77|C#5-76|E5-73 G4-78|C#5-76|E5-73 e e e e E4-79|A5-84|C6-83 E4-68|A5-84|C6-83 E4-62|C6-83 D4-62|C6-83 G5-68|A#5-74 G5-68|A#5-74 G5-68|A#5-74 G5-68|A#5-74 D#5-80|F#5-69|A5-81 A#4-86|D#5-80|F#5-69 A4-86 A#4-87|D5-75|G5-73|A#5-82 e e e A5-83|C6-83 A4-69|A5-83|C6-83 A4-63|C6-83 G4-63|C6-83 G4-63|G5-63|A#5-73 A#5-73 A#5-73 A#5-73 D#5-76|F#5-70|A5-74 A#4-88 A4-87 A#4-93|D5-73|G5-69|A#5-82 e e e G4-76|B5-81|D6-86 A4-63|B5-81 A4-64|B5-81 G4-66|B5-81 A5-70|C6-74 A5-70|C6-74 A5-70|C6-74 A5-70|C6-74 F5-75|G#5-70|B5-\"\n",
            "generating character number:  0\n",
            "generating character number:  200\n",
            "generating character number:  400\n",
            "generating character number:  600\n",
            "generating character number:  800\n",
            "#### iteration  8\n",
            "--- Generating with seed: \"-65|D5-90 F4-59|D5-90 D4-57|E4-60 D4-57|E4-60 D4-57|E4-60|D5-69|E5-74 D4-57|E4-60|F4-48|A4-50|D5-69|E5-74|F5-84 D4-53|A4-50|F5-84 F5-84 F5-84 C4-44|E4-50|A4-53|E5-73 E4-50 E4-50 A#3-55|D4-46|E4-50 A#3-55|D4-46|E4-50|G4-58|D5-79|E5-67 G4-58|C#5-73|D5-79 G4-58|C#5-73|D5-79 A3-49|G4-58|C#5-73|D5-79 A3-49|C#4-45|E4-45|G4-58|C#5-73|D5-79|E5-71 A3-49|C#4-45|E4-45|G4-46|E5-71 e e D4-59|F4-66|A4-68|F5-82 E5-86|F5-82 E5-86|F5-82 A#3-61|D4-62|E5-86|F5-88 A#3-61|D4-62|E4-61|G4-63|G5-86 F5-82 E5-78|F5-82 A3-53|C#4-53|E\"\n",
            "generating character number:  0\n",
            "generating character number:  200\n",
            "generating character number:  400\n",
            "generating character number:  600\n",
            "generating character number:  800\n",
            "#### iteration  9\n",
            "--- Generating with seed: \"72|A3-97 e e e A2-82|A3-92|A4-93|E5-92|A5-82 A2-82|A3-92 A5-79 e e A2-75|A3-91|A4-100|E5-87|A5-85 e e A3-89|A4-91|E5-83 e D3-84|A4-96|F#5-88|A5-91 e e F#2-78|F#3-96|A4-92|D5-83|A5-84 e A2-68|A4-88|E5-88|A5-80 e e A4-91 e D3-75|A4-93|F#5-90|A5-89 e A2-75|A4-89|E5-81|A5-80 e D2-80|A4-86|D5-67|A5-82 A5-82 e A1-75|A2-85|E5-73 A1-75|A2-85|E5-73|F#5-76 A1-75|A2-85|E5-73|F#5-76 A1-75|A2-85|E5-73|F#5-76 A1-75|A2-85|E5-73|F#5-76 A1-75|A2-85|E5-73|F#5-76 A1-75|A2-85|E5-73|F#5-76 e D4-28|A4-68 C#4-44|E4-39|C#5-69 D5-7\"\n",
            "generating character number:  0\n",
            "generating character number:  200\n",
            "generating character number:  400\n",
            "generating character number:  600\n",
            "generating character number:  800\n",
            "#### iteration  10\n",
            "--- Generating with seed: \"7|D5-63 D3-62|A3-62 D3-62|A3-62|B3-73|A4-63|G5-88 A4-63|F5-88|G5-88 A4-63|F5-88|G5-88 A4-63|F5-88|G5-88 D3-58|A3-67 D3-58|A3-67|B3-69|D5-62|C6-85 D3-58|A3-67|B3-69|D5-62|C6-85 B3-69|D5-62|A#5-92|C6-85 B3-69|D5-62|G#5-89|A#5-92|C6-85 B3-69|D5-62|G#5-89|A#5-92|C6-85 C3-52|A3-66|A5-79 C3-52|A3-66 e D3-63|B3-82|D5-87 e E3-55|A3-56|C4-73|C5-88 E3-55|A3-56|C4-73|C5-88 A4-75 E3-54|G#3-59|B3-70|B4-81 e A2-60|A3-61|G#4-84 A2-60|A3-61 A2-60|A3-61 A3-61 e D3-35|A3-43 D3-35|A3-43|B3-42|G4-44 D3-35|A3-43|B3-42|G4-44 D3-\"\n",
            "generating character number:  0\n",
            "generating character number:  200\n",
            "generating character number:  400\n",
            "generating character number:  600\n",
            "generating character number:  800\n"
          ],
          "name": "stdout"
        }
      ]
    },
    {
      "cell_type": "code",
      "metadata": {
        "id": "9ZrmqwhoO-E8",
        "colab_type": "code",
        "colab": {}
      },
      "source": [
        "# save the songs\n",
        "\n",
        "for i in dict_lstm_t05_n1000:\n",
        "  \n",
        "  path = '/content/drive/My Drive/RNN_generatedtext/results_lstm_t05_n1000_{}.txt'.format(i)\n",
        "\n",
        "  with open(path, 'w') as f:\n",
        "    f.write(dict_lstm_t05_n1000[i])"
      ],
      "execution_count": null,
      "outputs": []
    },
    {
      "cell_type": "code",
      "metadata": {
        "colab_type": "code",
        "id": "opHtfLZLOSgK",
        "colab": {
          "base_uri": "https://localhost:8080/",
          "height": 1000
        },
        "outputId": "f58a3b00-2bbc-498b-a558-52b978f325a0"
      },
      "source": [
        "# generate 10 songs without keeping the seed sequence (1500 characters)\n",
        "\n",
        "dict_lstm_t05_n1000 = {}\n",
        "\n",
        "for i in range(11,21):\n",
        "  print('#### iteration ',i)\n",
        "  dict_lstm_t05_n1000[i] = generate_text_2(model=lstm_1_100,\n",
        "                                         seed_set_of_sequences=x_test,\n",
        "                                         chars=chars,\n",
        "                                         temp=0.5,\n",
        "                                         n=1500)\n"
      ],
      "execution_count": null,
      "outputs": [
        {
          "output_type": "stream",
          "text": [
            "#### iteration  11\n",
            "--- Generating with seed: \"|B5-80 B4-57|D#5-60 B4-57|D#5-60 e e e G5-54|B5-72 e e e e e C5-50 G#5-65|C6-79 e e e F4-65|G#4-69 F#4-71|A4-77 C5-62|D#5-69 e e G#5-76|C#6-92 C#5-72|F5-67 F4-76|G#4-67|C#5-72|F5-67 e e e A5-82|C6-79 C#6-96 e e e A5-75|C6-66 C#5-67|F5-66 C#5-67|F5-66 e A5-63|C#6-80 C#5-54|F5-64 C#5-54|F5-64 e A4-58|C#5-68 e e e e e E4-42|A4-56|C#5-52|C#6-63 C#7-76 C#6-72|C#7-76 C#6-72|C#7-76 C#6-72|C#7-76 E4-43|A4-80 G#5-69 A5-73 C#6-73 A5-67 e F#6-72|B6-76 e e F#6-79 F#6-79 D#5-70|F#6-79 F#5-69 A5-67 E4-63|A4-63|C#5-66 C#5\"\n",
            "generating character number:  0\n",
            "generating character number:  200\n",
            "generating character number:  400\n",
            "generating character number:  600\n",
            "generating character number:  800\n",
            "generating character number:  1000\n",
            "generating character number:  1200\n",
            "generating character number:  1400\n",
            "#### iteration  12\n",
            "--- Generating with seed: \"A5-92 D3-61|E5-91 e e e e A2-50 e e e E5-66 E5-66 E5-66 E2-48|E4-49|E5-66 E2-48|E4-49|E5-66 E2-48|E4-49|D5-56 E2-48|C#5-60 E2-48 e A4-64 D5-74 e E5-76 E5-76 E5-76 E4-67|E5-76 E4-67|E5-76 E4-67|D5-68|E5-76 E4-67|B4-77|D5-68|E5-76 D5-78 C#5-83 e B4-82 E5-87|A5-86 E5-87 E5-87 E2-80|E4-78|E5-87 E4-78|E5-87 E4-78|D5-77|E5-87 E4-78|C#5-79|D5-77|E5-87 E4-78|C#5-79|D5-77|E5-87 D5-80 A4-76 A3-86|C#5-86 e A5-89 D3-75|E5-86 D3-75|D5-80 E3-68|C#5-90 e G#4-84 e A4-67 A4-67 A4-67|C5-60|C6-78 C5-60|C6-78 G4-62|C5-60|C6-78\"\n",
            "generating character number:  0\n",
            "generating character number:  200\n",
            "generating character number:  400\n",
            "generating character number:  600\n",
            "generating character number:  800\n",
            "generating character number:  1000\n",
            "generating character number:  1200\n",
            "generating character number:  1400\n",
            "#### iteration  13\n",
            "--- Generating with seed: \"1 A6-67 e e e B1-52|D6-62 F#1-51|A#6-76|D7-73 F#1-57|F#6-72 F#1-52 F#1-57|A#5-59|D6-75 F#1-53|F#5-67 F#1-63|D5-70 F#1-49|A#5-60|C#6-79 F#5-68 F#1-60|C#5-72 F#1-51|F#5-59|A#5-77 C#5-69 A#4-74 F#1-68|A#5-75|D6-80 F#1-61|F#5-77 F#1-58|D5-67 F#1-49|A#4-57|D5-70 F#1-55|F#4-63 D4-68 F#1-57|A#4-58|C#5-82 F#4-64 F#1-44|C#4-67 F#1-54|F#4-63|A#4-72 C#4-67 F#1-65 F#1-51|A#4-72|D5-76 F#4-68 e A#3-55|D4-57 F#3-70 D3-65 A#3-52|C#4-71 F#1-45|F#3-60 F#3-60 G#1-38|A#3-44|D4-73 D2-50|F#3-64|A#3-44|D4-73 D2-50|F#2-53|D3-66|F#\"\n",
            "generating character number:  0\n",
            "generating character number:  200\n",
            "generating character number:  400\n",
            "generating character number:  600\n",
            "generating character number:  800\n",
            "generating character number:  1000\n",
            "generating character number:  1200\n",
            "generating character number:  1400\n",
            "#### iteration  14\n",
            "--- Generating with seed: \"9 e e e e e B5-59|C#6-61 e e e C#6-48 e e G#5-52|B5-61 e e e C#6-67 e e e e e e e e e F#5-55 e C#5-69|F#5-43|A5-51 e e A4-60|D5-58 e e B4-71 F#4-60|A4-59|C#5-77 e e e A3-51|C#4-50 e e e G#4-59 C#3-48|C#4-50 G#4-63 e e e e e e e e C#4-53 C#5-66 e e A5-41|C#6-65 F#5-40|A5-60 e e D5-60|F#5-71 F#4-46|A4-57 B4-63 e e e C#4-61|F#4-69 e e e e C#4-41|F4-53|G#4-54 C#3-60|C#4-48 F4-65 e e e e D#4-64|F#4-66 e e e C#4-49|F4-43 G#4-52|C#5-61 e e F5-49|A5-63 e e e C#4-58|F4-55 A4-52|C#5-54 e e e e D4-61|F#4-64 F#4-63|A4-\"\n",
            "generating character number:  0\n",
            "generating character number:  200\n",
            "generating character number:  400\n",
            "generating character number:  600\n",
            "generating character number:  800\n",
            "generating character number:  1000\n",
            "generating character number:  1200\n",
            "generating character number:  1400\n",
            "#### iteration  15\n",
            "--- Generating with seed: \"4-70 A3-73 A3-73 A3-73|F#4-77|F#5-79 A3-73 A3-73 A3-73 A3-73 C#3-64|A3-73|A4-73|A5-82 A3-73 A3-73 A3-73|C#4-66|C#5-71 A3-73 D3-49|A3-73 A3-73 A3-73 E3-59|A3-73|G#5-80 A3-73 A3-73 C#3-63|C#5-76|E5-72 e D5-75 E3-83|E4-77|C#5-76 E3-83 E3-83|E4-74|A4-68|C#5-70 e G#4-67 A2-84|C#4-82|A4-82 A2-84 A2-84|A4-73 A2-84|E4-79|B4-66 e A2-82|C#4-79|A4-83 A2-82 A2-82|A4-77 A2-82|E4-82|B4-67 e A2-71|C#4-76|A4-80 A2-71 e A2-74|C#4-80|A4-83 A2-74 E4-85|B4-71 A2-76 A2-76|A4-82 E4-84|B4-76 e A2-63|C#4-62|B4-63 A2-63|C#4-62|A4-7\"\n",
            "generating character number:  0\n",
            "generating character number:  200\n",
            "generating character number:  400\n",
            "generating character number:  600\n",
            "generating character number:  800\n",
            "generating character number:  1000\n",
            "generating character number:  1200\n",
            "generating character number:  1400\n",
            "#### iteration  16\n",
            "--- Generating with seed: \"0|G5-81|A5-91 A5-91 A5-91 A5-91 A5-91 G5-78|A5-91 G5-78 F5-81|G5-78 E5-83|F5-81 D5-86 D5-86 C#5-83 C#5-83 C#5-83 C#5-80|D5-67 C#5-80 C#5-80 A#4-65|C#5-80 A#4-65|C#5-80 A#4-65|C#5-80 A#4-65|C#5-80 A4-61|A#4-65|C#5-80 G4-68|A4-61|A#4-65|C#5-80 F4-68|G4-68|A4-61|A#4-65|C#5-80 F4-68|G4-68|A4-61|A#4-65|C#5-80 G4-70|C#5-85 F4-65 E4-69|F4-65 E4-69|F4-65|D5-90 F4-59|D5-90 D4-57|E4-60 D4-57|E4-60 D4-57|E4-60|D5-69|E5-74 D4-57|E4-60|F4-48|A4-50|D5-69|E5-74|F5-84 D4-53|A4-50|F5-84 F5-84 F5-84 C4-44|E4-50|A4-53|E5-73 E\"\n",
            "generating character number:  0\n",
            "generating character number:  200\n",
            "generating character number:  400\n",
            "generating character number:  600\n",
            "generating character number:  800\n",
            "generating character number:  1000\n",
            "generating character number:  1200\n",
            "generating character number:  1400\n",
            "#### iteration  17\n",
            "--- Generating with seed: \"|C#7-83|D#7-77|F7-90 G#3-70|B3-77|C#4-75|D#4-82|F4-75|F#4-76|G#4-76|A#4-83|B4-89|C#5-86|D5-68|D#5-80|F5-86|F#5-79|G#5-84|A#5-87|B5-91|C#6-85|F6-88|F#6-76|G#6-81|A#6-83|B6-102|C7-79|C#7-83|D#7-77|F7-90 G#3-70|A#3-75|B3-77|C#4-75|D#4-82|F4-75|F#4-76|G#4-85|A#4-83|B4-89|C#5-86|D5-68|D#5-80|F5-86|F#5-79|G#5-84|A#5-87|B5-91|C#6-85|F6-88|F#6-76|G#6-81|A#6-83|B6-102|C7-79|C#7-83|D#7-77|F7-90 F#3-66 F3-73|F#3-59|D#4-81 F3-73|F#3-59|A#3-74|D#4-81 F3-73|F#3-59|A#3-74|B3-75|D#4-81|F4-75 F3-73|F#3-59|A#3-74|B3-75|D#4-8\"\n",
            "generating character number:  0\n",
            "generating character number:  200\n",
            "generating character number:  400\n",
            "generating character number:  600\n",
            "generating character number:  800\n",
            "generating character number:  1000\n",
            "generating character number:  1200\n",
            "generating character number:  1400\n",
            "#### iteration  18\n",
            "--- Generating with seed: \"-88 E4-75|E5-88 E4-75|C#5-77|D5-76|E5-88 E4-75|B4-83|C#5-77|D5-76|E5-88 D5-80 A4-78 C#5-86 e A5-92 D3-61|E5-91 e e e e A2-50 e e e E5-66 E5-66 E5-66 E2-48|E4-49|E5-66 E2-48|E4-49|E5-66 E2-48|E4-49|D5-56 E2-48|C#5-60 E2-48 e A4-64 D5-74 e E5-76 E5-76 E5-76 E4-67|E5-76 E4-67|E5-76 E4-67|D5-68|E5-76 E4-67|B4-77|D5-68|E5-76 D5-78 C#5-83 e B4-82 E5-87|A5-86 E5-87 E5-87 E2-80|E4-78|E5-87 E4-78|E5-87 E4-78|D5-77|E5-87 E4-78|C#5-79|D5-77|E5-87 E4-78|C#5-79|D5-77|E5-87 D5-80 A4-76 A3-86|C#5-86 e A5-89 D3-75|E5-86 D3\"\n",
            "generating character number:  0\n",
            "generating character number:  200\n",
            "generating character number:  400\n",
            "generating character number:  600\n",
            "generating character number:  800\n",
            "generating character number:  1000\n",
            "generating character number:  1200\n",
            "generating character number:  1400\n",
            "#### iteration  19\n",
            "--- Generating with seed: \"0|F5-89 G5-89 G5-89 A#3-65|G5-89|A5-92 A#3-65|D4-67|E4-73|G4-81|G5-93 F5-80 E5-79|F5-80 A#3-56|C#4-59|E5-79|F5-80 C#4-59|E4-64|D5-84 C#4-59|E4-64|C#5-76|D5-84 C#4-59|E4-64|C#5-76|D5-84 A3-80|C#5-67|D5-77 e A4-58 E5-62 C#5-76|A5-95 e A4-66 E5-59 A#4-63 G4-69 G4-69 E5-60 C#5-79 G4-65 G4-65|E5-68 E5-68 D5-74 A4-66 A4-66|F5-67 F5-67 D5-79 A4-68 A4-68|F5-70 E5-72 E5-72 A4-70 G5-78 E5-78|G5-78|C#6-104 E5-78 A4-71 G5-88 F5-87 E5-86|F5-87 E5-86 D5-86 D4-66 D4-66|F4-72 A4-68 A4-68 A#3-64 D4-63 D4-63 A4-64 A#3-61 D4-\"\n",
            "generating character number:  0\n",
            "generating character number:  200\n",
            "generating character number:  400\n",
            "generating character number:  600\n",
            "generating character number:  800\n",
            "generating character number:  1000\n",
            "generating character number:  1200\n",
            "generating character number:  1400\n",
            "#### iteration  20\n",
            "--- Generating with seed: \"-77|G#5-62|F7-89 C5-63|F5-81|G#5-90|F6-79|G#6-85|F7-89 C5-75|F#5-92|A5-91 F#7-92 C5-72|A5-85|A6-88 e C#5-91|A#6-88 C#5-91|A#6-88 C#5-91|A#6-88|B6-82|F#7-98 C#5-91|D#5-92|C6-93|A#6-88|B6-82|F#7-98 C#5-91|D#5-92|C6-93|A#6-88|B6-82|C7-85|F#7-98 C#5-91|D#5-92|E5-85|C6-93|C#6-102|A#6-88|B6-82|C7-85|F#7-100 C#5-91|D#5-92|E5-85|C6-93|C#6-102|F#6-81|A#6-88|B6-82|C7-85|C#7-89|F#7-100 C#5-91|D#5-92|E5-85|C6-93|C#6-102|F#6-81|A#6-88|B6-82|C7-85|C#7-89|F#7-101 C#5-91|D#5-92|E5-85|C6-93|C#6-102|F#6-83|A#6-88|B6-82|C7-85\"\n",
            "generating character number:  0\n",
            "generating character number:  200\n",
            "generating character number:  400\n",
            "generating character number:  600\n",
            "generating character number:  800\n",
            "generating character number:  1000\n",
            "generating character number:  1200\n",
            "generating character number:  1400\n"
          ],
          "name": "stdout"
        }
      ]
    },
    {
      "cell_type": "code",
      "metadata": {
        "colab_type": "code",
        "id": "aFKTiu7nOSgP",
        "colab": {}
      },
      "source": [
        "# save the songs\n",
        "\n",
        "for i in dict_lstm_t05_n1000:\n",
        "  \n",
        "  path = '/content/drive/My Drive/RNN_generatedtext/results_lstm_t05_n1000_{}.txt'.format(i)\n",
        "\n",
        "  with open(path, 'w') as f:\n",
        "    f.write(dict_lstm_t05_n1000[i])"
      ],
      "execution_count": null,
      "outputs": []
    },
    {
      "cell_type": "markdown",
      "metadata": {
        "colab_type": "text",
        "id": "4l-lQYqZSQ_U"
      },
      "source": [
        "### temperature 0.8"
      ]
    },
    {
      "cell_type": "code",
      "metadata": {
        "colab_type": "code",
        "id": "s1xiq3lvSQ_X",
        "colab": {
          "base_uri": "https://localhost:8080/",
          "height": 171
        },
        "outputId": "5d3cc563-c319-404f-ee6e-4c72b87e50e1"
      },
      "source": [
        "# generate with t=0.8\n",
        "\n",
        "results_lstm_t08_n1000 = generate_text(model=lstm_1_100,\n",
        "                                       seed_set_of_sequences=x_test,\n",
        "                                       chars=chars,\n",
        "                                       temp=0.8,\n",
        "                                       n=1000)\n",
        "\n",
        "print()\n",
        "print('newly generated text: ---------- ',results_lstm_t08_n1000[512:])"
      ],
      "execution_count": null,
      "outputs": [
        {
          "output_type": "stream",
          "text": [
            "--- Generating with seed: \"74 E3-38|A3-46|C4-45|C5-74 A3-46 e G#4-74 A2-55|A4-68 e e e E5-61|A5-58 E5-61 E5-61 E5-61 E2-51|E4-51|E5-61 E2-51|E4-51|E5-61 E2-51|E4-51|D5-58 E2-51|E4-51 E2-51 e A4-60 A3-54|D5-75 e E5-77 E5-77 E5-77 E2-58|E4-61|E5-77 E2-58|E4-61|E5-77 E2-58|E4-61|D5-65 E2-58 E2-58|D5-76 A2-46|C#5-81 A4-70 D5-87 e E5-88 E5-88 E2-69|E4-75|E5-88 E2-69|E4-75|E5-88 E4-75|E5-88 E4-75|C#5-77|D5-76|E5-88 E4-75|B4-83|C#5-77|D5-76|E5-88 D5-80 A4-78 C#5-86 e A5-92 D3-61|E5-91 e e e e A2-50 e e e E5-66 E5-66 E5-66 E2-48|E4-49|E5-66 \"\n",
            "generating character number:  0\n",
            "generating character number:  200\n",
            "generating character number:  400\n",
            "generating character number:  600\n",
            "generating character number:  800\n",
            "\n",
            "newly generated text: ----------  B2-55|E5-55 C#4-56|E5-66 F#4-50|E5-66 G3-71|G#4-68 e e e e e C5-68|E5-67 A4-65 G4-67 A4-62 A4-75 A4-70 C#4-72|E4-60|F#4-70 G4-71 e C4-74|E4-81 e e F#4-70 A4-78 D5-78 A3-66|A4-71 B3-64|A4-70 D3-63|A4-67 G3-60|D5-78 D3-57|F#3-69|B4-71 F3-52|A4-60 G2-64 C3-69 C4-65 C4-69 e e e e e e e e e e e e e e F5-67 e e C5-57 G4-56 A4-61 F4-55|G#4-67 F3-54|A3-40|A4-65 B3-61|E4-60 E4-63 D3-48|A3-38 e e e e e e e e e e e e e e e e F#4-43|C5-57 e e e e e e e e e e e e e e e e e e e e e e e e e e e e e e e F#4-69|C#5-72 e B4-87 A4-80|A4-79 A4-78|A4-82 A4-78 F#4-79 D4-70|F#4-79|A4-87 D4-68|B4-81 F4-67|C#5-72 D4-71|A4-73 C#4-69 G#3-73 G3-62|D4-70 e e e G3-64|B4-74 A3-67|B4-73 D3-63|F4-80 D3-66|A3-72 G3-73 A3-76 D3-70|A3-70 A3-73|A#4-73 e e A3-55|A4-73 D5-67 A3-57|B4-72 D4-64|C5-77 A3-76|G4-77|A4-73 A3-79|D4-82|A4-84 B3-87|C4-74|D4-85|D4-73|A4-87 F#3-79|D4-84|G4-77 A3-55|F#4-84 A3-77|F#4-86 F3-73|B3-84 e e e C3-92|G3-73 G3-83 E3-81|D4-75 F3-77|B3-65 A3-85|D4-72 A3-71 C#4-72 E4-71 D4-75 D4-70 C4-84 D4-76 e e\n"
          ],
          "name": "stdout"
        }
      ]
    },
    {
      "cell_type": "code",
      "metadata": {
        "colab_type": "code",
        "id": "5Liihv5BSQ_j",
        "colab": {}
      },
      "source": [
        "# save the generated text\n",
        "\n",
        "with open('/content/drive/My Drive/RNN_generatedtext/results_lstm_t08_n1000.txt', 'w') as f:\n",
        "    f.write(results_lstm_t08_n1000)"
      ],
      "execution_count": null,
      "outputs": []
    },
    {
      "cell_type": "markdown",
      "metadata": {
        "id": "M-x3rXHGtkIV",
        "colab_type": "text"
      },
      "source": [
        "## Generation with GRU based model"
      ]
    },
    {
      "cell_type": "code",
      "metadata": {
        "colab_type": "code",
        "id": "3fdjwBDbTyne",
        "colab": {}
      },
      "source": [
        "# import the trained model\n",
        "\n",
        "from tensorflow import keras\n",
        "\n",
        "gru_1_100 = keras.models.load_model('/content/drive/My Drive/RNN_models/gru_1_100.h5')"
      ],
      "execution_count": null,
      "outputs": []
    },
    {
      "cell_type": "markdown",
      "metadata": {
        "colab_type": "text",
        "id": "9a6nOV2YTynv"
      },
      "source": [
        "### temperature 0.01"
      ]
    },
    {
      "cell_type": "code",
      "metadata": {
        "colab_type": "code",
        "id": "rRICiWUWTynx",
        "colab": {
          "base_uri": "https://localhost:8080/",
          "height": 171
        },
        "outputId": "74b505ac-7c55-4b11-bf87-7b8df3701271"
      },
      "source": [
        "# generate with t=0.01\n",
        "\n",
        "results_gru_t001_n1000 = generate_text(model=gru_1_100,\n",
        "                                       seed_set_of_sequences=x_test,\n",
        "                                       chars=chars,\n",
        "                                       temp=0.01,\n",
        "                                       n=1000)\n",
        "\n",
        "print()\n",
        "print('newly generated text: ---------- ',results_gru_t001_n1000[512:])"
      ],
      "execution_count": null,
      "outputs": [
        {
          "output_type": "stream",
          "text": [
            "--- Generating with seed: \"3-79|D#4-81|F4-75|A#4-74|B4-88|C#5-78|F#5-79|G#5-73 D#3-82|F3-84|F#3-59|A#3-75|B3-79|D#4-81|F4-75|A#4-74|B4-88|C#5-78|F#5-79|G#5-73|B5-81 D#3-82|F3-84|F#3-59|A#3-75|B3-79|D#4-81|F4-75|A#4-74|B4-88|C#5-78|F#5-79|G#5-73|B5-81 A2-72|A#2-41|D#3-82|F3-84|F#3-59|A#3-75|B3-79|D#4-81|F4-75|A#4-74|B4-88|C#5-78|F#5-79|G#5-73|B5-81|F#6-86 F#2-79|A2-72|A#2-41|D#3-82|F3-84|F#3-59|A#3-75|B3-79|D#4-81|F4-75|A#4-74|B4-88|C#5-78|F#5-79|G#5-73|B5-81|F#6-86|A#6-81 e e e e e F7-101 F#1-71|F#2-94|F#6-96|F#7-118 e e e e e e e e \"\n",
            "generating character number:  0\n",
            "generating character number:  200\n",
            "generating character number:  400\n",
            "generating character number:  600\n",
            "generating character number:  800\n",
            "\n",
            "newly generated text: ----------  e e e e e e e e e e e e e e e e e e e e e e e e e e e e e e e e e e e e e e e e e e e e e e e e e e e e e e e e e e e e e e e e e e e e e e e e e e e e e e e e e e e e e e e e e e e e e e e e e e e e e e e e e e e e e e e e e e e e e e e e e e e e e e e e e e e e e e e e e e e e e e e e e e e e e e e e e e e e e e e e e e e e e e e e e e e e e e e e e e e e e e e e e e e e e e e e e e e e e e e e e e e e e e e e e e e e e e e e e e e e e e e e e e e e e e e e e e e e e e e e e e e e e e e e e e e e e e e e e e e e e e e e e e e e e e e e e e e e e e e e e e e e e e e e e e e e e e e e e e e e e e e e e e e e e e e e e e e e e e e e e e e e e e e e e e e e e e e e e e e e e e e e e e e e e e e e e e e e e e e e e e e e e e e e e e e e e e e e e e e e e e e e e e e e e e e e e e e e e e e e e e e e e e e e e e e e e e e e e e e e e e e e e e e e e e e e e e e e e e e e e e e e e e e e e e e e e e e e e e e e e e e e e e e e e e e e e e e e e e e e e e e e e e e e e e e e e e e e e e e e \n"
          ],
          "name": "stdout"
        }
      ]
    },
    {
      "cell_type": "code",
      "metadata": {
        "colab_type": "code",
        "id": "HaCd5o-DTyn7",
        "colab": {}
      },
      "source": [
        "# save the generated text\n",
        "\n",
        "with open('/content/drive/My Drive/RNN_generatedtext/results_gru_t001_n1000.txt', 'w') as f:\n",
        "    f.write(results_gru_t001_n1000)"
      ],
      "execution_count": null,
      "outputs": []
    },
    {
      "cell_type": "markdown",
      "metadata": {
        "colab_type": "text",
        "id": "uRtbajnMTyoH"
      },
      "source": [
        "### temperature 0.2"
      ]
    },
    {
      "cell_type": "code",
      "metadata": {
        "colab_type": "code",
        "id": "_Rc7Tu9ITyoI",
        "colab": {
          "base_uri": "https://localhost:8080/",
          "height": 171
        },
        "outputId": "8c0006b1-68c9-40ed-a00d-9fdaa3d3920c"
      },
      "source": [
        "# generate with t=0.2\n",
        "\n",
        "results_gru_t02_n1000 = generate_text(model=gru_1_100,\n",
        "                                       seed_set_of_sequences=x_test,\n",
        "                                       chars=chars,\n",
        "                                       temp=0.2,\n",
        "                                       n=1000)\n",
        "\n",
        "print()\n",
        "print('newly generated text: ---------- ',results_gru_t02_n1000[512:])"
      ],
      "execution_count": null,
      "outputs": [
        {
          "output_type": "stream",
          "text": [
            "--- Generating with seed: \"|B5-83 e E4-55 e e G#4-75|G#5-82 e e A3-68 e e e A3-87 B2-59|A3-87|D4-59|D5-80 A3-87 A3-87 C#3-62|A3-87 A3-87 A3-87|E4-55 A3-87 A3-87 D3-66|A3-87 A3-87 A3-87 E3-72|A3-87|G#4-89|G#5-90 A3-87 A3-87 A2-66|A3-87|E4-78|E5-89 A3-87 A3-87 A3-87 A3-87 A3-87 A3-87 A3-87 C#3-65|A3-87|A4-81|A5-89 A3-87 C#3-71|A3-87|E5-91 D3-82|F#4-86|D5-92 e E3-87|E4-83|C#5-87 E3-87 E3-87 E2-83|E3-87|D4-72|B4-80 e A2-84 A2-84 A2-84 E4-77|B4-90 e A2-86 A2-86|C#4-81|A4-83 A2-86 B4-90 e A2-59|C#4-67|A4-79 E4-74|B4-83 e A2-73|C#4-73|A4-82\"\n",
            "generating character number:  0\n",
            "generating character number:  200\n",
            "generating character number:  400\n",
            "generating character number:  600\n",
            "generating character number:  800\n",
            "\n",
            "newly generated text: ----------   D#3-71|A4-83 D#3-76|A#4-89 D#3-76|A#4-89 A#2-76|A#4-89 A#2-79|A#4-81 D#3-77|F#4-71 A#2-78|A#3-78|D#4-78 A#2-76|F#3-78|A#3-78|A4-77 F#2-77|F#3-78|A4-73 D#3-71|F#4-78 A#2-70|F#4-76 F#2-67|F#3-63|D#4-74 A#2-70|F#3-78|A#3-73|F#4-78 A#2-77|F#3-76|A#3-77|D#4-78 A#2-77|F#3-77|A#3-79|D#4-76|F#4-77 A#2-76|A#3-77|C#4-78|E4-78 G#2-77|E3-86|G#4-84 E2-70|B3-84|E4-84 G#2-76|E3-88|G#4-80|C#5-84 E2-76|G#4-84|E5-84 E2-76|E4-84|E5-84 E2-76|G#4-84|E5-84 E2-76|G#4-84|E5-84 E2-66|E4-85|E5-84 E2-76|G#4-84|E5-86 E2-66|G#4-84|E5-84 E2-66|G#4-84|E5-84 E2-66|G#4-81|E5-84 E2-66|G#4-84|E5-84 E2-66|G#4-84|E5-84 E2-66|G#4-84|E5-84 E2-66|G#4-84|E5-84 E2-66|G#4-80|E5-84 E2-76|G#4-84|E5-84 E2-66|G#4-80|E5-84 E2-66|G#4-84|E5-84 E2-66|G#4-84|E5-85 E2-66|G#4-81|E5-84 E2-66|G#4-84|E5-84 E2-66|G#4-84|E5-84 E2-76|G#4-84|E5-85 E2-76|G#4-84|E5-84 E2-76|G#4-84|E5-84 E2-76|G#4-84|E5-84 E2-76|G#4-84|E5-84 E2-76|G#4-84|E5-84 E2-76|G#4-84|E5-84 E2-76|G#4-84|E5-84 E2-76|G#4-84|E5-84 E2-76|G#4-84|E5-84 E2-76|G#4-84|E5-84 E2-76|E4-8\n"
          ],
          "name": "stdout"
        }
      ]
    },
    {
      "cell_type": "code",
      "metadata": {
        "colab_type": "code",
        "id": "98MkFJvsTyoQ",
        "colab": {}
      },
      "source": [
        "# save the generated text\n",
        "\n",
        "with open('/content/drive/My Drive/RNN_generatedtext/results_gru_t02_n1000.txt', 'w') as f:\n",
        "    f.write(results_gru_t02_n1000)"
      ],
      "execution_count": null,
      "outputs": []
    },
    {
      "cell_type": "markdown",
      "metadata": {
        "colab_type": "text",
        "id": "66ILSQ5cTyoY"
      },
      "source": [
        "### temperature 0.5"
      ]
    },
    {
      "cell_type": "code",
      "metadata": {
        "colab_type": "code",
        "id": "vZxoXaJlTyoZ",
        "colab": {
          "base_uri": "https://localhost:8080/",
          "height": 171
        },
        "outputId": "cfcf05a2-1108-42b7-e3a3-e178c9e8246a"
      },
      "source": [
        "# generate with t=0.5\n",
        "\n",
        "results_gru_t05_n1000 = generate_text(model=gru_1_100,\n",
        "                                       seed_set_of_sequences=x_test,\n",
        "                                       chars=chars,\n",
        "                                       temp=0.5,\n",
        "                                       n=1000)\n",
        "\n",
        "print()\n",
        "print('newly generated text: ---------- ',results_gru_t05_n1000[512:])"
      ],
      "execution_count": null,
      "outputs": [
        {
          "output_type": "stream",
          "text": [
            "--- Generating with seed: \"87|B5-80|C#6-85|F6-88|F#6-76|G#6-81|A#6-83|B6-102|C7-79|C#7-83|D#7-77|F7-90 B4-81|D#5-80|F5-75|F#5-79|G#5-76|A#5-87|B5-91|C#6-85|F6-88|F#6-76|G#6-81|A#6-83|B6-102|C7-79|C#7-83|D#7-77|F7-90 B4-85|D#5-80|F5-75|F#5-79|G#5-79|A#5-87|B5-91|C#6-85|F6-88|F#6-76|G#6-81|A#6-83|B6-102|C7-79|C#7-83|D#7-77|F7-90 G#4-72|B4-85|D#5-80|F5-78|F#5-79|G#5-79|A#5-87|B5-91|C#6-85|F6-88|F#6-76|G#6-81|A#6-83|B6-102|C7-79|C#7-83|D#7-77|F7-90 G#4-72|A#4-83|B4-85|D#5-80|F5-78|F#5-79|G#5-84|A#5-87|B5-91|C#6-85|F6-88|F#6-76|G#6-81|A#6\"\n",
            "generating character number:  0\n",
            "generating character number:  200\n",
            "generating character number:  400\n",
            "generating character number:  600\n",
            "generating character number:  800\n",
            "\n",
            "newly generated text: ----------  -80|G#6-87|E6-89 F#3-70|A#3-74|D#5-80|C#6-93|A#6-97 F3-72|A#3-74|D#5-82|D#6-93|D6-89|G#6-87 F#3-78|D#3-72|G#3-78|D#5-73|D#6-83|D#6-87 F#3-79|D#3-74|D#5-73|D#6-93 D#3-72|D#3-70|F#3-74|A#3-73|D#5-77|F#5-73|D#6-91|D#6-83 A3-76|A#3-77|A#3-74|F#5-77|D#6-81|F#6-89 A3-71|A#3-74|C#5-73|D#6-83|D6-78|F#6-77 D3-76|D#3-72|A3-78|D#5-73|B5-74|D#6-76|F#5-72|A#5-77|D#6-78|F#6-84 D#3-78|D#3-74|D#4-73|E5-74|F#5-79|D#6-83|G#6-87 A3-71|F#4-72|D#5-74|F#5-79|D#6-85|G#6-82 F3-71|D#3-74|G#3-74|A#3-73|G#4-73|D#5-75|F#5-83|F#6-92|A6-73 A3-71|A#3-73|D4-71|F5-80|A#5-83|A#5-80 A3-71|C#4-73|A4-73|C#5-76|F#5-84|D5-80|G#5-89 A3-60|C#4-70|A4-71|C#5-72|D5-77|F#5-82|D5-70|A5-83 A3-67|F#4-73|C#5-77|D#5-84|E5-71 F#3-70|A#3-70|D5-84|F#5-83 F#3-58|D#4-77|F#4-73|G#5-87 A3-63|C#4-70|D5-73|F#5-84 D#3-66|A#3-73|D#4-78|F#4-73|D5-78|F#5-82 A#3-71|C#4-67|F#4-71|C5-78|F#5-89 A#3-70|F#4-78|A5-84 A#3-70|A4-78|C#5-83|C#5-79 A#3-78|F#4-82|B4-71|A5-93 A#3-70|D5-77|F#5-80 A4-79|D#5-81|G5-79 A3-68|C#4-60|A4-70|D5-82|F5-79 F#4-82|A4-86|A5-\n"
          ],
          "name": "stdout"
        }
      ]
    },
    {
      "cell_type": "code",
      "metadata": {
        "colab_type": "code",
        "id": "ahStJdwwTyok",
        "colab": {}
      },
      "source": [
        "# save the generated text\n",
        "\n",
        "with open('/content/drive/My Drive/RNN_generatedtext/results_gru_t05_n1000.txt', 'w') as f:\n",
        "    f.write(results_gru_t05_n1000)"
      ],
      "execution_count": null,
      "outputs": []
    },
    {
      "cell_type": "markdown",
      "metadata": {
        "colab_type": "text",
        "id": "gTAUvabkQysy"
      },
      "source": [
        "#### Generation of a set of songs with this temperature"
      ]
    },
    {
      "cell_type": "code",
      "metadata": {
        "colab_type": "code",
        "id": "f3ROQtvTQys2",
        "colab": {
          "base_uri": "https://localhost:8080/",
          "height": 1000
        },
        "outputId": "f85a1c18-10f8-4246-da5b-9de4ce7c34b5"
      },
      "source": [
        "# generate 10 songs\n",
        "\n",
        "dict_gru_t05_n1000 = {}\n",
        "\n",
        "for i in range(1,11):\n",
        "  print('#### iteration ',i)\n",
        "  dict_gru_t05_n1000[i] = generate_text(model=gru_1_100,\n",
        "                                         seed_set_of_sequences=x_test,\n",
        "                                         chars=chars,\n",
        "                                         temp=0.5,\n",
        "                                         n=1000)\n"
      ],
      "execution_count": null,
      "outputs": [
        {
          "output_type": "stream",
          "text": [
            "#### iteration  1\n",
            "--- Generating with seed: \"81 e e e e e e e e e e e e e e e e e e e e A#5-87 e e e e e e e e e e e C#2-62 C#2-62 e F#2-56 F#2-55 D2-53 D2-49 D2-47 B1-51 B1-55 e D2-66 e e e e e e D6-41 A6-67 e e e B1-52|D6-62 F#1-51|A#6-76|D7-73 F#1-57|F#6-72 F#1-52 F#1-57|A#5-59|D6-75 F#1-53|F#5-67 F#1-63|D5-70 F#1-49|A#5-60|C#6-79 F#5-68 F#1-60|C#5-72 F#1-51|F#5-59|A#5-77 C#5-69 A#4-74 F#1-68|A#5-75|D6-80 F#1-61|F#5-77 F#1-58|D5-67 F#1-49|A#4-57|D5-70 F#1-55|F#4-63 D4-68 F#1-57|A#4-58|C#5-82 F#4-64 F#1-44|C#4-67 F#1-54|F#4-63|A#4-72 C#4-67 F#1-65 F\"\n",
            "generating character number:  0\n",
            "generating character number:  200\n",
            "generating character number:  400\n",
            "generating character number:  600\n",
            "generating character number:  800\n",
            "#### iteration  2\n",
            "--- Generating with seed: \"-91|F7-79|F#7-102 A6-91|A#6-90|B6-83|C7-94|D#7-87|E7-91|F7-79|F#7-102 F6-81|A6-91|A#6-90|B6-83|C7-94|D#7-87|E7-91|F7-79|F#7-102 D#6-83|F6-81|F#6-86|A6-91|A#6-90|B6-83|C7-94|D#7-87|E7-91|F7-79|F#7-102 D#6-83|E6-87|F6-83|F#6-86|A6-91|A#6-90|B6-83|C7-94|D#7-87|E7-91|F7-79|F#7-102 B5-83|C6-80|D#6-83|E6-87|F6-83|F#6-86|A6-91|A#6-90|B6-83|C7-94|D#7-87|E7-91|F7-79|F#7-102 A5-84|B5-83|C6-89|D#6-83|E6-87|F6-83|F#6-86|A6-91|A#6-90|B6-83|C7-94|D#7-87|E7-91|F7-79|F#7-102 A5-84|A#5-82|B5-88|C6-89|D#6-83|E6-87|F6-83|F#6-\"\n",
            "generating character number:  0\n",
            "generating character number:  200\n",
            "generating character number:  400\n",
            "generating character number:  600\n",
            "generating character number:  800\n",
            "#### iteration  3\n",
            "--- Generating with seed: \"D3-63|B3-82|D5-87 e E3-55|A3-56|C4-73|C5-88 E3-55|A3-56|C4-73|C5-88 A4-75 E3-54|G#3-59|B3-70|B4-81 e A2-60|A3-61|G#4-84 A2-60|A3-61 A2-60|A3-61 A3-61 e D3-35|A3-43 D3-35|A3-43|B3-42|G4-44 D3-35|A3-43|B3-42|G4-44 D3-35|A3-43|B3-42|F4-46|G4-44 D3-35|A3-43|B3-42|E4-51|F4-46|G4-44 D3-47|A3-43|B3-42|E4-51|F4-46|G4-44 D3-47|A3-44|B3-47|F4-58|D5-62 D3-47|A3-44|B3-47|F4-58|D5-62 F4-58|C5-77|D5-62 F4-58|C5-77|D5-62 D3-53|F4-58|C5-77|D5-62 D3-53|A3-59|B3-62|G5-85 D3-53|A3-59|B3-62|A4-63|G5-85 A4-63|F5-89|G5-85 A4-63|\"\n",
            "generating character number:  0\n",
            "generating character number:  200\n",
            "generating character number:  400\n",
            "generating character number:  600\n",
            "generating character number:  800\n",
            "#### iteration  4\n",
            "--- Generating with seed: \"-71 E3-51|B3-50|E4-57|G#4-63|E5-71 D3-45|A3-48|F5-65 D3-45|A3-48|F5-65 D3-45|A3-48 D3-45|A3-48 A4-64|F5-74 E3-59|B3-66|A4-64 E3-59|B3-66|A4-64 E3-59|B3-66|G#4-67|A4-64|E5-61 E3-59|B3-66|E4-71|G#4-67|A4-64|E5-61 E3-59|B3-66|E4-71|G#4-67|A4-64|E5-61 D3-53|A3-53|B3-55|G4-74 D3-53|A3-53|B3-55|G4-74 D3-53|A3-53|B3-55|F4-78 D3-53|A3-53|B3-55|E4-77|F4-78 D3-53|A3-53|B3-55|E4-77|F4-78 D3-55|A3-61|B3-65|F4-81|D5-78 D3-55|A3-61|B3-65|F4-81|D5-78 D3-55|A3-61|B3-65|F4-81|C5-81|D5-78 D3-55|A3-61|B3-65|F4-81|B4-79|C5-81|\"\n",
            "generating character number:  0\n",
            "generating character number:  200\n",
            "generating character number:  400\n",
            "generating character number:  600\n",
            "generating character number:  800\n",
            "#### iteration  5\n",
            "--- Generating with seed: \"A4-82|A5-85 e e G3-74|B4-84|B5-83 e E3-66 A3-66|C#6-92 e F#3-80|D4-91|C#6-53|D6-94 D4-91 D4-91 F#3-65|D4-91|F#5-86 D4-91 D4-91 E3-61|D4-91|G4-84|G5-82 D4-91 D4-91 D4-91 D4-91 D4-91|A5-59 D4-91 D4-91 G3-62|D4-91|B4-82|B5-84 D4-91 D4-91 D4-91|C#5-85|C#6-72 D4-91 F#3-73|D4-91|D5-85|D6-79 e e G3-68|E5-81|G5-74 e A3-80|F#5-91 A3-80|D5-79|F#5-82 e E5-79 e D2-82|D5-82 D2-82|F#4-84|D5-76 D2-82 D2-82|A4-83|E5-73 D2-81|F#4-88|D5-83 D2-81 D2-81|F#4-80|D5-76 D2-81 e D2-83|F#4-83|D5-75 D2-83 D2-83|A4-86|E5-75 D2-77|F#4-\"\n",
            "generating character number:  0\n",
            "generating character number:  200\n",
            "generating character number:  400\n",
            "generating character number:  600\n",
            "generating character number:  800\n",
            "#### iteration  6\n",
            "--- Generating with seed: \"0|E4-50|G4-57|F#5-58 G5-73|A5-69 A5-69 A5-69 A5-69 A5-69 F#5-56|A5-69 E5-60|F#5-56 E5-60 D3-28|F#3-36|D5-61 D3-28|F#3-36|A3-35|C4-42|D4-50|C5-59 A3-35|C4-42|D4-50|C5-59 A#4-61 A#4-61 A#4-61 G3-44|A#3-46|D4-48|A#4-65 G3-44|A#3-46|D4-48|C5-59 G3-44|A#3-46|D4-48|A#4-66 G3-44|A#3-46|D4-48 G3-44|A#3-46|D4-48 G3-44|A#3-46|D4-48 F5-83 G5-89 G5-89 G5-89 G5-89 E5-67 D5-77|E5-67 C5-69|D5-77|E5-67 C5-69|D5-77|E5-67 D4-64|G4-55 D4-64|A4-64 D4-64|A#4-65 D4-64 C#4-60|G4-56 C#4-60 C#4-60|A4-69 C#4-60|C5-84 D4-76 D4-76|A4-\"\n",
            "generating character number:  0\n",
            "generating character number:  200\n",
            "generating character number:  400\n",
            "generating character number:  600\n",
            "generating character number:  800\n",
            "#### iteration  7\n",
            "--- Generating with seed: \"-101 D5-73|D#5-83|E5-80|F5-88|G#5-80|A5-80|A#5-87|B5-81|D6-73|D#6-89|E6-83|F6-90|G#6-80|A#6-88|B6-93|D7-98|D#7-86|E7-90|F7-101 B4-87|D5-74|D#5-83|E5-80|F5-88|G#5-80|A5-80|A#5-87|B5-81|D6-73|D#6-89|E6-83|F6-90|G#6-80|A#6-88|B6-93|D7-98|D#7-86|E7-90|F7-101 G#4-74|A4-72|B4-87|D5-74|D#5-83|E5-80|F5-88|G#5-80|A5-80|A#5-87|B5-81|D6-73|D#6-89|E6-83|F6-90|G#6-80|A#6-88|B6-93|D7-98|D#7-86|E7-90|F7-101 G#4-74|A4-72|A#4-81|B4-87|D5-74|D#5-83|E5-80|F5-88|G#5-80|A5-80|A#5-87|B5-81|D6-73|D#6-89|E6-83|F6-90|G#6-80|A#6-88|\"\n",
            "generating character number:  0\n",
            "generating character number:  200\n",
            "generating character number:  400\n",
            "generating character number:  600\n",
            "generating character number:  800\n",
            "#### iteration  8\n",
            "--- Generating with seed: \"-84 A1-76|A2-94|A5-84 e e e E5-74 E4-60|G4-58|D5-66 D5-59|E5-45 e G4-45|A5-80 G4-45|B4-50 G4-45|B4-50 G4-45 e C#5-72 C#5-71 C#5-49|D5-63 E5-60 G5-72 F#4-49|A4-50 F#4-49|A4-50 F#4-49|A4-50 e e e E4-57|G4-56|B4-56|C#5-65 e E5-68 G5-78 E4-47|G4-62 E4-47|G4-62 E4-47|G4-62 e e e F#4-59|B4-66 B4-62 D5-71 D3-67|F#5-77 e D4-62 e e B3-75|F#4-66 e F#4-80 F#4-81 e G3-65 e e F#3-52|B4-75 e e E4-65|B4-77 B4-67 e C#3-76 E5-73 E5-72 e E5-72 A3-65|E5-64 e e G3-60|E5-76 E5-69 e e A5-70 E3-74|E4-80|A5-73 A5-73 e e e C#3-71|C\"\n",
            "generating character number:  0\n",
            "generating character number:  200\n",
            "generating character number:  400\n",
            "generating character number:  600\n",
            "generating character number:  800\n",
            "#### iteration  9\n",
            "--- Generating with seed: \"6|E5-65 A4-66|E5-65 A4-66|E5-65 A4-66|F#5-71 A4-66|E5-57 e E5-72|G5-76 e e e A4-61|E5-67 A4-61|E5-67 A4-61|E5-67 A4-61 D5-67|E5-45 e E5-57|G5-74 e e e A4-60|E5-69 A4-60|E5-69|F#5-75 A4-60|E5-69|F#5-75 A4-60|E5-69|F#5-75 A4-60|E5-69|F#5-75 A4-60|E5-69|F#5-75 A4-60|E5-69|F#5-75 A4-60|E5-54 A4-60|E5-54 A4-60|E5-54 A4-60|E5-54 A4-60|E5-54 e e e D4-66 D5-60 e A3-80|E5-68 F#3-39|A3-80|D5-57 e E5-62 E5-52 D3-63|F#3-69 D3-63|D5-55 D5-55|F#5-67 B3-59|D5-55|G5-63 D5-55|G5-60 F#3-67|A3-74|D5-55|F#5-63 D5-55 D5-55|G5-5\"\n",
            "generating character number:  0\n",
            "generating character number:  200\n",
            "generating character number:  400\n",
            "generating character number:  600\n",
            "generating character number:  800\n",
            "#### iteration  10\n",
            "--- Generating with seed: \"e e D2-54 e D#2-63 D#2-56 D#2-55 D2-61 D2-51 D2-49 C2-52|D#4-53|F#4-53|A4-68 C2-50 C2-55 e e D2-59 e D#2-50 e e e e e e D2-62 e e F#5-64|C6-74 D#2-59 D#2-56 D2-53|C6-57|F#6-75 D2-55 D2-50 D#2-55|A6-69 D#2-57 D#2-56 F#2-66 F#2-64 F#2-70 A2-77 A2-76 A2-67 A#2-74 A#2-68 e e e A2-59 e e e e e e e e D2-56 D2-53|F#6-41 D2-53|G#6-69 C#2-62|B6-75|C#7-72 e C#6-72 e e B5-77 C#2-34 e e e e e e e e e e e e e e e C#2-48|G#4-67 C#2-53 C#2-62|F5-74 C#2-60|A5-80|C#6-75 C#2-62|F#5-76 C#2-64|C#5-67 C#2-57|D5-70|F#5-72 C#2-67\"\n",
            "generating character number:  0\n",
            "generating character number:  200\n",
            "generating character number:  400\n",
            "generating character number:  600\n",
            "generating character number:  800\n"
          ],
          "name": "stdout"
        }
      ]
    },
    {
      "cell_type": "code",
      "metadata": {
        "colab_type": "code",
        "id": "lL1fNHNeQys5",
        "colab": {}
      },
      "source": [
        "# save the songs\n",
        "\n",
        "for i in dict_gru_t05_n1000:\n",
        "  \n",
        "  path = '/content/drive/My Drive/RNN_generatedtext/results_gru_t05_n1000_{}.txt'.format(i)\n",
        "\n",
        "  with open(path, 'w') as f:\n",
        "    f.write(dict_gru_t05_n1000[i])"
      ],
      "execution_count": null,
      "outputs": []
    },
    {
      "cell_type": "code",
      "metadata": {
        "colab_type": "code",
        "id": "bTSFDqmYPVgi",
        "colab": {
          "base_uri": "https://localhost:8080/",
          "height": 1000
        },
        "outputId": "39df947e-8a73-40ed-ff13-7464992fb3fa"
      },
      "source": [
        "# generate 10 songs without keeping the seed sequence (1500 characters generated)\n",
        "\n",
        "dict_gru_t05_n1000 = {}\n",
        "\n",
        "for i in range(11,21):\n",
        "  print('#### iteration ',i)\n",
        "  dict_gru_t05_n1000[i] = generate_text_2(model=gru_1_100,\n",
        "                                         seed_set_of_sequences=x_test,\n",
        "                                         chars=chars,\n",
        "                                         temp=0.5,\n",
        "                                         n=1500)\n"
      ],
      "execution_count": null,
      "outputs": [
        {
          "output_type": "stream",
          "text": [
            "#### iteration  11\n",
            "--- Generating with seed: \"F6-81|G6-81|G#6-81|A#6-101|B6-88|C7-77|C#7-55|D#7-82|F7-85 G#4-70|B4-78|F5-83|E6-79|F6-81|G6-81|G#6-82|A#6-101|B6-88|C7-77|C#7-55|D#7-82|F7-85 C#4-81|F#6-89 F#4-68|A#6-86|D#7-84 A#4-78|C#6-82|C#7-58 C#5-76|F#6-78|B6-82 F#5-81|A#5-88 A#5-77|C#6-80 A5-87|F#6-71 F#5-84|D#6-41 C5-77|F#5-84|D#6-85|F#6-81 e G#6-68 G#6-68|D#7-77|F7-90 G#6-68|C7-79|C#7-83|D#7-77|F7-90 G#6-68|A#6-79|C7-79|C#7-83|D#7-77|F7-90 G#6-68|A#6-79|B6-89|C7-79|C#7-83|D#7-77|F7-90 G#6-75|A#6-79|B6-89|C7-79|C#7-83|D#7-77|F7-90 C#6-80|G#6-75|A#6\"\n",
            "generating character number:  0\n",
            "generating character number:  200\n",
            "generating character number:  400\n",
            "generating character number:  600\n",
            "generating character number:  800\n",
            "generating character number:  1000\n",
            "generating character number:  1200\n",
            "generating character number:  1400\n",
            "#### iteration  12\n",
            "--- Generating with seed: \"-73 A4-60|E5-73 e G5-97 e e e A4-67 e F#5-78 F#5-78 F#5-81 F#5-81 F#5-81 E5-71|F#5-81 E5-71|F#5-81 E5-71|F#5-81 D3-36 D3-36 D5-59 G3-41|B3-40|D5-64 e F#3-47|A3-58 E5-62 E5-63 E5-57 D3-52|F#3-54|D5-60 F#3-54 D5-45 G3-49 e F#3-69|A3-76 F#5-75 F#5-72 F#5-71 D3-72|F#3-72|D5-73 F#3-72 F#3-72|D5-74 A5-82 F#5-74|A5-75 F#3-79|A3-83|F#5-81|A5-74 F#5-83|A5-77 G3-85|A5-66 F#5-70|A5-74 D3-81 D3-81 e D4-72|D5-84|F#5-99 e C#4-87|G5-98 C#4-87|E5-83|G5-92 e e e A2-70|A3-76 A2-70|E5-90|A5-88 e e e A2-71|A3-89 e D4-69 e A5-7\"\n",
            "generating character number:  0\n",
            "generating character number:  200\n",
            "generating character number:  400\n",
            "generating character number:  600\n",
            "generating character number:  800\n",
            "generating character number:  1000\n",
            "generating character number:  1200\n",
            "generating character number:  1400\n",
            "#### iteration  13\n",
            "--- Generating with seed: \"7-94|D#7-87|E7-91|F7-79|F#7-102 B5-83|C6-80|D#6-83|E6-87|F6-83|F#6-86|A6-91|A#6-90|B6-83|C7-94|D#7-87|E7-91|F7-79|F#7-102 A5-84|B5-83|C6-89|D#6-83|E6-87|F6-83|F#6-86|A6-91|A#6-90|B6-83|C7-94|D#7-87|E7-91|F7-79|F#7-102 A5-84|A#5-82|B5-88|C6-89|D#6-83|E6-87|F6-83|F#6-86|A6-91|A#6-90|B6-83|C7-94|D#7-87|E7-91|F7-79|F#7-102 F5-73|A5-84|A#5-82|B5-88|C6-89|D#6-83|E6-87|F6-83|F#6-86|A6-91|A#6-90|B6-83|C7-94|D#7-87|E7-91|F7-79|F#7-102 D#5-75|F5-73|F#5-86|A5-84|A#5-82|B5-88|C6-89|D#6-83|E6-87|F6-83|F#6-86|A6-91|A#6-9\"\n",
            "generating character number:  0\n",
            "generating character number:  200\n",
            "generating character number:  400\n",
            "generating character number:  600\n",
            "generating character number:  800\n",
            "generating character number:  1000\n",
            "generating character number:  1200\n",
            "generating character number:  1400\n",
            "#### iteration  14\n",
            "--- Generating with seed: \"A4-84 F#3-69|G#4-88 e G#3-69|E4-76 G#3-69|E4-76|E5-83 C#5-88|D#5-90 A3-86|B4-79 e B3-87|G#4-87|A4-79 B4-83 e F#4-85 e E2-74|E4-77 E2-74|E4-77 E2-74|E4-77 E2-74|E4-77 E2-74|E4-77|E5-86 E2-74|E4-77|E5-86 E2-74|E4-77|E5-86|F5-82 E2-74|E4-77|E5-86|F5-82 E2-54|F5-82 E2-54|D5-71|F5-82 E2-54|C5-72|D5-71|E5-85|F5-82 E2-54|C5-72|D5-71|E5-85|F5-82 E2-64|C5-72|D5-86|E5-85|F5-82 E2-64|D5-86 E2-64|B4-75|D5-86 E2-64|A4-68|B4-75|C5-91|D5-86 E2-64|A4-68|B4-75|C5-91|D5-86 E2-64|A4-68|B4-84|C5-91|D5-86 E2-55|G4-74|B4-84 E2-5\"\n",
            "generating character number:  0\n",
            "generating character number:  200\n",
            "generating character number:  400\n",
            "generating character number:  600\n",
            "generating character number:  800\n",
            "generating character number:  1000\n",
            "generating character number:  1200\n",
            "generating character number:  1400\n",
            "#### iteration  15\n",
            "--- Generating with seed: \"#4-78 E4-67 D4-71 e D2-34 A4-54 e F#4-50|A5-65 e A2-56|E5-64 C#5-64 E4-61 G4-65|A5-60 e D2-36|D5-69 F#4-63 D4-57 e e C#5-73|E5-75 G4-71 E4-72|A5-79 C#5-58 D2-66|D5-76 A4-68|D5-76 e D4-66|F#4-80 e A2-77|E5-82 C#5-86 G4-77|C#5-86 G4-80|A5-83 C#5-77 e D5-78 B4-84|C#5-88 e e G3-74|A4-82 A3-64|F#4-86 e A2-63|D4-80 e D3-47|D4-65 D3-47 D3-47 D4-37|F4-54|F5-67 F4-54|F5-67 C4-56|F4-54|F5-67 A#3-63|F4-54|F5-67 A#3-63 D4-47|F4-68|F5-86 F4-68|F5-86 F4-68|F5-86 G3-67|F4-68|F5-86 G3-67|F5-86 G3-67|G4-66|G5-85 e e A2-71|D\"\n",
            "generating character number:  0\n",
            "generating character number:  200\n",
            "generating character number:  400\n",
            "generating character number:  600\n",
            "generating character number:  800\n",
            "generating character number:  1000\n",
            "generating character number:  1200\n",
            "generating character number:  1400\n",
            "#### iteration  16\n",
            "--- Generating with seed: \"|C6-89|D#6-83|E6-87|F6-83|F#6-86|A6-91|A#6-90|B6-83|C7-94|D#7-87|E7-91|F7-79|F#7-102 B4-82|C5-83|D#5-75|E5-84|F5-85|F#5-86|A5-84|A#5-82|B5-88|C6-89|D#6-83|E6-87|F6-83|F#6-86|A6-91|A#6-90|B6-83|C7-94|D#7-87|E7-91|F7-79|F#7-102 A4-68|A#4-84|B4-82|C5-83|D#5-75|E5-84|F5-85|F#5-86|A5-84|A#5-82|B5-88|C6-89|D#6-83|E6-87|F6-83|F#6-86|A6-91|A#6-90|B6-83|C7-94|D#7-87|E7-91|F7-79|F#7-102 A#4-69|B4-60|D5-11 A4-72 e e e e e e D#4-76 D4-75 C#4-76 C4-71 e e e e e e e C4-64 D#4-51 G#3-63 C4-52 D#4-57 e e e e e e e e e e D4\"\n",
            "generating character number:  0\n",
            "generating character number:  200\n",
            "generating character number:  400\n",
            "generating character number:  600\n",
            "generating character number:  800\n",
            "generating character number:  1000\n",
            "generating character number:  1200\n",
            "generating character number:  1400\n",
            "#### iteration  17\n",
            "--- Generating with seed: \"-90 F#3-66 F3-73|F#3-59|D#4-81 F3-73|F#3-59|A#3-74|D#4-81 F3-73|F#3-59|A#3-74|B3-75|D#4-81|F4-75 F3-73|F#3-59|A#3-74|B3-75|D#4-81|F4-75|A#4-74 F3-73|F#3-59|A#3-74|B3-79|D#4-81|F4-75|A#4-74|B4-88|C#5-78 F3-73|F#3-59|A#3-75|B3-79|D#4-81|F4-75|A#4-74|B4-88|C#5-78 F3-73|F#3-59|A#3-75|B3-79|D#4-81|F4-75|A#4-74|B4-88|C#5-78|F#5-79|G#5-73 D#3-82|F3-84|F#3-59|A#3-75|B3-79|D#4-81|F4-75|A#4-74|B4-88|C#5-78|F#5-79|G#5-73|B5-81 D#3-82|F3-84|F#3-59|A#3-75|B3-79|D#4-81|F4-75|A#4-74|B4-88|C#5-78|F#5-79|G#5-73|B5-81 A2-72|\"\n",
            "generating character number:  0\n",
            "generating character number:  200\n",
            "generating character number:  400\n",
            "generating character number:  600\n",
            "generating character number:  800\n",
            "generating character number:  1000\n",
            "generating character number:  1200\n",
            "generating character number:  1400\n",
            "#### iteration  18\n",
            "--- Generating with seed: \"-67 D4-80|D5-3|F#5-67|B5-73 D5-3|F#5-67 D5-3|F#5-67|A5-52 F#3-61|A3-64|D5-3|F#5-67|B5-66 F#3-61|A3-64|D5-3|F#5-67|B5-63 D5-3|A5-62 E3-25|G3-48|D5-3|A5-52 D5-3|B5-67 D3-74 D3-74|E5-69|G5-74 e e C#4-82|E5-75|G5-78 C#4-82 e e e A2-72|A3-97|A4-98|E5-94|A5-88 A2-72|A3-97 e e e A2-82|A3-92|A4-93|E5-92|A5-82 A2-82|A3-92 A5-79 e e A2-75|A3-91|A4-100|E5-87|A5-85 e e A3-89|A4-91|E5-83 e D3-84|A4-96|F#5-88|A5-91 e e F#2-78|F#3-96|A4-92|D5-83|A5-84 e A2-68|A4-88|E5-88|A5-80 e e A4-91 e D3-75|A4-93|F#5-90|A5-89 e A2-75|\"\n",
            "generating character number:  0\n",
            "generating character number:  200\n",
            "generating character number:  400\n",
            "generating character number:  600\n",
            "generating character number:  800\n",
            "generating character number:  1000\n",
            "generating character number:  1200\n",
            "generating character number:  1400\n",
            "#### iteration  19\n",
            "--- Generating with seed: \"4-75|D#4-73|F#4-70|A#4-71|G#5-93|A#5-98|F#6-87|A#6-84 F#4-87|B4-99|D#5-93 D#6-84 D#5-83|B5-88|D#6-84 e B5-74 B5-74|D6-77 F#5-90 F4-61|D#5-96 F4-61|D#5-96|D#6-84 F4-61|D#5-96|G#5-85|D#6-84 F4-61|C#5-92|D#5-96|G#5-85|D#6-84 F4-61|C#5-92|D#5-96|G#5-85|D#6-84 F4-61|C5-83|C#5-92|D#5-96|G#5-85|D#6-84 F#2-71|F#3-83 e C#6-62|F#6-24|A#6-85 G#5-94|C#6-62|F#6-24|A#6-85 F#5-99|G#5-94|C#6-62|F#6-24|A#6-85 C#4-63|F#4-60|A#4-60|F#5-99|G#5-94|C#6-62|F#6-84|A#6-85 C#4-63|F#4-60|A#4-60|F#5-99|G#5-94|C#6-62|F#6-84|A#6-85 D#4-\"\n",
            "generating character number:  0\n",
            "generating character number:  200\n",
            "generating character number:  400\n",
            "generating character number:  600\n",
            "generating character number:  800\n",
            "generating character number:  1000\n",
            "generating character number:  1200\n",
            "generating character number:  1400\n",
            "#### iteration  20\n",
            "--- Generating with seed: \"2 D4-57|E5-62|F#5-73 D4-57|G5-63 E5-64 E5-64|F#5-61 E4-51|A5-64 C#5-55|G5-65 C#5-55|G5-75 F#4-56|A5-75 A5-71 G5-71|A5-71 G4-56|B5-81 e A4-60|C#6-76 e B4-66|D6-74 C#6-74 B5-72 e F#5-73 E5-64 e e F#5-71 F#5-65 A3-53|F#5-69 e E5-67 e D3-37|D5-61 e e e e G5-62|A#5-72 G5-62|A#5-72 G5-62 G5-62 F5-57|G5-62|A5-68 F5-57|A5-68 F5-57|A5-68 F5-57|A5-68 A#4-76|C#5-70|E5-69|G5-76 A4-71|C#5-70|E5-69 G4-74|C#5-70|E5-69 C#5-70|E5-69 e e e E4-75|G5-81|A#5-82 E4-62|G5-81|A#5-82 E4-58|G5-81 D4-59|G5-81 D4-59|F5-66|G5-81|A5-74 \"\n",
            "generating character number:  0\n",
            "generating character number:  200\n",
            "generating character number:  400\n",
            "generating character number:  600\n",
            "generating character number:  800\n",
            "generating character number:  1000\n",
            "generating character number:  1200\n",
            "generating character number:  1400\n"
          ],
          "name": "stdout"
        }
      ]
    },
    {
      "cell_type": "code",
      "metadata": {
        "colab_type": "code",
        "id": "sqEWDdgGPVgp",
        "colab": {}
      },
      "source": [
        "# save the songs\n",
        "\n",
        "for i in dict_gru_t05_n1000:\n",
        "  \n",
        "  path = '/content/drive/My Drive/RNN_generatedtext/results_gru_t05_n1000_{}.txt'.format(i)\n",
        "\n",
        "  with open(path, 'w') as f:\n",
        "    f.write(dict_gru_t05_n1000[i])"
      ],
      "execution_count": null,
      "outputs": []
    },
    {
      "cell_type": "markdown",
      "metadata": {
        "colab_type": "text",
        "id": "aiYCOkAxTyos"
      },
      "source": [
        "### temperature 0.8"
      ]
    },
    {
      "cell_type": "code",
      "metadata": {
        "colab_type": "code",
        "id": "7sa38r9PTyot",
        "colab": {
          "base_uri": "https://localhost:8080/",
          "height": 171
        },
        "outputId": "437680f0-2f15-4a99-bd15-0305f0e80922"
      },
      "source": [
        "# generate with t=0.8\n",
        "\n",
        "results_gru_t08_n1000 = generate_text(model=gru_1_100,\n",
        "                                       seed_set_of_sequences=x_test,\n",
        "                                       chars=chars,\n",
        "                                       temp=0.8,\n",
        "                                       n=1000)\n",
        "\n",
        "print()\n",
        "print('newly generated text: ---------- ',results_gru_t08_n1000[512:])"
      ],
      "execution_count": null,
      "outputs": [
        {
          "output_type": "stream",
          "text": [
            "--- Generating with seed: \"5 e F#3-63 A3-60 C#4-62 D4-70 A#3-58 e D#3-60|C4-66 G3-54 A3-57 A#3-66|D4-74 G3-47 e A#2-58 G3-51 D#3-50 D3-69 C#3-56 D3-58 D#3-62|G3-47|C4-71 e e A3-64 e F#2-54 D2-51 D2-44 D2-52 D2-47 D2-53 D2-57 D2-53|F#3-66|A#3-65 D2-58|F#3-74|A#3-74 D2-58|A#3-76 D2-64|D#3-70|G3-79 D2-56 D2-55 e e e e D2-60 e e e e e e e e e e e e e e e e e e e e e e e D2-47 e e e e e e e e e e e D2-54 e D#2-63 D#2-56 D#2-55 D2-61 D2-51 D2-49 C2-52|D#4-53|F#4-53|A4-68 C2-50 C2-55 e e D2-59 e D#2-50 e e e e e e D2-62 e e F#5-64|C6-74 D#2\"\n",
            "generating character number:  0\n",
            "generating character number:  200\n",
            "generating character number:  400\n",
            "generating character number:  600\n",
            "generating character number:  800\n",
            "\n",
            "newly generated text: ----------  -45|C6-77 F#3-51|F#5-68|D#5-65|D#5-66 C#3-69|D5-81 D#3-62|F#4-74|D5-82 D#5-82 A#3-72|C5-71 F#3-68|D#4-60|A4-74 C#4-68|D4-64|A4-74|C#5-83 D3-72|F#4-70|C#5-84 C#3-71|F#4-73|E4-74|F#4-71|G#4-82|D5-73 A#2-73 G#2-73|A#3-72|E3-75|A#4-88 C#4-79|D#4-76|D#4-82|E4-77 F#4-77 A2-60|A4-83 A2-69|A#3-85|D#5-88 G#4-87 A#2-86 C#2-90|D4-88 G#2-80|D#4-97 E3-76|B4-87 F#2-69|G#3-75|G#4-71|A#4-81 B2-63|A#3-79|F#4-90|A4-77 A2-70|A3-67|C#4-81|A#4-90 A2-74|F#4-74|C#5-83 E2-68|G#4-84|E5-84 B2-66|E4-65|E5-86 C#2-61|E5-86 E2-65|D5-84 C2-56|G#2-65|G#3-61|E5-72|G#5-87 B2-63|B3-78|B4-86|C#6-86 E2-76|B3-81|G#4-84|C#5-85|E5-85|G#5-92 B2-85|G4-101|C#5-90|C#6-90 E2-97|G#3-104|C#4-80|E4-26|E4-84|G#4-84|C#5-96|E5-95|F#5-87|F#6-81|D7-94 A2-73|C#3-73|D#3-42|G#3-78|C#3-84|B3-78|A#4-98|C5-28|G#4-84|D5-84|F#6-86 E3-81|G3-77|B3-84|C#4-82|A4-82|C#5-90|E5-98|G#5-103|D#6-104|E7-92|G#6-87|E6-95 C#3-85|C#4-93|C#5-106|C#6-102|E6-95|G#6-86|E7-95 C#3-86|G3-92|G#4-80|C#5-106|D#6-99|E6-95|G5-90|G#6-170|D7-92|G#6-88|G7-101 F#1-89|C#3-84|C\n"
          ],
          "name": "stdout"
        }
      ]
    },
    {
      "cell_type": "code",
      "metadata": {
        "colab_type": "code",
        "id": "gTY_xdQyTyo4",
        "colab": {}
      },
      "source": [
        "# save the generated text\n",
        "\n",
        "with open('/content/drive/My Drive/RNN_generatedtext/results_gru_t08_n1000.txt', 'w') as f:\n",
        "    f.write(results_gru_t08_n1000)"
      ],
      "execution_count": null,
      "outputs": []
    },
    {
      "cell_type": "code",
      "metadata": {
        "id": "SMimTsXup_Dq",
        "colab_type": "code",
        "colab": {}
      },
      "source": [
        ""
      ],
      "execution_count": null,
      "outputs": []
    },
    {
      "cell_type": "code",
      "metadata": {
        "id": "mOHLy12Mp-ne",
        "colab_type": "code",
        "colab": {}
      },
      "source": [
        ""
      ],
      "execution_count": null,
      "outputs": []
    },
    {
      "cell_type": "code",
      "metadata": {
        "id": "TRPtJPy7p-m0",
        "colab_type": "code",
        "colab": {}
      },
      "source": [
        ""
      ],
      "execution_count": null,
      "outputs": []
    }
  ]
}