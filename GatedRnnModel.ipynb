{
  "nbformat": 4,
  "nbformat_minor": 0,
  "metadata": {
    "colab": {
      "name": "GatedRnnModel.ipynb",
      "provenance": [],
      "collapsed_sections": [],
      "authorship_tag": "ABX9TyMU9m92w/csHk2Sbl62caTQ",
      "include_colab_link": true
    },
    "kernelspec": {
      "name": "python3",
      "display_name": "Python 3"
    },
    "accelerator": "TPU"
  },
  "cells": [
    {
      "cell_type": "markdown",
      "metadata": {
        "id": "view-in-github",
        "colab_type": "text"
      },
      "source": [
        "<a href=\"https://colab.research.google.com/github/ludovicolanni/neural-music-composer/blob/master/GatedRnnModel.ipynb\" target=\"_parent\"><img src=\"https://colab.research.google.com/assets/colab-badge.svg\" alt=\"Open In Colab\"/></a>"
      ]
    },
    {
      "cell_type": "markdown",
      "metadata": {
        "id": "ey-UdGMxBWso",
        "colab_type": "text"
      },
      "source": [
        "# Set Up the TPU Environment for Fast Training"
      ]
    },
    {
      "cell_type": "code",
      "metadata": {
        "id": "AnaM-kDbn4Q2",
        "colab_type": "code",
        "colab": {}
      },
      "source": [
        "import tensorflow as tf\n",
        "\n",
        "import os\n",
        "import tensorflow_datasets as tfds"
      ],
      "execution_count": null,
      "outputs": []
    },
    {
      "cell_type": "code",
      "metadata": {
        "id": "HoU7Eg6zn57V",
        "colab_type": "code",
        "colab": {
          "base_uri": "https://localhost:8080/",
          "height": 188
        },
        "outputId": "d8927cf7-b8c5-460b-f317-c6ae9f4523b7"
      },
      "source": [
        "# initialize the TPU environment\n",
        "\n",
        "resolver = tf.distribute.cluster_resolver.TPUClusterResolver(tpu='grpc://' + os.environ['COLAB_TPU_ADDR'])\n",
        "tf.config.experimental_connect_to_cluster(resolver)\n",
        "# This is the TPU initialization code that has to be at the beginning.\n",
        "tf.tpu.experimental.initialize_tpu_system(resolver)\n",
        "print(\"All devices: \", tf.config.list_logical_devices('TPU'))"
      ],
      "execution_count": null,
      "outputs": [
        {
          "output_type": "stream",
          "text": [
            "WARNING:tensorflow:TPU system grpc://10.51.198.202:8470 has already been initialized. Reinitializing the TPU can cause previously created variables on TPU to be lost.\n"
          ],
          "name": "stdout"
        },
        {
          "output_type": "stream",
          "text": [
            "WARNING:tensorflow:TPU system grpc://10.51.198.202:8470 has already been initialized. Reinitializing the TPU can cause previously created variables on TPU to be lost.\n"
          ],
          "name": "stderr"
        },
        {
          "output_type": "stream",
          "text": [
            "INFO:tensorflow:Initializing the TPU system: grpc://10.51.198.202:8470\n"
          ],
          "name": "stdout"
        },
        {
          "output_type": "stream",
          "text": [
            "INFO:tensorflow:Initializing the TPU system: grpc://10.51.198.202:8470\n"
          ],
          "name": "stderr"
        },
        {
          "output_type": "stream",
          "text": [
            "INFO:tensorflow:Clearing out eager caches\n"
          ],
          "name": "stdout"
        },
        {
          "output_type": "stream",
          "text": [
            "INFO:tensorflow:Clearing out eager caches\n"
          ],
          "name": "stderr"
        },
        {
          "output_type": "stream",
          "text": [
            "INFO:tensorflow:Finished initializing TPU system.\n"
          ],
          "name": "stdout"
        },
        {
          "output_type": "stream",
          "text": [
            "INFO:tensorflow:Finished initializing TPU system.\n"
          ],
          "name": "stderr"
        },
        {
          "output_type": "stream",
          "text": [
            "All devices:  [LogicalDevice(name='/job:worker/replica:0/task:0/device:TPU:7', device_type='TPU'), LogicalDevice(name='/job:worker/replica:0/task:0/device:TPU:6', device_type='TPU'), LogicalDevice(name='/job:worker/replica:0/task:0/device:TPU:5', device_type='TPU'), LogicalDevice(name='/job:worker/replica:0/task:0/device:TPU:4', device_type='TPU'), LogicalDevice(name='/job:worker/replica:0/task:0/device:TPU:0', device_type='TPU'), LogicalDevice(name='/job:worker/replica:0/task:0/device:TPU:1', device_type='TPU'), LogicalDevice(name='/job:worker/replica:0/task:0/device:TPU:2', device_type='TPU'), LogicalDevice(name='/job:worker/replica:0/task:0/device:TPU:3', device_type='TPU')]\n"
          ],
          "name": "stdout"
        }
      ]
    },
    {
      "cell_type": "code",
      "metadata": {
        "id": "mVIMmwDGoROx",
        "colab_type": "code",
        "colab": {
          "base_uri": "https://localhost:8080/",
          "height": 588
        },
        "outputId": "67741a38-6358-4ec2-8eb9-fb306959b5a7"
      },
      "source": [
        "# define the TPU strategy\n",
        "\n",
        "strategy = tf.distribute.experimental.TPUStrategy(resolver)"
      ],
      "execution_count": null,
      "outputs": [
        {
          "output_type": "stream",
          "text": [
            "INFO:tensorflow:Found TPU system:\n"
          ],
          "name": "stdout"
        },
        {
          "output_type": "stream",
          "text": [
            "INFO:tensorflow:Found TPU system:\n"
          ],
          "name": "stderr"
        },
        {
          "output_type": "stream",
          "text": [
            "INFO:tensorflow:*** Num TPU Cores: 8\n"
          ],
          "name": "stdout"
        },
        {
          "output_type": "stream",
          "text": [
            "INFO:tensorflow:*** Num TPU Cores: 8\n"
          ],
          "name": "stderr"
        },
        {
          "output_type": "stream",
          "text": [
            "INFO:tensorflow:*** Num TPU Workers: 1\n"
          ],
          "name": "stdout"
        },
        {
          "output_type": "stream",
          "text": [
            "INFO:tensorflow:*** Num TPU Workers: 1\n"
          ],
          "name": "stderr"
        },
        {
          "output_type": "stream",
          "text": [
            "INFO:tensorflow:*** Num TPU Cores Per Worker: 8\n"
          ],
          "name": "stdout"
        },
        {
          "output_type": "stream",
          "text": [
            "INFO:tensorflow:*** Num TPU Cores Per Worker: 8\n"
          ],
          "name": "stderr"
        },
        {
          "output_type": "stream",
          "text": [
            "INFO:tensorflow:*** Available Device: _DeviceAttributes(/job:localhost/replica:0/task:0/device:CPU:0, CPU, 0, 0)\n"
          ],
          "name": "stdout"
        },
        {
          "output_type": "stream",
          "text": [
            "INFO:tensorflow:*** Available Device: _DeviceAttributes(/job:localhost/replica:0/task:0/device:CPU:0, CPU, 0, 0)\n"
          ],
          "name": "stderr"
        },
        {
          "output_type": "stream",
          "text": [
            "INFO:tensorflow:*** Available Device: _DeviceAttributes(/job:localhost/replica:0/task:0/device:XLA_CPU:0, XLA_CPU, 0, 0)\n"
          ],
          "name": "stdout"
        },
        {
          "output_type": "stream",
          "text": [
            "INFO:tensorflow:*** Available Device: _DeviceAttributes(/job:localhost/replica:0/task:0/device:XLA_CPU:0, XLA_CPU, 0, 0)\n"
          ],
          "name": "stderr"
        },
        {
          "output_type": "stream",
          "text": [
            "INFO:tensorflow:*** Available Device: _DeviceAttributes(/job:worker/replica:0/task:0/device:CPU:0, CPU, 0, 0)\n"
          ],
          "name": "stdout"
        },
        {
          "output_type": "stream",
          "text": [
            "INFO:tensorflow:*** Available Device: _DeviceAttributes(/job:worker/replica:0/task:0/device:CPU:0, CPU, 0, 0)\n"
          ],
          "name": "stderr"
        },
        {
          "output_type": "stream",
          "text": [
            "INFO:tensorflow:*** Available Device: _DeviceAttributes(/job:worker/replica:0/task:0/device:TPU:0, TPU, 0, 0)\n"
          ],
          "name": "stdout"
        },
        {
          "output_type": "stream",
          "text": [
            "INFO:tensorflow:*** Available Device: _DeviceAttributes(/job:worker/replica:0/task:0/device:TPU:0, TPU, 0, 0)\n"
          ],
          "name": "stderr"
        },
        {
          "output_type": "stream",
          "text": [
            "INFO:tensorflow:*** Available Device: _DeviceAttributes(/job:worker/replica:0/task:0/device:TPU:1, TPU, 0, 0)\n"
          ],
          "name": "stdout"
        },
        {
          "output_type": "stream",
          "text": [
            "INFO:tensorflow:*** Available Device: _DeviceAttributes(/job:worker/replica:0/task:0/device:TPU:1, TPU, 0, 0)\n"
          ],
          "name": "stderr"
        },
        {
          "output_type": "stream",
          "text": [
            "INFO:tensorflow:*** Available Device: _DeviceAttributes(/job:worker/replica:0/task:0/device:TPU:2, TPU, 0, 0)\n"
          ],
          "name": "stdout"
        },
        {
          "output_type": "stream",
          "text": [
            "INFO:tensorflow:*** Available Device: _DeviceAttributes(/job:worker/replica:0/task:0/device:TPU:2, TPU, 0, 0)\n"
          ],
          "name": "stderr"
        },
        {
          "output_type": "stream",
          "text": [
            "INFO:tensorflow:*** Available Device: _DeviceAttributes(/job:worker/replica:0/task:0/device:TPU:3, TPU, 0, 0)\n"
          ],
          "name": "stdout"
        },
        {
          "output_type": "stream",
          "text": [
            "INFO:tensorflow:*** Available Device: _DeviceAttributes(/job:worker/replica:0/task:0/device:TPU:3, TPU, 0, 0)\n"
          ],
          "name": "stderr"
        },
        {
          "output_type": "stream",
          "text": [
            "INFO:tensorflow:*** Available Device: _DeviceAttributes(/job:worker/replica:0/task:0/device:TPU:4, TPU, 0, 0)\n"
          ],
          "name": "stdout"
        },
        {
          "output_type": "stream",
          "text": [
            "INFO:tensorflow:*** Available Device: _DeviceAttributes(/job:worker/replica:0/task:0/device:TPU:4, TPU, 0, 0)\n"
          ],
          "name": "stderr"
        },
        {
          "output_type": "stream",
          "text": [
            "INFO:tensorflow:*** Available Device: _DeviceAttributes(/job:worker/replica:0/task:0/device:TPU:5, TPU, 0, 0)\n"
          ],
          "name": "stdout"
        },
        {
          "output_type": "stream",
          "text": [
            "INFO:tensorflow:*** Available Device: _DeviceAttributes(/job:worker/replica:0/task:0/device:TPU:5, TPU, 0, 0)\n"
          ],
          "name": "stderr"
        },
        {
          "output_type": "stream",
          "text": [
            "INFO:tensorflow:*** Available Device: _DeviceAttributes(/job:worker/replica:0/task:0/device:TPU:6, TPU, 0, 0)\n"
          ],
          "name": "stdout"
        },
        {
          "output_type": "stream",
          "text": [
            "INFO:tensorflow:*** Available Device: _DeviceAttributes(/job:worker/replica:0/task:0/device:TPU:6, TPU, 0, 0)\n"
          ],
          "name": "stderr"
        },
        {
          "output_type": "stream",
          "text": [
            "INFO:tensorflow:*** Available Device: _DeviceAttributes(/job:worker/replica:0/task:0/device:TPU:7, TPU, 0, 0)\n"
          ],
          "name": "stdout"
        },
        {
          "output_type": "stream",
          "text": [
            "INFO:tensorflow:*** Available Device: _DeviceAttributes(/job:worker/replica:0/task:0/device:TPU:7, TPU, 0, 0)\n"
          ],
          "name": "stderr"
        },
        {
          "output_type": "stream",
          "text": [
            "INFO:tensorflow:*** Available Device: _DeviceAttributes(/job:worker/replica:0/task:0/device:TPU_SYSTEM:0, TPU_SYSTEM, 0, 0)\n"
          ],
          "name": "stdout"
        },
        {
          "output_type": "stream",
          "text": [
            "INFO:tensorflow:*** Available Device: _DeviceAttributes(/job:worker/replica:0/task:0/device:TPU_SYSTEM:0, TPU_SYSTEM, 0, 0)\n"
          ],
          "name": "stderr"
        },
        {
          "output_type": "stream",
          "text": [
            "INFO:tensorflow:*** Available Device: _DeviceAttributes(/job:worker/replica:0/task:0/device:XLA_CPU:0, XLA_CPU, 0, 0)\n"
          ],
          "name": "stdout"
        },
        {
          "output_type": "stream",
          "text": [
            "INFO:tensorflow:*** Available Device: _DeviceAttributes(/job:worker/replica:0/task:0/device:XLA_CPU:0, XLA_CPU, 0, 0)\n"
          ],
          "name": "stderr"
        }
      ]
    },
    {
      "cell_type": "code",
      "metadata": {
        "id": "GjIBpRPnodMB",
        "colab_type": "code",
        "colab": {
          "base_uri": "https://localhost:8080/",
          "height": 34
        },
        "outputId": "7a35df44-27d5-42c9-c709-d8b459d3977a"
      },
      "source": [
        "# checking how many TPU devices we are working with\n",
        "\n",
        "print('Number of devices: {}'.format(strategy.num_replicas_in_sync))"
      ],
      "execution_count": null,
      "outputs": [
        {
          "output_type": "stream",
          "text": [
            "Number of devices: 8\n"
          ],
          "name": "stdout"
        }
      ]
    },
    {
      "cell_type": "markdown",
      "metadata": {
        "id": "X219Dfkw0pR2",
        "colab_type": "text"
      },
      "source": [
        "# Building Gated RNN Models\n"
      ]
    },
    {
      "cell_type": "code",
      "metadata": {
        "id": "T6eSIEqX0DKE",
        "colab_type": "code",
        "colab": {
          "base_uri": "https://localhost:8080/",
          "height": 34
        },
        "outputId": "9f8622bf-b918-4967-c0f5-ae67bc8370ec"
      },
      "source": [
        "from google.colab import drive\n",
        "drive.mount('/content/drive')"
      ],
      "execution_count": null,
      "outputs": [
        {
          "output_type": "stream",
          "text": [
            "Drive already mounted at /content/drive; to attempt to forcibly remount, call drive.mount(\"/content/drive\", force_remount=True).\n"
          ],
          "name": "stdout"
        }
      ]
    },
    {
      "cell_type": "markdown",
      "metadata": {
        "id": "Y7TSQAKsBP4J",
        "colab_type": "text"
      },
      "source": [
        "## Load Data"
      ]
    },
    {
      "cell_type": "code",
      "metadata": {
        "id": "BoYLq3a8rkRl",
        "colab_type": "code",
        "colab": {}
      },
      "source": [
        "import numpy as np\n",
        "import pandas as pd\n",
        "import matplotlib.pyplot as plt\n",
        "import os"
      ],
      "execution_count": null,
      "outputs": []
    },
    {
      "cell_type": "code",
      "metadata": {
        "id": "1W7Y1BF8Beob",
        "colab_type": "code",
        "colab": {}
      },
      "source": [
        "# load the one-hot-encoded numpy arrays\n",
        "\n",
        "x_train = np.load('/content/drive/My Drive/RNN_data/x_train.npy')\n",
        "y_train = np.load('/content/drive/My Drive/RNN_data/y_train.npy')\n",
        "x_test = np.load('/content/drive/My Drive/RNN_data/x_test.npy')\n",
        "y_test = np.load('/content/drive/My Drive/RNN_data/y_test.npy')\n",
        "x_validation = np.load('/content/drive/My Drive/RNN_data/x_validation.npy')\n",
        "y_validation = np.load('/content/drive/My Drive/RNN_data/y_validation.npy')"
      ],
      "execution_count": null,
      "outputs": []
    },
    {
      "cell_type": "code",
      "metadata": {
        "id": "RBXDN042uiWL",
        "colab_type": "code",
        "colab": {}
      },
      "source": [
        "# convert numpy arrays into tensorflow datasets\n",
        "\n",
        "train_dataset = tf.data.Dataset.from_tensor_slices((x_train, y_train))\n",
        "test_dataset = tf.data.Dataset.from_tensor_slices((x_test, y_test))\n",
        "validation_dataset = tf.data.Dataset.from_tensor_slices((x_validation, y_validation))"
      ],
      "execution_count": null,
      "outputs": []
    },
    {
      "cell_type": "code",
      "metadata": {
        "id": "520JatTOwJ2c",
        "colab_type": "code",
        "colab": {}
      },
      "source": [
        "# batch the datasets\n",
        "\n",
        "BATCH_SIZE_PER_REPLICA = 128\n",
        "BATCH_SIZE = BATCH_SIZE_PER_REPLICA * strategy.num_replicas_in_sync\n",
        "\n",
        "train_dataset = train_dataset.batch(BATCH_SIZE)\n",
        "validation_dataset = validation_dataset.batch(BATCH_SIZE)\n",
        "test_dataset = test_dataset.batch(BATCH_SIZE)"
      ],
      "execution_count": null,
      "outputs": []
    },
    {
      "cell_type": "markdown",
      "metadata": {
        "id": "Ag-Rj8uvBV_h",
        "colab_type": "text"
      },
      "source": [
        "## Define Models"
      ]
    },
    {
      "cell_type": "code",
      "metadata": {
        "id": "yrpFWUTA0TEL",
        "colab_type": "code",
        "colab": {
          "base_uri": "https://localhost:8080/",
          "height": 34
        },
        "outputId": "60ab1cc9-f246-42e1-b329-4f30c4a01ff1"
      },
      "source": [
        "import tensorflow as tf\n",
        "print(tf.__version__)"
      ],
      "execution_count": null,
      "outputs": [
        {
          "output_type": "stream",
          "text": [
            "2.2.0\n"
          ],
          "name": "stdout"
        }
      ]
    },
    {
      "cell_type": "code",
      "metadata": {
        "id": "Cl8tLbdJsatI",
        "colab_type": "code",
        "colab": {}
      },
      "source": [
        "# let's define a function that builds a custom LSTM-based or GRU-based RNN\n",
        "\n",
        "def build_RNN(seq_length, n_chars, layer_type='LSTM', n_rec_layers=1, rec_layer_depth=512):\n",
        "\n",
        "  import tensorflow as tf\n",
        "  from tensorflow.python.keras.layers import Input, LSTM, Dense, GRU\n",
        "\n",
        "  source = Input(shape=(seq_length, n_chars,), name='Input')\n",
        "\n",
        "  if layer_type=='LSTM':\n",
        "    rec = LSTM(rec_layer_depth, name='LSTM')(source)\n",
        "\n",
        "    if n_rec_layers==2:\n",
        "      rec = LSTM(rec_layer_depth, name='LSTM')(rec)\n",
        "    \n",
        "      \n",
        "  elif layer_type=='GRU':\n",
        "    rec = GRU(rec_layer_depth, name='GRU')(source)\n",
        "\n",
        "    if n_rec_layers==2:\n",
        "      rec = GRU(rec_layer_depth, name='LSTM')(rec)\n",
        "  \n",
        "  output = Dense(n_chars, activation='softmax', name='Output')(rec)\n",
        "\n",
        "  model = tf.keras.Model(inputs=source, outputs=output)\n",
        "\n",
        "  print('Type of Recurrent Unit: ',layer_type)\n",
        "  print('Number of Recurrent Blocks: ',n_rec_layers)\n",
        "  print()\n",
        "  print(model.summary())\n",
        "\n",
        "  return model"
      ],
      "execution_count": null,
      "outputs": []
    },
    {
      "cell_type": "markdown",
      "metadata": {
        "id": "qIikSXSLrgUg",
        "colab_type": "text"
      },
      "source": [
        "## 1-layered LSTM based RNN"
      ]
    },
    {
      "cell_type": "code",
      "metadata": {
        "id": "Ow94rOok7jvo",
        "colab_type": "code",
        "colab": {
          "base_uri": "https://localhost:8080/",
          "height": 319
        },
        "outputId": "1022024b-22d4-4e37-b378-21c1da37eefe"
      },
      "source": [
        "# let's build the model and compile it within the TPU strategy scope\n",
        "\n",
        "with strategy.scope():\n",
        "\n",
        "  # build the model\n",
        "\n",
        "  lstm_1 = build_RNN(512,22,'LSTM',1,512)   # 1-layered LSTM-based\n",
        "\n",
        "  # let's define the optimizer of the model \n",
        "\n",
        "  optimizer = tf.keras.optimizers.RMSprop(learning_rate=0.01)   # for TPU support\n",
        "\n",
        "  # let's compile the model\n",
        "\n",
        "  lstm_1.compile(loss='categorical_crossentropy', \n",
        "                optimizer=optimizer,\n",
        "                metrics=['acc'])"
      ],
      "execution_count": null,
      "outputs": [
        {
          "output_type": "stream",
          "text": [
            "Type of Recurrent Unit:  LSTM\n",
            "Number of Recurrent Blocks:  1\n",
            "\n",
            "Model: \"model_4\"\n",
            "_________________________________________________________________\n",
            "Layer (type)                 Output Shape              Param #   \n",
            "=================================================================\n",
            "Input (InputLayer)           [(None, 512, 22)]         0         \n",
            "_________________________________________________________________\n",
            "LSTM (LSTM)                  (None, 512)               1095680   \n",
            "_________________________________________________________________\n",
            "Output (Dense)               (None, 22)                11286     \n",
            "=================================================================\n",
            "Total params: 1,106,966\n",
            "Trainable params: 1,106,966\n",
            "Non-trainable params: 0\n",
            "_________________________________________________________________\n",
            "None\n"
          ],
          "name": "stdout"
        }
      ]
    },
    {
      "cell_type": "code",
      "metadata": {
        "id": "-318sPrXy6C1",
        "colab_type": "code",
        "colab": {}
      },
      "source": [
        "# let's define the callbacks \n",
        "\n",
        "callbacks_list_lstm = [\n",
        "                  tf.keras.callbacks.EarlyStopping(\n",
        "                      monitor='acc',\n",
        "                      patience=5,\n",
        "                      ),\n",
        "                  tf.keras.callbacks.ModelCheckpoint(\n",
        "                      filepath='/content/drive/My Drive/RNN_models/lstm_1_100.h5',\n",
        "                      monitor='val_loss',\n",
        "                      save_best_only=True,\n",
        "                      ),\n",
        "                  tf.keras.callbacks.ReduceLROnPlateau(\n",
        "                      monitor='val_loss',\n",
        "                      factor=0.1,\n",
        "                      patience=2,\n",
        "                      ),\n",
        "                  tf.keras.callbacks.CSVLogger(\n",
        "                      filename = '/content/drive/My Drive/RNN_models/log_lstm_1_100.csv', \n",
        "                      separator=',', \n",
        "                      append=False\n",
        "                      ),\n",
        "                  tf.keras.callbacks.TerminateOnNaN()\n",
        "                  ]"
      ],
      "execution_count": null,
      "outputs": []
    },
    {
      "cell_type": "code",
      "metadata": {
        "id": "jMTmn9wIslCq",
        "colab_type": "code",
        "colab": {
          "base_uri": "https://localhost:8080/",
          "height": 1000
        },
        "outputId": "8ce0a662-0f31-463d-e7cc-ccca400f96a9"
      },
      "source": [
        "# let's train the model\n",
        "\n",
        "from numpy.random import seed\n",
        "seed(1)\n",
        "tf.random.set_seed(2)\n",
        "\n",
        "epochs = 100\n",
        "\n",
        "history_lstm_1 = lstm_1.fit(train_dataset,\n",
        "                            epochs=epochs,\n",
        "                            callbacks=callbacks_list_lstm,\n",
        "                            validation_data=validation_dataset)"
      ],
      "execution_count": null,
      "outputs": [
        {
          "output_type": "stream",
          "text": [
            "Epoch 1/100\n",
            "109/109 [==============================] - 17s 152ms/step - acc: 0.1230 - loss: 3.2191 - val_acc: 0.0456 - val_loss: 3.2508 - lr: 0.0100\n",
            "Epoch 2/100\n",
            "109/109 [==============================] - 14s 125ms/step - acc: 0.1310 - loss: 3.0117 - val_acc: 0.0896 - val_loss: 3.0818 - lr: 0.0100\n",
            "Epoch 3/100\n",
            "109/109 [==============================] - 14s 125ms/step - acc: 0.1843 - loss: 2.8266 - val_acc: 0.1310 - val_loss: 2.8341 - lr: 0.0100\n",
            "Epoch 4/100\n",
            "109/109 [==============================] - 14s 126ms/step - acc: 0.2225 - loss: 2.6816 - val_acc: 0.1985 - val_loss: 2.6612 - lr: 0.0100\n",
            "Epoch 5/100\n",
            "109/109 [==============================] - 14s 126ms/step - acc: 0.2530 - loss: 2.5507 - val_acc: 0.2075 - val_loss: 2.5976 - lr: 0.0100\n",
            "Epoch 6/100\n",
            "109/109 [==============================] - 14s 128ms/step - acc: 0.2700 - loss: 2.4615 - val_acc: 0.2412 - val_loss: 2.4854 - lr: 0.0100\n",
            "Epoch 7/100\n",
            "109/109 [==============================] - 14s 127ms/step - acc: 0.2864 - loss: 2.3951 - val_acc: 0.2355 - val_loss: 2.4833 - lr: 0.0100\n",
            "Epoch 8/100\n",
            "109/109 [==============================] - 14s 126ms/step - acc: 0.2924 - loss: 2.3602 - val_acc: 0.2490 - val_loss: 2.4311 - lr: 0.0100\n",
            "Epoch 9/100\n",
            "109/109 [==============================] - 14s 126ms/step - acc: 0.2953 - loss: 2.3327 - val_acc: 0.3424 - val_loss: 2.0756 - lr: 0.0100\n",
            "Epoch 10/100\n",
            "109/109 [==============================] - 14s 125ms/step - acc: 0.3866 - loss: 1.9151 - val_acc: 0.3898 - val_loss: 1.6028 - lr: 0.0100\n",
            "Epoch 11/100\n",
            "109/109 [==============================] - 14s 126ms/step - acc: 0.4356 - loss: 1.3986 - val_acc: 0.4044 - val_loss: 1.4523 - lr: 0.0100\n",
            "Epoch 12/100\n",
            "109/109 [==============================] - 14s 125ms/step - acc: 0.4653 - loss: 1.3254 - val_acc: 0.4193 - val_loss: 1.3996 - lr: 0.0100\n",
            "Epoch 13/100\n",
            "109/109 [==============================] - 14s 129ms/step - acc: 0.4817 - loss: 1.2834 - val_acc: 0.4360 - val_loss: 1.3604 - lr: 0.0100\n",
            "Epoch 14/100\n",
            "109/109 [==============================] - 14s 126ms/step - acc: 0.4965 - loss: 1.2551 - val_acc: 0.4444 - val_loss: 1.3418 - lr: 0.0100\n",
            "Epoch 15/100\n",
            "109/109 [==============================] - 14s 125ms/step - acc: 0.5091 - loss: 1.2312 - val_acc: 0.4498 - val_loss: 1.3374 - lr: 0.0100\n",
            "Epoch 16/100\n",
            "109/109 [==============================] - 14s 125ms/step - acc: 0.5170 - loss: 1.2064 - val_acc: 0.4726 - val_loss: 1.3029 - lr: 0.0100\n",
            "Epoch 17/100\n",
            "109/109 [==============================] - 14s 125ms/step - acc: 0.5388 - loss: 1.1617 - val_acc: 0.4810 - val_loss: 1.2916 - lr: 0.0100\n",
            "Epoch 18/100\n",
            "109/109 [==============================] - 13s 123ms/step - acc: 0.5530 - loss: 1.1317 - val_acc: 0.4793 - val_loss: 1.2969 - lr: 0.0100\n",
            "Epoch 19/100\n",
            "109/109 [==============================] - 14s 126ms/step - acc: 0.5697 - loss: 1.0980 - val_acc: 0.4989 - val_loss: 1.2865 - lr: 0.0100\n",
            "Epoch 20/100\n",
            "109/109 [==============================] - 14s 129ms/step - acc: 0.5839 - loss: 1.0721 - val_acc: 0.5061 - val_loss: 1.2776 - lr: 0.0100\n",
            "Epoch 21/100\n",
            "109/109 [==============================] - 14s 126ms/step - acc: 0.5971 - loss: 1.0424 - val_acc: 0.5134 - val_loss: 1.2681 - lr: 0.0100\n",
            "Epoch 22/100\n",
            "109/109 [==============================] - 13s 123ms/step - acc: 0.6121 - loss: 1.0156 - val_acc: 0.5053 - val_loss: 1.3401 - lr: 0.0100\n",
            "Epoch 23/100\n",
            "109/109 [==============================] - 13s 124ms/step - acc: 0.6259 - loss: 0.9889 - val_acc: 0.5133 - val_loss: 1.3171 - lr: 0.0100\n",
            "Epoch 24/100\n",
            "109/109 [==============================] - 14s 127ms/step - acc: 0.6379 - loss: 0.9599 - val_acc: 0.5401 - val_loss: 1.2408 - lr: 1.0000e-03\n",
            "Epoch 25/100\n",
            "109/109 [==============================] - 13s 123ms/step - acc: 0.6570 - loss: 0.9191 - val_acc: 0.5399 - val_loss: 1.2541 - lr: 1.0000e-03\n",
            "Epoch 26/100\n",
            "109/109 [==============================] - 13s 123ms/step - acc: 0.6670 - loss: 0.8961 - val_acc: 0.5390 - val_loss: 1.2655 - lr: 1.0000e-03\n",
            "Epoch 27/100\n",
            "109/109 [==============================] - 13s 123ms/step - acc: 0.6666 - loss: 0.9012 - val_acc: 0.5438 - val_loss: 1.2427 - lr: 1.0000e-04\n",
            "Epoch 28/100\n",
            "109/109 [==============================] - 14s 127ms/step - acc: 0.6712 - loss: 0.8890 - val_acc: 0.5457 - val_loss: 1.2345 - lr: 1.0000e-04\n",
            "Epoch 29/100\n",
            "109/109 [==============================] - 14s 127ms/step - acc: 0.6731 - loss: 0.8832 - val_acc: 0.5471 - val_loss: 1.2313 - lr: 1.0000e-04\n",
            "Epoch 30/100\n",
            "109/109 [==============================] - 14s 127ms/step - acc: 0.6751 - loss: 0.8793 - val_acc: 0.5470 - val_loss: 1.2301 - lr: 1.0000e-04\n",
            "Epoch 31/100\n",
            "109/109 [==============================] - 14s 126ms/step - acc: 0.6762 - loss: 0.8760 - val_acc: 0.5476 - val_loss: 1.2301 - lr: 1.0000e-04\n",
            "Epoch 32/100\n",
            "109/109 [==============================] - 13s 123ms/step - acc: 0.6776 - loss: 0.8730 - val_acc: 0.5475 - val_loss: 1.2307 - lr: 1.0000e-04\n",
            "Epoch 33/100\n",
            "109/109 [==============================] - 13s 122ms/step - acc: 0.6791 - loss: 0.8706 - val_acc: 0.5475 - val_loss: 1.2307 - lr: 1.0000e-05\n",
            "Epoch 34/100\n",
            "109/109 [==============================] - 14s 125ms/step - acc: 0.6791 - loss: 0.8702 - val_acc: 0.5475 - val_loss: 1.2306 - lr: 1.0000e-05\n",
            "Epoch 35/100\n",
            "109/109 [==============================] - 13s 122ms/step - acc: 0.6794 - loss: 0.8698 - val_acc: 0.5477 - val_loss: 1.2306 - lr: 1.0000e-06\n",
            "Epoch 36/100\n",
            "109/109 [==============================] - 13s 122ms/step - acc: 0.6793 - loss: 0.8698 - val_acc: 0.5476 - val_loss: 1.2306 - lr: 1.0000e-06\n",
            "Epoch 37/100\n",
            "109/109 [==============================] - 13s 123ms/step - acc: 0.6793 - loss: 0.8697 - val_acc: 0.5478 - val_loss: 1.2306 - lr: 1.0000e-07\n",
            "Epoch 38/100\n",
            "109/109 [==============================] - 13s 123ms/step - acc: 0.6794 - loss: 0.8697 - val_acc: 0.5475 - val_loss: 1.2306 - lr: 1.0000e-07\n",
            "Epoch 39/100\n",
            "109/109 [==============================] - 13s 122ms/step - acc: 0.6794 - loss: 0.8697 - val_acc: 0.5474 - val_loss: 1.2306 - lr: 1.0000e-08\n",
            "Epoch 40/100\n",
            "109/109 [==============================] - 13s 122ms/step - acc: 0.6795 - loss: 0.8697 - val_acc: 0.5476 - val_loss: 1.2306 - lr: 1.0000e-08\n",
            "Epoch 41/100\n",
            "109/109 [==============================] - 14s 126ms/step - acc: 0.6792 - loss: 0.8697 - val_acc: 0.5476 - val_loss: 1.2306 - lr: 1.0000e-09\n",
            "Epoch 42/100\n",
            "109/109 [==============================] - 13s 123ms/step - acc: 0.6794 - loss: 0.8697 - val_acc: 0.5475 - val_loss: 1.2305 - lr: 1.0000e-09\n",
            "Epoch 43/100\n",
            "109/109 [==============================] - 13s 123ms/step - acc: 0.6794 - loss: 0.8697 - val_acc: 0.5475 - val_loss: 1.2305 - lr: 1.0000e-10\n",
            "Epoch 44/100\n",
            "109/109 [==============================] - 13s 123ms/step - acc: 0.6794 - loss: 0.8697 - val_acc: 0.5475 - val_loss: 1.2305 - lr: 1.0000e-10\n",
            "Epoch 45/100\n",
            "109/109 [==============================] - 13s 123ms/step - acc: 0.6794 - loss: 0.8697 - val_acc: 0.5475 - val_loss: 1.2305 - lr: 1.0000e-11\n"
          ],
          "name": "stdout"
        }
      ]
    },
    {
      "cell_type": "code",
      "metadata": {
        "id": "e7wFcWK5QDHj",
        "colab_type": "code",
        "colab": {
          "base_uri": "https://localhost:8080/",
          "height": 535
        },
        "outputId": "63d3ffb2-b807-4597-e928-2cd3fe3ccf88"
      },
      "source": [
        "# save the history of the model\n",
        "\n",
        "import pickle \n",
        "\n",
        "with open('/content/drive/My Drive/RNN_models/history_lstm_1_100', 'wb') as f:\n",
        "  pickle.dump(history_lstm_1.history, f)\n",
        "\n",
        "# plot the history of the model\n",
        "\n",
        "%matplotlib inline\n",
        "\n",
        "fig, axes = plt.subplots(nrows=1, ncols=2, figsize=(20, 10))\n",
        "\n",
        "axes[0].plot(history_lstm_1.history['acc'])\n",
        "axes[0].plot(history_lstm_1.history['val_acc'])\n",
        "axes[0].set_title('model accuracy')\n",
        "axes[0].set_ylabel('accuracy')\n",
        "axes[0].set_xlabel('epoch')\n",
        "axes[0].legend(['train', 'val'], loc='upper left')\n",
        "\n",
        "axes[1].plot(history_lstm_1.history['loss'])\n",
        "axes[1].plot(history_lstm_1.history['val_loss'])\n",
        "axes[1].set_title('model loss')\n",
        "axes[1].set_ylabel('loss')\n",
        "axes[1].set_xlabel('epoch')\n",
        "axes[1].legend(['train', 'val'], loc='upper left')\n",
        "\n",
        "fig.tight_layout()"
      ],
      "execution_count": null,
      "outputs": [
        {
          "output_type": "display_data",
          "data": {
            "image/png": "[encoded data removed]",
            "text/plain": [
              "<Figure size 1440x720 with 2 Axes>"
            ]
          },
          "metadata": {
            "tags": [],
            "needs_background": "light"
          }
        }
      ]
    },
    {
      "cell_type": "code",
      "metadata": {
        "id": "Tfz8YfBKsl-c",
        "colab_type": "code",
        "colab": {
          "base_uri": "https://localhost:8080/",
          "height": 50
        },
        "outputId": "860b04ce-3c39-4328-e7bb-007c21b9bd04"
      },
      "source": [
        "# let's evaluate the model on test data\n",
        "\n",
        "test_loss, test_acc = lstm_1.evaluate(test_dataset)\n",
        "\n",
        "print('test loss: {}, test Accuracy: {}'.format(test_loss, test_acc))"
      ],
      "execution_count": null,
      "outputs": [
        {
          "output_type": "stream",
          "text": [
            "17/17 [==============================] - 2s 108ms/step - acc: 0.5257 - loss: 1.2765\n",
            "test loss: 1.276498794555664, test Accuracy: 0.5256668329238892\n"
          ],
          "name": "stdout"
        }
      ]
    },
    {
      "cell_type": "markdown",
      "metadata": {
        "colab_type": "text",
        "id": "7eTDwM6BRM7w"
      },
      "source": [
        "## 1-layered GRU based RNN"
      ]
    },
    {
      "cell_type": "code",
      "metadata": {
        "colab_type": "code",
        "id": "-RcUT2p2RM71",
        "colab": {
          "base_uri": "https://localhost:8080/",
          "height": 319
        },
        "outputId": "ea72a1d4-69e0-4d47-9946-0460979f6dd7"
      },
      "source": [
        "# let's build the model and compile it within the TPU strategy scope\n",
        "\n",
        "with strategy.scope():\n",
        "\n",
        "  # build the model\n",
        "\n",
        "  gru_1 = build_RNN(512,22,'GRU',1,512)   # 1-layered GRU-based\n",
        "\n",
        "  # let's define the optimizer of the model \n",
        "\n",
        "  optimizer = tf.keras.optimizers.RMSprop(learning_rate=0.001)   # for TPU support\n",
        "\n",
        "  # let's compile the model\n",
        "\n",
        "  gru_1.compile(loss='categorical_crossentropy', \n",
        "                optimizer=optimizer,\n",
        "                metrics=['acc'])"
      ],
      "execution_count": null,
      "outputs": [
        {
          "output_type": "stream",
          "text": [
            "Type of Recurrent Unit:  GRU\n",
            "Number of Recurrent Blocks:  1\n",
            "\n",
            "Model: \"model_6\"\n",
            "_________________________________________________________________\n",
            "Layer (type)                 Output Shape              Param #   \n",
            "=================================================================\n",
            "Input (InputLayer)           [(None, 512, 22)]         0         \n",
            "_________________________________________________________________\n",
            "GRU (GRU)                    (None, 512)               823296    \n",
            "_________________________________________________________________\n",
            "Output (Dense)               (None, 22)                11286     \n",
            "=================================================================\n",
            "Total params: 834,582\n",
            "Trainable params: 834,582\n",
            "Non-trainable params: 0\n",
            "_________________________________________________________________\n",
            "None\n"
          ],
          "name": "stdout"
        }
      ]
    },
    {
      "cell_type": "code",
      "metadata": {
        "colab_type": "code",
        "id": "E_8qB4vdRM75",
        "colab": {}
      },
      "source": [
        "# let's define the callbacks \n",
        "\n",
        "callbacks_list_gru = [\n",
        "                  tf.keras.callbacks.EarlyStopping(\n",
        "                      monitor='acc',\n",
        "                      patience=5,\n",
        "                      ),\n",
        "                  tf.keras.callbacks.ModelCheckpoint(\n",
        "                      filepath='/content/drive/My Drive/RNN_models/gru_1_100.h5',\n",
        "                      monitor='val_loss',\n",
        "                      save_best_only=True,\n",
        "                      ),\n",
        "                  tf.keras.callbacks.ReduceLROnPlateau(\n",
        "                      monitor='val_loss',\n",
        "                      factor=0.1,\n",
        "                      patience=2,\n",
        "                      ),\n",
        "                  tf.keras.callbacks.CSVLogger(\n",
        "                      filename = '/content/drive/My Drive/RNN_models/log_gru_1_100.csv', \n",
        "                      separator=',', \n",
        "                      append=False\n",
        "                      ),\n",
        "                  tf.keras.callbacks.TerminateOnNaN()\n",
        "                  ]"
      ],
      "execution_count": null,
      "outputs": []
    },
    {
      "cell_type": "code",
      "metadata": {
        "colab_type": "code",
        "id": "QCM8bNYXRM77",
        "colab": {
          "base_uri": "https://localhost:8080/",
          "height": 1000
        },
        "outputId": "b052b19d-d0e5-4494-aaf3-b79cdb4cb314"
      },
      "source": [
        "# let's train the model\n",
        "\n",
        "from numpy.random import seed\n",
        "seed(1)\n",
        "tf.random.set_seed(2)\n",
        "\n",
        "epochs = 100\n",
        "\n",
        "history_gru_1 = gru_1.fit(train_dataset,\n",
        "                            epochs=epochs,\n",
        "                            callbacks=callbacks_list_gru,\n",
        "                            validation_data=validation_dataset)"
      ],
      "execution_count": null,
      "outputs": [
        {
          "output_type": "stream",
          "text": [
            "Epoch 1/100\n",
            "109/109 [==============================] - 16s 145ms/step - acc: 0.3312 - loss: 2.1896 - val_acc: 0.3633 - val_loss: 1.5772 - lr: 0.0010\n",
            "Epoch 2/100\n",
            "109/109 [==============================] - 13s 123ms/step - acc: 0.4451 - loss: 1.4058 - val_acc: 0.4041 - val_loss: 1.4479 - lr: 0.0010\n",
            "Epoch 3/100\n",
            "109/109 [==============================] - 13s 123ms/step - acc: 0.4688 - loss: 1.3268 - val_acc: 0.4208 - val_loss: 1.4068 - lr: 0.0010\n",
            "Epoch 4/100\n",
            "109/109 [==============================] - 13s 119ms/step - acc: 0.4821 - loss: 1.2863 - val_acc: 0.4169 - val_loss: 1.4439 - lr: 0.0010\n",
            "Epoch 5/100\n",
            "109/109 [==============================] - 14s 125ms/step - acc: 0.4967 - loss: 1.2551 - val_acc: 0.4489 - val_loss: 1.3415 - lr: 0.0010\n",
            "Epoch 6/100\n",
            "109/109 [==============================] - 13s 124ms/step - acc: 0.5056 - loss: 1.2308 - val_acc: 0.4543 - val_loss: 1.3248 - lr: 0.0010\n",
            "Epoch 7/100\n",
            "109/109 [==============================] - 14s 124ms/step - acc: 0.5188 - loss: 1.2064 - val_acc: 0.4633 - val_loss: 1.2971 - lr: 0.0010\n",
            "Epoch 8/100\n",
            "109/109 [==============================] - 13s 122ms/step - acc: 0.5285 - loss: 1.1861 - val_acc: 0.4696 - val_loss: 1.2912 - lr: 0.0010\n",
            "Epoch 9/100\n",
            "109/109 [==============================] - 13s 122ms/step - acc: 0.5385 - loss: 1.1656 - val_acc: 0.4834 - val_loss: 1.2780 - lr: 0.0010\n",
            "Epoch 10/100\n",
            "109/109 [==============================] - 13s 123ms/step - acc: 0.5490 - loss: 1.1446 - val_acc: 0.4888 - val_loss: 1.2621 - lr: 0.0010\n",
            "Epoch 11/100\n",
            "109/109 [==============================] - 13s 120ms/step - acc: 0.5581 - loss: 1.1273 - val_acc: 0.4924 - val_loss: 1.2629 - lr: 0.0010\n",
            "Epoch 12/100\n",
            "109/109 [==============================] - 13s 122ms/step - acc: 0.5676 - loss: 1.1075 - val_acc: 0.5022 - val_loss: 1.2498 - lr: 0.0010\n",
            "Epoch 13/100\n",
            "109/109 [==============================] - 13s 122ms/step - acc: 0.5769 - loss: 1.0908 - val_acc: 0.5068 - val_loss: 1.2468 - lr: 0.0010\n",
            "Epoch 14/100\n",
            "109/109 [==============================] - 13s 123ms/step - acc: 0.5852 - loss: 1.0727 - val_acc: 0.5186 - val_loss: 1.2292 - lr: 0.0010\n",
            "Epoch 15/100\n",
            "109/109 [==============================] - 13s 122ms/step - acc: 0.5939 - loss: 1.0563 - val_acc: 0.5266 - val_loss: 1.2168 - lr: 0.0010\n",
            "Epoch 16/100\n",
            "109/109 [==============================] - 13s 121ms/step - acc: 0.6046 - loss: 1.0385 - val_acc: 0.5306 - val_loss: 1.2148 - lr: 0.0010\n",
            "Epoch 17/100\n",
            "109/109 [==============================] - 13s 123ms/step - acc: 0.6109 - loss: 1.0236 - val_acc: 0.5342 - val_loss: 1.2090 - lr: 0.0010\n",
            "Epoch 18/100\n",
            "109/109 [==============================] - 13s 120ms/step - acc: 0.6199 - loss: 1.0059 - val_acc: 0.5375 - val_loss: 1.2111 - lr: 0.0010\n",
            "Epoch 19/100\n",
            "109/109 [==============================] - 13s 119ms/step - acc: 0.6278 - loss: 0.9862 - val_acc: 0.5339 - val_loss: 1.2244 - lr: 0.0010\n",
            "Epoch 20/100\n",
            "109/109 [==============================] - 13s 123ms/step - acc: 0.6391 - loss: 0.9694 - val_acc: 0.5468 - val_loss: 1.1792 - lr: 1.0000e-04\n",
            "Epoch 21/100\n",
            "109/109 [==============================] - 13s 123ms/step - acc: 0.6472 - loss: 0.9532 - val_acc: 0.5481 - val_loss: 1.1773 - lr: 1.0000e-04\n",
            "Epoch 22/100\n",
            "109/109 [==============================] - 13s 119ms/step - acc: 0.6505 - loss: 0.9460 - val_acc: 0.5493 - val_loss: 1.1773 - lr: 1.0000e-04\n",
            "Epoch 23/100\n",
            "109/109 [==============================] - 13s 119ms/step - acc: 0.6528 - loss: 0.9405 - val_acc: 0.5491 - val_loss: 1.1775 - lr: 1.0000e-04\n",
            "Epoch 24/100\n",
            "109/109 [==============================] - 14s 126ms/step - acc: 0.6540 - loss: 0.9387 - val_acc: 0.5512 - val_loss: 1.1718 - lr: 1.0000e-05\n",
            "Epoch 25/100\n",
            "109/109 [==============================] - 13s 121ms/step - acc: 0.6549 - loss: 0.9363 - val_acc: 0.5521 - val_loss: 1.1698 - lr: 1.0000e-05\n",
            "Epoch 26/100\n",
            "109/109 [==============================] - 13s 123ms/step - acc: 0.6554 - loss: 0.9351 - val_acc: 0.5525 - val_loss: 1.1689 - lr: 1.0000e-05\n",
            "Epoch 27/100\n",
            "109/109 [==============================] - 13s 122ms/step - acc: 0.6559 - loss: 0.9343 - val_acc: 0.5526 - val_loss: 1.1683 - lr: 1.0000e-05\n",
            "Epoch 28/100\n",
            "109/109 [==============================] - 13s 120ms/step - acc: 0.6564 - loss: 0.9336 - val_acc: 0.5527 - val_loss: 1.1681 - lr: 1.0000e-05\n",
            "Epoch 29/100\n",
            "109/109 [==============================] - 13s 122ms/step - acc: 0.6567 - loss: 0.9330 - val_acc: 0.5529 - val_loss: 1.1679 - lr: 1.0000e-05\n",
            "Epoch 30/100\n",
            "109/109 [==============================] - 13s 121ms/step - acc: 0.6570 - loss: 0.9324 - val_acc: 0.5530 - val_loss: 1.1679 - lr: 1.0000e-05\n",
            "Epoch 31/100\n",
            "109/109 [==============================] - 13s 122ms/step - acc: 0.6573 - loss: 0.9319 - val_acc: 0.5528 - val_loss: 1.1678 - lr: 1.0000e-05\n",
            "Epoch 32/100\n",
            "109/109 [==============================] - 13s 121ms/step - acc: 0.6578 - loss: 0.9313 - val_acc: 0.5528 - val_loss: 1.1678 - lr: 1.0000e-05\n",
            "Epoch 33/100\n",
            "109/109 [==============================] - 13s 124ms/step - acc: 0.6581 - loss: 0.9308 - val_acc: 0.5530 - val_loss: 1.1679 - lr: 1.0000e-05\n",
            "Epoch 34/100\n",
            "109/109 [==============================] - 13s 119ms/step - acc: 0.6586 - loss: 0.9300 - val_acc: 0.5528 - val_loss: 1.1678 - lr: 1.0000e-06\n",
            "Epoch 35/100\n",
            "109/109 [==============================] - 13s 119ms/step - acc: 0.6587 - loss: 0.9299 - val_acc: 0.5527 - val_loss: 1.1679 - lr: 1.0000e-06\n",
            "Epoch 36/100\n",
            "109/109 [==============================] - 13s 119ms/step - acc: 0.6587 - loss: 0.9298 - val_acc: 0.5528 - val_loss: 1.1679 - lr: 1.0000e-07\n",
            "Epoch 37/100\n",
            "109/109 [==============================] - 13s 119ms/step - acc: 0.6586 - loss: 0.9298 - val_acc: 0.5528 - val_loss: 1.1679 - lr: 1.0000e-07\n",
            "Epoch 38/100\n",
            "109/109 [==============================] - 13s 119ms/step - acc: 0.6587 - loss: 0.9298 - val_acc: 0.5529 - val_loss: 1.1679 - lr: 1.0000e-08\n",
            "Epoch 39/100\n",
            "109/109 [==============================] - 13s 119ms/step - acc: 0.6587 - loss: 0.9298 - val_acc: 0.5528 - val_loss: 1.1679 - lr: 1.0000e-08\n",
            "Epoch 40/100\n",
            "109/109 [==============================] - 13s 119ms/step - acc: 0.6587 - loss: 0.9298 - val_acc: 0.5527 - val_loss: 1.1679 - lr: 1.0000e-09\n"
          ],
          "name": "stdout"
        }
      ]
    },
    {
      "cell_type": "code",
      "metadata": {
        "colab_type": "code",
        "id": "j0SdvGGJRM79",
        "colab": {
          "base_uri": "https://localhost:8080/",
          "height": 535
        },
        "outputId": "6f322f9a-bee6-4601-d5e7-a3c9fdb6d287"
      },
      "source": [
        "# save the history of the model\n",
        "\n",
        "import pickle \n",
        "\n",
        "with open('/content/drive/My Drive/RNN_models/history_gru_1_100', 'wb') as f:\n",
        "  pickle.dump(history_gru_1.history, f)\n",
        "\n",
        "# plot the history of the model\n",
        "\n",
        "%matplotlib inline\n",
        "\n",
        "fig, axes = plt.subplots(nrows=1, ncols=2, figsize=(20, 10))\n",
        "\n",
        "axes[0].plot(history_gru_1.history['acc'])\n",
        "axes[0].plot(history_gru_1.history['val_acc'])\n",
        "axes[0].set_title('model accuracy')\n",
        "axes[0].set_ylabel('accuracy')\n",
        "axes[0].set_xlabel('epoch')\n",
        "axes[0].legend(['train', 'val'], loc='upper left')\n",
        "\n",
        "axes[1].plot(history_gru_1.history['loss'])\n",
        "axes[1].plot(history_gru_1.history['val_loss'])\n",
        "axes[1].set_title('model loss')\n",
        "axes[1].set_ylabel('loss')\n",
        "axes[1].set_xlabel('epoch')\n",
        "axes[1].legend(['train', 'val'], loc='upper left')\n",
        "\n",
        "fig.tight_layout()"
      ],
      "execution_count": null,
      "outputs": [
        {
          "output_type": "display_data",
          "data": {
            "image/png": "[encoded data removed]",
            "text/plain": [
              "<Figure size 1440x720 with 2 Axes>"
            ]
          },
          "metadata": {
            "tags": [],
            "needs_background": "light"
          }
        }
      ]
    },
    {
      "cell_type": "code",
      "metadata": {
        "colab_type": "code",
        "id": "Oe9VXxvzRM7-",
        "colab": {
          "base_uri": "https://localhost:8080/",
          "height": 50
        },
        "outputId": "5e97e7b6-9b9e-4ada-bdb0-d027890f8ad4"
      },
      "source": [
        "# let's evaluate the model on test data\n",
        "\n",
        "test_loss, test_acc = gru_1.evaluate(test_dataset)\n",
        "\n",
        "print('test loss: {}, test Accuracy: {}'.format(test_loss, test_acc))"
      ],
      "execution_count": null,
      "outputs": [
        {
          "output_type": "stream",
          "text": [
            "17/17 [==============================] - 2s 109ms/step - acc: 0.5425 - loss: 1.2059\n",
            "test loss: 1.2058913707733154, test Accuracy: 0.5424900650978088\n"
          ],
          "name": "stdout"
        }
      ]
    },
    {
      "cell_type": "markdown",
      "metadata": {
        "colab_type": "text",
        "id": "2CpZaan9RM8A"
      },
      "source": [
        "**WOWWWWWWWWWWWWWWWWWWWWWWWWWWWWWWWWWW, SO FAST USING TPU WITH 8 CORES !!!!!!!!!!!!!!!!!!!!!!!!!!**\n"
      ]
    }
  ]
}